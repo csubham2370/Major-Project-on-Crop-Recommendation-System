{
  "nbformat": 4,
  "nbformat_minor": 0,
  "metadata": {
    "colab": {
      "provenance": [],
      "include_colab_link": true
    },
    "kernelspec": {
      "name": "python3",
      "display_name": "Python 3"
    },
    "language_info": {
      "name": "python"
    }
  },
  "cells": [
    {
      "cell_type": "markdown",
      "metadata": {
        "id": "view-in-github",
        "colab_type": "text"
      },
      "source": [
        "<a href=\"https://colab.research.google.com/github/csubham2370/Major-Project-on-Crop-Recommendation-System/blob/main/Crop_Recommendation_System.ipynb\" target=\"_parent\"><img src=\"https://colab.research.google.com/assets/colab-badge.svg\" alt=\"Open In Colab\"/></a>"
      ]
    },
    {
      "cell_type": "markdown",
      "source": [
        "By combining these imports, you're setting up your Python environment for data analysis, visualization, and machine learning tasks while also configuring it to handle warnings in a specific way."
      ],
      "metadata": {
        "id": "r58EWITjzW5M"
      }
    },
    {
      "cell_type": "code",
      "source": [
        "# Importing libraries\n",
        "\n",
        "from __future__ import print_function\n",
        "import pandas as pd\n",
        "import numpy as np\n",
        "import matplotlib.pyplot as plt\n",
        "import seaborn as sns\n",
        "from sklearn.metrics import classification_report\n",
        "from sklearn import metrics\n",
        "from sklearn import tree\n",
        "import warnings\n",
        "warnings.filterwarnings('ignore')"
      ],
      "metadata": {
        "id": "kd_SRaff2ZaL"
      },
      "execution_count": 102,
      "outputs": []
    },
    {
      "cell_type": "markdown",
      "source": [
        "# Upload a file on Google Colab\n",
        "This code allows the user to upload a file from their local system to a Google Colab notebook environment, and the uploaded file(s) information is stored in the uploaded variable for further processing within the notebook."
      ],
      "metadata": {
        "id": "JkqR8SnA2k8Z"
      }
    },
    {
      "cell_type": "code",
      "source": [
        "# from google.colab import files\n",
        "\n",
        "# # Upload a file\n",
        "# uploaded = files.upload()\n",
        "\n",
        "from google.colab import drive\n",
        "drive.mount('/content/gdrive')"
      ],
      "metadata": {
        "colab": {
          "base_uri": "https://localhost:8080/"
        },
        "id": "RGTF-GWp2osw",
        "outputId": "8874db0a-a25b-4a7c-f500-0b5314d85450"
      },
      "execution_count": 103,
      "outputs": [
        {
          "output_type": "stream",
          "name": "stdout",
          "text": [
            "Drive already mounted at /content/gdrive; to attempt to forcibly remount, call drive.mount(\"/content/gdrive\", force_remount=True).\n"
          ]
        }
      ]
    },
    {
      "cell_type": "markdown",
      "source": [
        "# Importing the Data\n",
        "This code reads the contents of a CSV file named 'modified_crop.csv' using Pandas and stores it in a DataFrame named crop for further processing and analysis in Python.\n"
      ],
      "metadata": {
        "id": "teaDJu314J71"
      }
    },
    {
      "cell_type": "code",
      "source": [
        "crop = pd.read_csv('/content/gdrive/My Drive/modified_crop.csv')\n",
        "crop"
      ],
      "metadata": {
        "colab": {
          "base_uri": "https://localhost:8080/",
          "height": 443
        },
        "id": "vlv0JUCU4RgF",
        "outputId": "89b1ce42-d192-4ad3-cf03-ac4fc2b5017f"
      },
      "execution_count": 104,
      "outputs": [
        {
          "output_type": "execute_result",
          "data": {
            "text/plain": [
              "         N     P     K  temperature   humidity        ph    rainfall  \\\n",
              "0     90.0  42.0  43.0    20.879744  82.002744  6.502985  202.935536   \n",
              "1     85.0  58.0  41.0    21.770462  80.319644  7.038096  226.655537   \n",
              "2     60.0  55.0  44.0    23.004459  82.320763  7.840207  263.964248   \n",
              "3     74.0  35.0  40.0    26.491096  80.158363  6.980401  242.864034   \n",
              "4     78.0  42.0  42.0    20.130175  81.604873  7.628473  262.717340   \n",
              "...    ...   ...   ...          ...        ...       ...         ...   \n",
              "2545   8.0  28.0  38.0    23.225940  94.429714  6.844402  105.691786   \n",
              "2546  52.0  68.0  78.0    17.485041  16.960706  6.896552   86.050780   \n",
              "2547  13.0  47.0  20.0    29.217800  87.937242  6.544502   43.138663   \n",
              "2548  74.0  46.0  45.0    25.757349  88.366685  6.025029  189.426348   \n",
              "2549   2.0  30.0  30.0    26.001751  94.799984  6.331052  209.540094   \n",
              "\n",
              "            label  \n",
              "0            rice  \n",
              "1            rice  \n",
              "2            rice  \n",
              "3            rice  \n",
              "4            rice  \n",
              "...           ...  \n",
              "2545  pomegranate  \n",
              "2546     chickpea  \n",
              "2547     mungbean  \n",
              "2548         jute  \n",
              "2549      coconut  \n",
              "\n",
              "[2550 rows x 8 columns]"
            ],
            "text/html": [
              "\n",
              "  <div id=\"df-21a23ffb-f43c-412d-be85-5e5ea870f522\" class=\"colab-df-container\">\n",
              "    <div>\n",
              "<style scoped>\n",
              "    .dataframe tbody tr th:only-of-type {\n",
              "        vertical-align: middle;\n",
              "    }\n",
              "\n",
              "    .dataframe tbody tr th {\n",
              "        vertical-align: top;\n",
              "    }\n",
              "\n",
              "    .dataframe thead th {\n",
              "        text-align: right;\n",
              "    }\n",
              "</style>\n",
              "<table border=\"1\" class=\"dataframe\">\n",
              "  <thead>\n",
              "    <tr style=\"text-align: right;\">\n",
              "      <th></th>\n",
              "      <th>N</th>\n",
              "      <th>P</th>\n",
              "      <th>K</th>\n",
              "      <th>temperature</th>\n",
              "      <th>humidity</th>\n",
              "      <th>ph</th>\n",
              "      <th>rainfall</th>\n",
              "      <th>label</th>\n",
              "    </tr>\n",
              "  </thead>\n",
              "  <tbody>\n",
              "    <tr>\n",
              "      <th>0</th>\n",
              "      <td>90.0</td>\n",
              "      <td>42.0</td>\n",
              "      <td>43.0</td>\n",
              "      <td>20.879744</td>\n",
              "      <td>82.002744</td>\n",
              "      <td>6.502985</td>\n",
              "      <td>202.935536</td>\n",
              "      <td>rice</td>\n",
              "    </tr>\n",
              "    <tr>\n",
              "      <th>1</th>\n",
              "      <td>85.0</td>\n",
              "      <td>58.0</td>\n",
              "      <td>41.0</td>\n",
              "      <td>21.770462</td>\n",
              "      <td>80.319644</td>\n",
              "      <td>7.038096</td>\n",
              "      <td>226.655537</td>\n",
              "      <td>rice</td>\n",
              "    </tr>\n",
              "    <tr>\n",
              "      <th>2</th>\n",
              "      <td>60.0</td>\n",
              "      <td>55.0</td>\n",
              "      <td>44.0</td>\n",
              "      <td>23.004459</td>\n",
              "      <td>82.320763</td>\n",
              "      <td>7.840207</td>\n",
              "      <td>263.964248</td>\n",
              "      <td>rice</td>\n",
              "    </tr>\n",
              "    <tr>\n",
              "      <th>3</th>\n",
              "      <td>74.0</td>\n",
              "      <td>35.0</td>\n",
              "      <td>40.0</td>\n",
              "      <td>26.491096</td>\n",
              "      <td>80.158363</td>\n",
              "      <td>6.980401</td>\n",
              "      <td>242.864034</td>\n",
              "      <td>rice</td>\n",
              "    </tr>\n",
              "    <tr>\n",
              "      <th>4</th>\n",
              "      <td>78.0</td>\n",
              "      <td>42.0</td>\n",
              "      <td>42.0</td>\n",
              "      <td>20.130175</td>\n",
              "      <td>81.604873</td>\n",
              "      <td>7.628473</td>\n",
              "      <td>262.717340</td>\n",
              "      <td>rice</td>\n",
              "    </tr>\n",
              "    <tr>\n",
              "      <th>...</th>\n",
              "      <td>...</td>\n",
              "      <td>...</td>\n",
              "      <td>...</td>\n",
              "      <td>...</td>\n",
              "      <td>...</td>\n",
              "      <td>...</td>\n",
              "      <td>...</td>\n",
              "      <td>...</td>\n",
              "    </tr>\n",
              "    <tr>\n",
              "      <th>2545</th>\n",
              "      <td>8.0</td>\n",
              "      <td>28.0</td>\n",
              "      <td>38.0</td>\n",
              "      <td>23.225940</td>\n",
              "      <td>94.429714</td>\n",
              "      <td>6.844402</td>\n",
              "      <td>105.691786</td>\n",
              "      <td>pomegranate</td>\n",
              "    </tr>\n",
              "    <tr>\n",
              "      <th>2546</th>\n",
              "      <td>52.0</td>\n",
              "      <td>68.0</td>\n",
              "      <td>78.0</td>\n",
              "      <td>17.485041</td>\n",
              "      <td>16.960706</td>\n",
              "      <td>6.896552</td>\n",
              "      <td>86.050780</td>\n",
              "      <td>chickpea</td>\n",
              "    </tr>\n",
              "    <tr>\n",
              "      <th>2547</th>\n",
              "      <td>13.0</td>\n",
              "      <td>47.0</td>\n",
              "      <td>20.0</td>\n",
              "      <td>29.217800</td>\n",
              "      <td>87.937242</td>\n",
              "      <td>6.544502</td>\n",
              "      <td>43.138663</td>\n",
              "      <td>mungbean</td>\n",
              "    </tr>\n",
              "    <tr>\n",
              "      <th>2548</th>\n",
              "      <td>74.0</td>\n",
              "      <td>46.0</td>\n",
              "      <td>45.0</td>\n",
              "      <td>25.757349</td>\n",
              "      <td>88.366685</td>\n",
              "      <td>6.025029</td>\n",
              "      <td>189.426348</td>\n",
              "      <td>jute</td>\n",
              "    </tr>\n",
              "    <tr>\n",
              "      <th>2549</th>\n",
              "      <td>2.0</td>\n",
              "      <td>30.0</td>\n",
              "      <td>30.0</td>\n",
              "      <td>26.001751</td>\n",
              "      <td>94.799984</td>\n",
              "      <td>6.331052</td>\n",
              "      <td>209.540094</td>\n",
              "      <td>coconut</td>\n",
              "    </tr>\n",
              "  </tbody>\n",
              "</table>\n",
              "<p>2550 rows × 8 columns</p>\n",
              "</div>\n",
              "    <div class=\"colab-df-buttons\">\n",
              "\n",
              "  <div class=\"colab-df-container\">\n",
              "    <button class=\"colab-df-convert\" onclick=\"convertToInteractive('df-21a23ffb-f43c-412d-be85-5e5ea870f522')\"\n",
              "            title=\"Convert this dataframe to an interactive table.\"\n",
              "            style=\"display:none;\">\n",
              "\n",
              "  <svg xmlns=\"http://www.w3.org/2000/svg\" height=\"24px\" viewBox=\"0 -960 960 960\">\n",
              "    <path d=\"M120-120v-720h720v720H120Zm60-500h600v-160H180v160Zm220 220h160v-160H400v160Zm0 220h160v-160H400v160ZM180-400h160v-160H180v160Zm440 0h160v-160H620v160ZM180-180h160v-160H180v160Zm440 0h160v-160H620v160Z\"/>\n",
              "  </svg>\n",
              "    </button>\n",
              "\n",
              "  <style>\n",
              "    .colab-df-container {\n",
              "      display:flex;\n",
              "      gap: 12px;\n",
              "    }\n",
              "\n",
              "    .colab-df-convert {\n",
              "      background-color: #E8F0FE;\n",
              "      border: none;\n",
              "      border-radius: 50%;\n",
              "      cursor: pointer;\n",
              "      display: none;\n",
              "      fill: #1967D2;\n",
              "      height: 32px;\n",
              "      padding: 0 0 0 0;\n",
              "      width: 32px;\n",
              "    }\n",
              "\n",
              "    .colab-df-convert:hover {\n",
              "      background-color: #E2EBFA;\n",
              "      box-shadow: 0px 1px 2px rgba(60, 64, 67, 0.3), 0px 1px 3px 1px rgba(60, 64, 67, 0.15);\n",
              "      fill: #174EA6;\n",
              "    }\n",
              "\n",
              "    .colab-df-buttons div {\n",
              "      margin-bottom: 4px;\n",
              "    }\n",
              "\n",
              "    [theme=dark] .colab-df-convert {\n",
              "      background-color: #3B4455;\n",
              "      fill: #D2E3FC;\n",
              "    }\n",
              "\n",
              "    [theme=dark] .colab-df-convert:hover {\n",
              "      background-color: #434B5C;\n",
              "      box-shadow: 0px 1px 3px 1px rgba(0, 0, 0, 0.15);\n",
              "      filter: drop-shadow(0px 1px 2px rgba(0, 0, 0, 0.3));\n",
              "      fill: #FFFFFF;\n",
              "    }\n",
              "  </style>\n",
              "\n",
              "    <script>\n",
              "      const buttonEl =\n",
              "        document.querySelector('#df-21a23ffb-f43c-412d-be85-5e5ea870f522 button.colab-df-convert');\n",
              "      buttonEl.style.display =\n",
              "        google.colab.kernel.accessAllowed ? 'block' : 'none';\n",
              "\n",
              "      async function convertToInteractive(key) {\n",
              "        const element = document.querySelector('#df-21a23ffb-f43c-412d-be85-5e5ea870f522');\n",
              "        const dataTable =\n",
              "          await google.colab.kernel.invokeFunction('convertToInteractive',\n",
              "                                                    [key], {});\n",
              "        if (!dataTable) return;\n",
              "\n",
              "        const docLinkHtml = 'Like what you see? Visit the ' +\n",
              "          '<a target=\"_blank\" href=https://colab.research.google.com/notebooks/data_table.ipynb>data table notebook</a>'\n",
              "          + ' to learn more about interactive tables.';\n",
              "        element.innerHTML = '';\n",
              "        dataTable['output_type'] = 'display_data';\n",
              "        await google.colab.output.renderOutput(dataTable, element);\n",
              "        const docLink = document.createElement('div');\n",
              "        docLink.innerHTML = docLinkHtml;\n",
              "        element.appendChild(docLink);\n",
              "      }\n",
              "    </script>\n",
              "  </div>\n",
              "\n",
              "\n",
              "<div id=\"df-ed1129d9-57c6-4d70-8336-58992fa6e714\">\n",
              "  <button class=\"colab-df-quickchart\" onclick=\"quickchart('df-ed1129d9-57c6-4d70-8336-58992fa6e714')\"\n",
              "            title=\"Suggest charts\"\n",
              "            style=\"display:none;\">\n",
              "\n",
              "<svg xmlns=\"http://www.w3.org/2000/svg\" height=\"24px\"viewBox=\"0 0 24 24\"\n",
              "     width=\"24px\">\n",
              "    <g>\n",
              "        <path d=\"M19 3H5c-1.1 0-2 .9-2 2v14c0 1.1.9 2 2 2h14c1.1 0 2-.9 2-2V5c0-1.1-.9-2-2-2zM9 17H7v-7h2v7zm4 0h-2V7h2v10zm4 0h-2v-4h2v4z\"/>\n",
              "    </g>\n",
              "</svg>\n",
              "  </button>\n",
              "\n",
              "<style>\n",
              "  .colab-df-quickchart {\n",
              "      --bg-color: #E8F0FE;\n",
              "      --fill-color: #1967D2;\n",
              "      --hover-bg-color: #E2EBFA;\n",
              "      --hover-fill-color: #174EA6;\n",
              "      --disabled-fill-color: #AAA;\n",
              "      --disabled-bg-color: #DDD;\n",
              "  }\n",
              "\n",
              "  [theme=dark] .colab-df-quickchart {\n",
              "      --bg-color: #3B4455;\n",
              "      --fill-color: #D2E3FC;\n",
              "      --hover-bg-color: #434B5C;\n",
              "      --hover-fill-color: #FFFFFF;\n",
              "      --disabled-bg-color: #3B4455;\n",
              "      --disabled-fill-color: #666;\n",
              "  }\n",
              "\n",
              "  .colab-df-quickchart {\n",
              "    background-color: var(--bg-color);\n",
              "    border: none;\n",
              "    border-radius: 50%;\n",
              "    cursor: pointer;\n",
              "    display: none;\n",
              "    fill: var(--fill-color);\n",
              "    height: 32px;\n",
              "    padding: 0;\n",
              "    width: 32px;\n",
              "  }\n",
              "\n",
              "  .colab-df-quickchart:hover {\n",
              "    background-color: var(--hover-bg-color);\n",
              "    box-shadow: 0 1px 2px rgba(60, 64, 67, 0.3), 0 1px 3px 1px rgba(60, 64, 67, 0.15);\n",
              "    fill: var(--button-hover-fill-color);\n",
              "  }\n",
              "\n",
              "  .colab-df-quickchart-complete:disabled,\n",
              "  .colab-df-quickchart-complete:disabled:hover {\n",
              "    background-color: var(--disabled-bg-color);\n",
              "    fill: var(--disabled-fill-color);\n",
              "    box-shadow: none;\n",
              "  }\n",
              "\n",
              "  .colab-df-spinner {\n",
              "    border: 2px solid var(--fill-color);\n",
              "    border-color: transparent;\n",
              "    border-bottom-color: var(--fill-color);\n",
              "    animation:\n",
              "      spin 1s steps(1) infinite;\n",
              "  }\n",
              "\n",
              "  @keyframes spin {\n",
              "    0% {\n",
              "      border-color: transparent;\n",
              "      border-bottom-color: var(--fill-color);\n",
              "      border-left-color: var(--fill-color);\n",
              "    }\n",
              "    20% {\n",
              "      border-color: transparent;\n",
              "      border-left-color: var(--fill-color);\n",
              "      border-top-color: var(--fill-color);\n",
              "    }\n",
              "    30% {\n",
              "      border-color: transparent;\n",
              "      border-left-color: var(--fill-color);\n",
              "      border-top-color: var(--fill-color);\n",
              "      border-right-color: var(--fill-color);\n",
              "    }\n",
              "    40% {\n",
              "      border-color: transparent;\n",
              "      border-right-color: var(--fill-color);\n",
              "      border-top-color: var(--fill-color);\n",
              "    }\n",
              "    60% {\n",
              "      border-color: transparent;\n",
              "      border-right-color: var(--fill-color);\n",
              "    }\n",
              "    80% {\n",
              "      border-color: transparent;\n",
              "      border-right-color: var(--fill-color);\n",
              "      border-bottom-color: var(--fill-color);\n",
              "    }\n",
              "    90% {\n",
              "      border-color: transparent;\n",
              "      border-bottom-color: var(--fill-color);\n",
              "    }\n",
              "  }\n",
              "</style>\n",
              "\n",
              "  <script>\n",
              "    async function quickchart(key) {\n",
              "      const quickchartButtonEl =\n",
              "        document.querySelector('#' + key + ' button');\n",
              "      quickchartButtonEl.disabled = true;  // To prevent multiple clicks.\n",
              "      quickchartButtonEl.classList.add('colab-df-spinner');\n",
              "      try {\n",
              "        const charts = await google.colab.kernel.invokeFunction(\n",
              "            'suggestCharts', [key], {});\n",
              "      } catch (error) {\n",
              "        console.error('Error during call to suggestCharts:', error);\n",
              "      }\n",
              "      quickchartButtonEl.classList.remove('colab-df-spinner');\n",
              "      quickchartButtonEl.classList.add('colab-df-quickchart-complete');\n",
              "    }\n",
              "    (() => {\n",
              "      let quickchartButtonEl =\n",
              "        document.querySelector('#df-ed1129d9-57c6-4d70-8336-58992fa6e714 button');\n",
              "      quickchartButtonEl.style.display =\n",
              "        google.colab.kernel.accessAllowed ? 'block' : 'none';\n",
              "    })();\n",
              "  </script>\n",
              "</div>\n",
              "\n",
              "  <div id=\"id_05b458e5-2ed1-4218-9db7-21d5987e74b5\">\n",
              "    <style>\n",
              "      .colab-df-generate {\n",
              "        background-color: #E8F0FE;\n",
              "        border: none;\n",
              "        border-radius: 50%;\n",
              "        cursor: pointer;\n",
              "        display: none;\n",
              "        fill: #1967D2;\n",
              "        height: 32px;\n",
              "        padding: 0 0 0 0;\n",
              "        width: 32px;\n",
              "      }\n",
              "\n",
              "      .colab-df-generate:hover {\n",
              "        background-color: #E2EBFA;\n",
              "        box-shadow: 0px 1px 2px rgba(60, 64, 67, 0.3), 0px 1px 3px 1px rgba(60, 64, 67, 0.15);\n",
              "        fill: #174EA6;\n",
              "      }\n",
              "\n",
              "      [theme=dark] .colab-df-generate {\n",
              "        background-color: #3B4455;\n",
              "        fill: #D2E3FC;\n",
              "      }\n",
              "\n",
              "      [theme=dark] .colab-df-generate:hover {\n",
              "        background-color: #434B5C;\n",
              "        box-shadow: 0px 1px 3px 1px rgba(0, 0, 0, 0.15);\n",
              "        filter: drop-shadow(0px 1px 2px rgba(0, 0, 0, 0.3));\n",
              "        fill: #FFFFFF;\n",
              "      }\n",
              "    </style>\n",
              "    <button class=\"colab-df-generate\" onclick=\"generateWithVariable('crop')\"\n",
              "            title=\"Generate code using this dataframe.\"\n",
              "            style=\"display:none;\">\n",
              "\n",
              "  <svg xmlns=\"http://www.w3.org/2000/svg\" height=\"24px\"viewBox=\"0 0 24 24\"\n",
              "       width=\"24px\">\n",
              "    <path d=\"M7,19H8.4L18.45,9,17,7.55,7,17.6ZM5,21V16.75L18.45,3.32a2,2,0,0,1,2.83,0l1.4,1.43a1.91,1.91,0,0,1,.58,1.4,1.91,1.91,0,0,1-.58,1.4L9.25,21ZM18.45,9,17,7.55Zm-12,3A5.31,5.31,0,0,0,4.9,8.1,5.31,5.31,0,0,0,1,6.5,5.31,5.31,0,0,0,4.9,4.9,5.31,5.31,0,0,0,6.5,1,5.31,5.31,0,0,0,8.1,4.9,5.31,5.31,0,0,0,12,6.5,5.46,5.46,0,0,0,6.5,12Z\"/>\n",
              "  </svg>\n",
              "    </button>\n",
              "    <script>\n",
              "      (() => {\n",
              "      const buttonEl =\n",
              "        document.querySelector('#id_05b458e5-2ed1-4218-9db7-21d5987e74b5 button.colab-df-generate');\n",
              "      buttonEl.style.display =\n",
              "        google.colab.kernel.accessAllowed ? 'block' : 'none';\n",
              "\n",
              "      buttonEl.onclick = () => {\n",
              "        google.colab.notebook.generateWithVariable('crop');\n",
              "      }\n",
              "      })();\n",
              "    </script>\n",
              "  </div>\n",
              "\n",
              "    </div>\n",
              "  </div>\n"
            ],
            "application/vnd.google.colaboratory.intrinsic+json": {
              "type": "dataframe",
              "variable_name": "crop",
              "summary": "{\n  \"name\": \"crop\",\n  \"rows\": 2550,\n  \"fields\": [\n    {\n      \"column\": \"N\",\n      \"properties\": {\n        \"dtype\": \"number\",\n        \"std\": 37.02795393364399,\n        \"min\": 0.0,\n        \"max\": 140.0,\n        \"num_unique_values\": 137,\n        \"samples\": [\n          106.0,\n          101.0,\n          88.0\n        ],\n        \"semantic_type\": \"\",\n        \"description\": \"\"\n      }\n    },\n    {\n      \"column\": \"P\",\n      \"properties\": {\n        \"dtype\": \"number\",\n        \"std\": 33.06797343712401,\n        \"min\": 5.0,\n        \"max\": 145.0,\n        \"num_unique_values\": 117,\n        \"samples\": [\n          69.0,\n          37.0,\n          11.0\n        ],\n        \"semantic_type\": \"\",\n        \"description\": \"\"\n      }\n    },\n    {\n      \"column\": \"K\",\n      \"properties\": {\n        \"dtype\": \"number\",\n        \"std\": 50.7186931179691,\n        \"min\": 5.0,\n        \"max\": 205.0,\n        \"num_unique_values\": 73,\n        \"samples\": [\n          42.0,\n          12.0,\n          15.0\n        ],\n        \"semantic_type\": \"\",\n        \"description\": \"\"\n      }\n    },\n    {\n      \"column\": \"temperature\",\n      \"properties\": {\n        \"dtype\": \"number\",\n        \"std\": 5.07515686509506,\n        \"min\": 8.825674745,\n        \"max\": 43.67549305,\n        \"num_unique_values\": 2178,\n        \"samples\": [\n          19.95264829,\n          34.6455408,\n          24.9103226\n        ],\n        \"semantic_type\": \"\",\n        \"description\": \"\"\n      }\n    },\n    {\n      \"column\": \"humidity\",\n      \"properties\": {\n        \"dtype\": \"number\",\n        \"std\": 22.3958869658398,\n        \"min\": 14.25803981,\n        \"max\": 99.98187601,\n        \"num_unique_values\": 2183,\n        \"samples\": [\n          18.09665739,\n          22.27512704,\n          43.58788762\n        ],\n        \"semantic_type\": \"\",\n        \"description\": \"\"\n      }\n    },\n    {\n      \"column\": \"ph\",\n      \"properties\": {\n        \"dtype\": \"number\",\n        \"std\": 0.769480159237222,\n        \"min\": 3.504752314,\n        \"max\": 9.93509073,\n        \"num_unique_values\": 2184,\n        \"samples\": [\n          6.489389282,\n          5.948164454,\n          4.524171562\n        ],\n        \"semantic_type\": \"\",\n        \"description\": \"\"\n      }\n    },\n    {\n      \"column\": \"rainfall\",\n      \"properties\": {\n        \"dtype\": \"number\",\n        \"std\": 54.42081122013706,\n        \"min\": 20.21126747,\n        \"max\": 298.5601175,\n        \"num_unique_values\": 2179,\n        \"samples\": [\n          88.6810311,\n          180.9009998,\n          44.20656987\n        ],\n        \"semantic_type\": \"\",\n        \"description\": \"\"\n      }\n    },\n    {\n      \"column\": \"label\",\n      \"properties\": {\n        \"dtype\": \"category\",\n        \"num_unique_values\": 22,\n        \"samples\": [\n          \"rice\",\n          \"watermelon\",\n          \"lentil\"\n        ],\n        \"semantic_type\": \"\",\n        \"description\": \"\"\n      }\n    }\n  ]\n}"
            }
          },
          "metadata": {},
          "execution_count": 104
        }
      ]
    },
    {
      "cell_type": "markdown",
      "source": [
        "# crop.shape\n",
        "This code is use for quickly check the size of your DataFrame, which is especially useful when dealing with large datasets or when you need to understand the structure of the data you're working with.\n",
        "\n",
        "For example, if you run crop.shape and it returns (100, 5), it means that the DataFrame crop has 100 rows and 5 columns. and the number of elements is 500."
      ],
      "metadata": {
        "id": "5JRE86l040SU"
      }
    },
    {
      "cell_type": "code",
      "source": [
        "crop.shape"
      ],
      "metadata": {
        "colab": {
          "base_uri": "https://localhost:8080/"
        },
        "id": "Qrp_ykhj44p2",
        "outputId": "2e339b11-aa1c-46c7-a2e6-3ac779525854"
      },
      "execution_count": 105,
      "outputs": [
        {
          "output_type": "execute_result",
          "data": {
            "text/plain": [
              "(2550, 8)"
            ]
          },
          "metadata": {},
          "execution_count": 105
        }
      ]
    },
    {
      "cell_type": "markdown",
      "source": [
        "# crop.info()\n",
        "By using crop.info(), you can quickly get an overview of the DataFrame, including its size, data types, and missing values, which is useful for initial data exploration and understanding the dataset's characteristics."
      ],
      "metadata": {
        "id": "efO8G09P5vIx"
      }
    },
    {
      "cell_type": "code",
      "source": [
        "crop.info()"
      ],
      "metadata": {
        "colab": {
          "base_uri": "https://localhost:8080/"
        },
        "id": "MTs6jIk752QQ",
        "outputId": "41e10aab-de82-4216-c3dc-e74aafd1bf02"
      },
      "execution_count": 106,
      "outputs": [
        {
          "output_type": "stream",
          "name": "stdout",
          "text": [
            "<class 'pandas.core.frame.DataFrame'>\n",
            "RangeIndex: 2550 entries, 0 to 2549\n",
            "Data columns (total 8 columns):\n",
            " #   Column       Non-Null Count  Dtype  \n",
            "---  ------       --------------  -----  \n",
            " 0   N            2530 non-null   float64\n",
            " 1   P            2531 non-null   float64\n",
            " 2   K            2528 non-null   float64\n",
            " 3   temperature  2524 non-null   float64\n",
            " 4   humidity     2532 non-null   float64\n",
            " 5   ph           2533 non-null   float64\n",
            " 6   rainfall     2529 non-null   float64\n",
            " 7   label        2529 non-null   object \n",
            "dtypes: float64(7), object(1)\n",
            "memory usage: 159.5+ KB\n"
          ]
        }
      ]
    },
    {
      "cell_type": "markdown",
      "source": [
        "# crop.head()\n",
        "The purpose of using head() is to quickly inspect the structure and content of the DataFrame. It's often used as an initial step in data analysis to get a sense of what the data looks like before performing further operations. By examining the first few rows, you can check the column names, data types, and example values in the DataFrame."
      ],
      "metadata": {
        "id": "ZnK_kVD26fyi"
      }
    },
    {
      "cell_type": "code",
      "source": [
        "crop.head()"
      ],
      "metadata": {
        "colab": {
          "base_uri": "https://localhost:8080/",
          "height": 206
        },
        "id": "cCGGZ3Ai6mJ8",
        "outputId": "be83475a-cae3-41a6-9507-2a891a7906c5"
      },
      "execution_count": 107,
      "outputs": [
        {
          "output_type": "execute_result",
          "data": {
            "text/plain": [
              "      N     P     K  temperature   humidity        ph    rainfall label\n",
              "0  90.0  42.0  43.0    20.879744  82.002744  6.502985  202.935536  rice\n",
              "1  85.0  58.0  41.0    21.770462  80.319644  7.038096  226.655537  rice\n",
              "2  60.0  55.0  44.0    23.004459  82.320763  7.840207  263.964248  rice\n",
              "3  74.0  35.0  40.0    26.491096  80.158363  6.980401  242.864034  rice\n",
              "4  78.0  42.0  42.0    20.130175  81.604873  7.628473  262.717340  rice"
            ],
            "text/html": [
              "\n",
              "  <div id=\"df-4750b2aa-ccf7-48a5-a7bc-b22223f5d9c3\" class=\"colab-df-container\">\n",
              "    <div>\n",
              "<style scoped>\n",
              "    .dataframe tbody tr th:only-of-type {\n",
              "        vertical-align: middle;\n",
              "    }\n",
              "\n",
              "    .dataframe tbody tr th {\n",
              "        vertical-align: top;\n",
              "    }\n",
              "\n",
              "    .dataframe thead th {\n",
              "        text-align: right;\n",
              "    }\n",
              "</style>\n",
              "<table border=\"1\" class=\"dataframe\">\n",
              "  <thead>\n",
              "    <tr style=\"text-align: right;\">\n",
              "      <th></th>\n",
              "      <th>N</th>\n",
              "      <th>P</th>\n",
              "      <th>K</th>\n",
              "      <th>temperature</th>\n",
              "      <th>humidity</th>\n",
              "      <th>ph</th>\n",
              "      <th>rainfall</th>\n",
              "      <th>label</th>\n",
              "    </tr>\n",
              "  </thead>\n",
              "  <tbody>\n",
              "    <tr>\n",
              "      <th>0</th>\n",
              "      <td>90.0</td>\n",
              "      <td>42.0</td>\n",
              "      <td>43.0</td>\n",
              "      <td>20.879744</td>\n",
              "      <td>82.002744</td>\n",
              "      <td>6.502985</td>\n",
              "      <td>202.935536</td>\n",
              "      <td>rice</td>\n",
              "    </tr>\n",
              "    <tr>\n",
              "      <th>1</th>\n",
              "      <td>85.0</td>\n",
              "      <td>58.0</td>\n",
              "      <td>41.0</td>\n",
              "      <td>21.770462</td>\n",
              "      <td>80.319644</td>\n",
              "      <td>7.038096</td>\n",
              "      <td>226.655537</td>\n",
              "      <td>rice</td>\n",
              "    </tr>\n",
              "    <tr>\n",
              "      <th>2</th>\n",
              "      <td>60.0</td>\n",
              "      <td>55.0</td>\n",
              "      <td>44.0</td>\n",
              "      <td>23.004459</td>\n",
              "      <td>82.320763</td>\n",
              "      <td>7.840207</td>\n",
              "      <td>263.964248</td>\n",
              "      <td>rice</td>\n",
              "    </tr>\n",
              "    <tr>\n",
              "      <th>3</th>\n",
              "      <td>74.0</td>\n",
              "      <td>35.0</td>\n",
              "      <td>40.0</td>\n",
              "      <td>26.491096</td>\n",
              "      <td>80.158363</td>\n",
              "      <td>6.980401</td>\n",
              "      <td>242.864034</td>\n",
              "      <td>rice</td>\n",
              "    </tr>\n",
              "    <tr>\n",
              "      <th>4</th>\n",
              "      <td>78.0</td>\n",
              "      <td>42.0</td>\n",
              "      <td>42.0</td>\n",
              "      <td>20.130175</td>\n",
              "      <td>81.604873</td>\n",
              "      <td>7.628473</td>\n",
              "      <td>262.717340</td>\n",
              "      <td>rice</td>\n",
              "    </tr>\n",
              "  </tbody>\n",
              "</table>\n",
              "</div>\n",
              "    <div class=\"colab-df-buttons\">\n",
              "\n",
              "  <div class=\"colab-df-container\">\n",
              "    <button class=\"colab-df-convert\" onclick=\"convertToInteractive('df-4750b2aa-ccf7-48a5-a7bc-b22223f5d9c3')\"\n",
              "            title=\"Convert this dataframe to an interactive table.\"\n",
              "            style=\"display:none;\">\n",
              "\n",
              "  <svg xmlns=\"http://www.w3.org/2000/svg\" height=\"24px\" viewBox=\"0 -960 960 960\">\n",
              "    <path d=\"M120-120v-720h720v720H120Zm60-500h600v-160H180v160Zm220 220h160v-160H400v160Zm0 220h160v-160H400v160ZM180-400h160v-160H180v160Zm440 0h160v-160H620v160ZM180-180h160v-160H180v160Zm440 0h160v-160H620v160Z\"/>\n",
              "  </svg>\n",
              "    </button>\n",
              "\n",
              "  <style>\n",
              "    .colab-df-container {\n",
              "      display:flex;\n",
              "      gap: 12px;\n",
              "    }\n",
              "\n",
              "    .colab-df-convert {\n",
              "      background-color: #E8F0FE;\n",
              "      border: none;\n",
              "      border-radius: 50%;\n",
              "      cursor: pointer;\n",
              "      display: none;\n",
              "      fill: #1967D2;\n",
              "      height: 32px;\n",
              "      padding: 0 0 0 0;\n",
              "      width: 32px;\n",
              "    }\n",
              "\n",
              "    .colab-df-convert:hover {\n",
              "      background-color: #E2EBFA;\n",
              "      box-shadow: 0px 1px 2px rgba(60, 64, 67, 0.3), 0px 1px 3px 1px rgba(60, 64, 67, 0.15);\n",
              "      fill: #174EA6;\n",
              "    }\n",
              "\n",
              "    .colab-df-buttons div {\n",
              "      margin-bottom: 4px;\n",
              "    }\n",
              "\n",
              "    [theme=dark] .colab-df-convert {\n",
              "      background-color: #3B4455;\n",
              "      fill: #D2E3FC;\n",
              "    }\n",
              "\n",
              "    [theme=dark] .colab-df-convert:hover {\n",
              "      background-color: #434B5C;\n",
              "      box-shadow: 0px 1px 3px 1px rgba(0, 0, 0, 0.15);\n",
              "      filter: drop-shadow(0px 1px 2px rgba(0, 0, 0, 0.3));\n",
              "      fill: #FFFFFF;\n",
              "    }\n",
              "  </style>\n",
              "\n",
              "    <script>\n",
              "      const buttonEl =\n",
              "        document.querySelector('#df-4750b2aa-ccf7-48a5-a7bc-b22223f5d9c3 button.colab-df-convert');\n",
              "      buttonEl.style.display =\n",
              "        google.colab.kernel.accessAllowed ? 'block' : 'none';\n",
              "\n",
              "      async function convertToInteractive(key) {\n",
              "        const element = document.querySelector('#df-4750b2aa-ccf7-48a5-a7bc-b22223f5d9c3');\n",
              "        const dataTable =\n",
              "          await google.colab.kernel.invokeFunction('convertToInteractive',\n",
              "                                                    [key], {});\n",
              "        if (!dataTable) return;\n",
              "\n",
              "        const docLinkHtml = 'Like what you see? Visit the ' +\n",
              "          '<a target=\"_blank\" href=https://colab.research.google.com/notebooks/data_table.ipynb>data table notebook</a>'\n",
              "          + ' to learn more about interactive tables.';\n",
              "        element.innerHTML = '';\n",
              "        dataTable['output_type'] = 'display_data';\n",
              "        await google.colab.output.renderOutput(dataTable, element);\n",
              "        const docLink = document.createElement('div');\n",
              "        docLink.innerHTML = docLinkHtml;\n",
              "        element.appendChild(docLink);\n",
              "      }\n",
              "    </script>\n",
              "  </div>\n",
              "\n",
              "\n",
              "<div id=\"df-a11bec19-6f1c-4e36-b3f7-cdaf78070689\">\n",
              "  <button class=\"colab-df-quickchart\" onclick=\"quickchart('df-a11bec19-6f1c-4e36-b3f7-cdaf78070689')\"\n",
              "            title=\"Suggest charts\"\n",
              "            style=\"display:none;\">\n",
              "\n",
              "<svg xmlns=\"http://www.w3.org/2000/svg\" height=\"24px\"viewBox=\"0 0 24 24\"\n",
              "     width=\"24px\">\n",
              "    <g>\n",
              "        <path d=\"M19 3H5c-1.1 0-2 .9-2 2v14c0 1.1.9 2 2 2h14c1.1 0 2-.9 2-2V5c0-1.1-.9-2-2-2zM9 17H7v-7h2v7zm4 0h-2V7h2v10zm4 0h-2v-4h2v4z\"/>\n",
              "    </g>\n",
              "</svg>\n",
              "  </button>\n",
              "\n",
              "<style>\n",
              "  .colab-df-quickchart {\n",
              "      --bg-color: #E8F0FE;\n",
              "      --fill-color: #1967D2;\n",
              "      --hover-bg-color: #E2EBFA;\n",
              "      --hover-fill-color: #174EA6;\n",
              "      --disabled-fill-color: #AAA;\n",
              "      --disabled-bg-color: #DDD;\n",
              "  }\n",
              "\n",
              "  [theme=dark] .colab-df-quickchart {\n",
              "      --bg-color: #3B4455;\n",
              "      --fill-color: #D2E3FC;\n",
              "      --hover-bg-color: #434B5C;\n",
              "      --hover-fill-color: #FFFFFF;\n",
              "      --disabled-bg-color: #3B4455;\n",
              "      --disabled-fill-color: #666;\n",
              "  }\n",
              "\n",
              "  .colab-df-quickchart {\n",
              "    background-color: var(--bg-color);\n",
              "    border: none;\n",
              "    border-radius: 50%;\n",
              "    cursor: pointer;\n",
              "    display: none;\n",
              "    fill: var(--fill-color);\n",
              "    height: 32px;\n",
              "    padding: 0;\n",
              "    width: 32px;\n",
              "  }\n",
              "\n",
              "  .colab-df-quickchart:hover {\n",
              "    background-color: var(--hover-bg-color);\n",
              "    box-shadow: 0 1px 2px rgba(60, 64, 67, 0.3), 0 1px 3px 1px rgba(60, 64, 67, 0.15);\n",
              "    fill: var(--button-hover-fill-color);\n",
              "  }\n",
              "\n",
              "  .colab-df-quickchart-complete:disabled,\n",
              "  .colab-df-quickchart-complete:disabled:hover {\n",
              "    background-color: var(--disabled-bg-color);\n",
              "    fill: var(--disabled-fill-color);\n",
              "    box-shadow: none;\n",
              "  }\n",
              "\n",
              "  .colab-df-spinner {\n",
              "    border: 2px solid var(--fill-color);\n",
              "    border-color: transparent;\n",
              "    border-bottom-color: var(--fill-color);\n",
              "    animation:\n",
              "      spin 1s steps(1) infinite;\n",
              "  }\n",
              "\n",
              "  @keyframes spin {\n",
              "    0% {\n",
              "      border-color: transparent;\n",
              "      border-bottom-color: var(--fill-color);\n",
              "      border-left-color: var(--fill-color);\n",
              "    }\n",
              "    20% {\n",
              "      border-color: transparent;\n",
              "      border-left-color: var(--fill-color);\n",
              "      border-top-color: var(--fill-color);\n",
              "    }\n",
              "    30% {\n",
              "      border-color: transparent;\n",
              "      border-left-color: var(--fill-color);\n",
              "      border-top-color: var(--fill-color);\n",
              "      border-right-color: var(--fill-color);\n",
              "    }\n",
              "    40% {\n",
              "      border-color: transparent;\n",
              "      border-right-color: var(--fill-color);\n",
              "      border-top-color: var(--fill-color);\n",
              "    }\n",
              "    60% {\n",
              "      border-color: transparent;\n",
              "      border-right-color: var(--fill-color);\n",
              "    }\n",
              "    80% {\n",
              "      border-color: transparent;\n",
              "      border-right-color: var(--fill-color);\n",
              "      border-bottom-color: var(--fill-color);\n",
              "    }\n",
              "    90% {\n",
              "      border-color: transparent;\n",
              "      border-bottom-color: var(--fill-color);\n",
              "    }\n",
              "  }\n",
              "</style>\n",
              "\n",
              "  <script>\n",
              "    async function quickchart(key) {\n",
              "      const quickchartButtonEl =\n",
              "        document.querySelector('#' + key + ' button');\n",
              "      quickchartButtonEl.disabled = true;  // To prevent multiple clicks.\n",
              "      quickchartButtonEl.classList.add('colab-df-spinner');\n",
              "      try {\n",
              "        const charts = await google.colab.kernel.invokeFunction(\n",
              "            'suggestCharts', [key], {});\n",
              "      } catch (error) {\n",
              "        console.error('Error during call to suggestCharts:', error);\n",
              "      }\n",
              "      quickchartButtonEl.classList.remove('colab-df-spinner');\n",
              "      quickchartButtonEl.classList.add('colab-df-quickchart-complete');\n",
              "    }\n",
              "    (() => {\n",
              "      let quickchartButtonEl =\n",
              "        document.querySelector('#df-a11bec19-6f1c-4e36-b3f7-cdaf78070689 button');\n",
              "      quickchartButtonEl.style.display =\n",
              "        google.colab.kernel.accessAllowed ? 'block' : 'none';\n",
              "    })();\n",
              "  </script>\n",
              "</div>\n",
              "\n",
              "    </div>\n",
              "  </div>\n"
            ],
            "application/vnd.google.colaboratory.intrinsic+json": {
              "type": "dataframe",
              "variable_name": "crop",
              "summary": "{\n  \"name\": \"crop\",\n  \"rows\": 2550,\n  \"fields\": [\n    {\n      \"column\": \"N\",\n      \"properties\": {\n        \"dtype\": \"number\",\n        \"std\": 37.02795393364399,\n        \"min\": 0.0,\n        \"max\": 140.0,\n        \"num_unique_values\": 137,\n        \"samples\": [\n          106.0,\n          101.0,\n          88.0\n        ],\n        \"semantic_type\": \"\",\n        \"description\": \"\"\n      }\n    },\n    {\n      \"column\": \"P\",\n      \"properties\": {\n        \"dtype\": \"number\",\n        \"std\": 33.06797343712401,\n        \"min\": 5.0,\n        \"max\": 145.0,\n        \"num_unique_values\": 117,\n        \"samples\": [\n          69.0,\n          37.0,\n          11.0\n        ],\n        \"semantic_type\": \"\",\n        \"description\": \"\"\n      }\n    },\n    {\n      \"column\": \"K\",\n      \"properties\": {\n        \"dtype\": \"number\",\n        \"std\": 50.7186931179691,\n        \"min\": 5.0,\n        \"max\": 205.0,\n        \"num_unique_values\": 73,\n        \"samples\": [\n          42.0,\n          12.0,\n          15.0\n        ],\n        \"semantic_type\": \"\",\n        \"description\": \"\"\n      }\n    },\n    {\n      \"column\": \"temperature\",\n      \"properties\": {\n        \"dtype\": \"number\",\n        \"std\": 5.07515686509506,\n        \"min\": 8.825674745,\n        \"max\": 43.67549305,\n        \"num_unique_values\": 2178,\n        \"samples\": [\n          19.95264829,\n          34.6455408,\n          24.9103226\n        ],\n        \"semantic_type\": \"\",\n        \"description\": \"\"\n      }\n    },\n    {\n      \"column\": \"humidity\",\n      \"properties\": {\n        \"dtype\": \"number\",\n        \"std\": 22.3958869658398,\n        \"min\": 14.25803981,\n        \"max\": 99.98187601,\n        \"num_unique_values\": 2183,\n        \"samples\": [\n          18.09665739,\n          22.27512704,\n          43.58788762\n        ],\n        \"semantic_type\": \"\",\n        \"description\": \"\"\n      }\n    },\n    {\n      \"column\": \"ph\",\n      \"properties\": {\n        \"dtype\": \"number\",\n        \"std\": 0.769480159237222,\n        \"min\": 3.504752314,\n        \"max\": 9.93509073,\n        \"num_unique_values\": 2184,\n        \"samples\": [\n          6.489389282,\n          5.948164454,\n          4.524171562\n        ],\n        \"semantic_type\": \"\",\n        \"description\": \"\"\n      }\n    },\n    {\n      \"column\": \"rainfall\",\n      \"properties\": {\n        \"dtype\": \"number\",\n        \"std\": 54.42081122013706,\n        \"min\": 20.21126747,\n        \"max\": 298.5601175,\n        \"num_unique_values\": 2179,\n        \"samples\": [\n          88.6810311,\n          180.9009998,\n          44.20656987\n        ],\n        \"semantic_type\": \"\",\n        \"description\": \"\"\n      }\n    },\n    {\n      \"column\": \"label\",\n      \"properties\": {\n        \"dtype\": \"category\",\n        \"num_unique_values\": 22,\n        \"samples\": [\n          \"rice\",\n          \"watermelon\",\n          \"lentil\"\n        ],\n        \"semantic_type\": \"\",\n        \"description\": \"\"\n      }\n    }\n  ]\n}"
            }
          },
          "metadata": {},
          "execution_count": 107
        }
      ]
    },
    {
      "cell_type": "markdown",
      "source": [
        "# tail()\n",
        "The purpose of using tail() is to quickly inspect the end of the DataFrame. It's often used to check for patterns or trends in the data, especially if the data is ordered chronologically or by some other criteria. By examining the last few rows, you can see the most recent data entries and verify that the DataFrame has been properly loaded or processed."
      ],
      "metadata": {
        "id": "qhohHUS563AO"
      }
    },
    {
      "cell_type": "code",
      "source": [
        "crop.tail()"
      ],
      "metadata": {
        "colab": {
          "base_uri": "https://localhost:8080/",
          "height": 226
        },
        "id": "t2nJnWDI65hr",
        "outputId": "a6097ca3-7e67-44bc-87b0-b93ece52bc23"
      },
      "execution_count": 108,
      "outputs": [
        {
          "output_type": "execute_result",
          "data": {
            "text/plain": [
              "         N     P     K  temperature   humidity        ph    rainfall  \\\n",
              "2545   8.0  28.0  38.0    23.225940  94.429714  6.844402  105.691786   \n",
              "2546  52.0  68.0  78.0    17.485041  16.960706  6.896552   86.050780   \n",
              "2547  13.0  47.0  20.0    29.217800  87.937242  6.544502   43.138663   \n",
              "2548  74.0  46.0  45.0    25.757349  88.366685  6.025029  189.426348   \n",
              "2549   2.0  30.0  30.0    26.001751  94.799984  6.331052  209.540094   \n",
              "\n",
              "            label  \n",
              "2545  pomegranate  \n",
              "2546     chickpea  \n",
              "2547     mungbean  \n",
              "2548         jute  \n",
              "2549      coconut  "
            ],
            "text/html": [
              "\n",
              "  <div id=\"df-7cfcf2f4-dac8-44f0-afa4-13e797c44aec\" class=\"colab-df-container\">\n",
              "    <div>\n",
              "<style scoped>\n",
              "    .dataframe tbody tr th:only-of-type {\n",
              "        vertical-align: middle;\n",
              "    }\n",
              "\n",
              "    .dataframe tbody tr th {\n",
              "        vertical-align: top;\n",
              "    }\n",
              "\n",
              "    .dataframe thead th {\n",
              "        text-align: right;\n",
              "    }\n",
              "</style>\n",
              "<table border=\"1\" class=\"dataframe\">\n",
              "  <thead>\n",
              "    <tr style=\"text-align: right;\">\n",
              "      <th></th>\n",
              "      <th>N</th>\n",
              "      <th>P</th>\n",
              "      <th>K</th>\n",
              "      <th>temperature</th>\n",
              "      <th>humidity</th>\n",
              "      <th>ph</th>\n",
              "      <th>rainfall</th>\n",
              "      <th>label</th>\n",
              "    </tr>\n",
              "  </thead>\n",
              "  <tbody>\n",
              "    <tr>\n",
              "      <th>2545</th>\n",
              "      <td>8.0</td>\n",
              "      <td>28.0</td>\n",
              "      <td>38.0</td>\n",
              "      <td>23.225940</td>\n",
              "      <td>94.429714</td>\n",
              "      <td>6.844402</td>\n",
              "      <td>105.691786</td>\n",
              "      <td>pomegranate</td>\n",
              "    </tr>\n",
              "    <tr>\n",
              "      <th>2546</th>\n",
              "      <td>52.0</td>\n",
              "      <td>68.0</td>\n",
              "      <td>78.0</td>\n",
              "      <td>17.485041</td>\n",
              "      <td>16.960706</td>\n",
              "      <td>6.896552</td>\n",
              "      <td>86.050780</td>\n",
              "      <td>chickpea</td>\n",
              "    </tr>\n",
              "    <tr>\n",
              "      <th>2547</th>\n",
              "      <td>13.0</td>\n",
              "      <td>47.0</td>\n",
              "      <td>20.0</td>\n",
              "      <td>29.217800</td>\n",
              "      <td>87.937242</td>\n",
              "      <td>6.544502</td>\n",
              "      <td>43.138663</td>\n",
              "      <td>mungbean</td>\n",
              "    </tr>\n",
              "    <tr>\n",
              "      <th>2548</th>\n",
              "      <td>74.0</td>\n",
              "      <td>46.0</td>\n",
              "      <td>45.0</td>\n",
              "      <td>25.757349</td>\n",
              "      <td>88.366685</td>\n",
              "      <td>6.025029</td>\n",
              "      <td>189.426348</td>\n",
              "      <td>jute</td>\n",
              "    </tr>\n",
              "    <tr>\n",
              "      <th>2549</th>\n",
              "      <td>2.0</td>\n",
              "      <td>30.0</td>\n",
              "      <td>30.0</td>\n",
              "      <td>26.001751</td>\n",
              "      <td>94.799984</td>\n",
              "      <td>6.331052</td>\n",
              "      <td>209.540094</td>\n",
              "      <td>coconut</td>\n",
              "    </tr>\n",
              "  </tbody>\n",
              "</table>\n",
              "</div>\n",
              "    <div class=\"colab-df-buttons\">\n",
              "\n",
              "  <div class=\"colab-df-container\">\n",
              "    <button class=\"colab-df-convert\" onclick=\"convertToInteractive('df-7cfcf2f4-dac8-44f0-afa4-13e797c44aec')\"\n",
              "            title=\"Convert this dataframe to an interactive table.\"\n",
              "            style=\"display:none;\">\n",
              "\n",
              "  <svg xmlns=\"http://www.w3.org/2000/svg\" height=\"24px\" viewBox=\"0 -960 960 960\">\n",
              "    <path d=\"M120-120v-720h720v720H120Zm60-500h600v-160H180v160Zm220 220h160v-160H400v160Zm0 220h160v-160H400v160ZM180-400h160v-160H180v160Zm440 0h160v-160H620v160ZM180-180h160v-160H180v160Zm440 0h160v-160H620v160Z\"/>\n",
              "  </svg>\n",
              "    </button>\n",
              "\n",
              "  <style>\n",
              "    .colab-df-container {\n",
              "      display:flex;\n",
              "      gap: 12px;\n",
              "    }\n",
              "\n",
              "    .colab-df-convert {\n",
              "      background-color: #E8F0FE;\n",
              "      border: none;\n",
              "      border-radius: 50%;\n",
              "      cursor: pointer;\n",
              "      display: none;\n",
              "      fill: #1967D2;\n",
              "      height: 32px;\n",
              "      padding: 0 0 0 0;\n",
              "      width: 32px;\n",
              "    }\n",
              "\n",
              "    .colab-df-convert:hover {\n",
              "      background-color: #E2EBFA;\n",
              "      box-shadow: 0px 1px 2px rgba(60, 64, 67, 0.3), 0px 1px 3px 1px rgba(60, 64, 67, 0.15);\n",
              "      fill: #174EA6;\n",
              "    }\n",
              "\n",
              "    .colab-df-buttons div {\n",
              "      margin-bottom: 4px;\n",
              "    }\n",
              "\n",
              "    [theme=dark] .colab-df-convert {\n",
              "      background-color: #3B4455;\n",
              "      fill: #D2E3FC;\n",
              "    }\n",
              "\n",
              "    [theme=dark] .colab-df-convert:hover {\n",
              "      background-color: #434B5C;\n",
              "      box-shadow: 0px 1px 3px 1px rgba(0, 0, 0, 0.15);\n",
              "      filter: drop-shadow(0px 1px 2px rgba(0, 0, 0, 0.3));\n",
              "      fill: #FFFFFF;\n",
              "    }\n",
              "  </style>\n",
              "\n",
              "    <script>\n",
              "      const buttonEl =\n",
              "        document.querySelector('#df-7cfcf2f4-dac8-44f0-afa4-13e797c44aec button.colab-df-convert');\n",
              "      buttonEl.style.display =\n",
              "        google.colab.kernel.accessAllowed ? 'block' : 'none';\n",
              "\n",
              "      async function convertToInteractive(key) {\n",
              "        const element = document.querySelector('#df-7cfcf2f4-dac8-44f0-afa4-13e797c44aec');\n",
              "        const dataTable =\n",
              "          await google.colab.kernel.invokeFunction('convertToInteractive',\n",
              "                                                    [key], {});\n",
              "        if (!dataTable) return;\n",
              "\n",
              "        const docLinkHtml = 'Like what you see? Visit the ' +\n",
              "          '<a target=\"_blank\" href=https://colab.research.google.com/notebooks/data_table.ipynb>data table notebook</a>'\n",
              "          + ' to learn more about interactive tables.';\n",
              "        element.innerHTML = '';\n",
              "        dataTable['output_type'] = 'display_data';\n",
              "        await google.colab.output.renderOutput(dataTable, element);\n",
              "        const docLink = document.createElement('div');\n",
              "        docLink.innerHTML = docLinkHtml;\n",
              "        element.appendChild(docLink);\n",
              "      }\n",
              "    </script>\n",
              "  </div>\n",
              "\n",
              "\n",
              "<div id=\"df-c30b8ccd-848d-40ba-8609-1c4e3c013c7c\">\n",
              "  <button class=\"colab-df-quickchart\" onclick=\"quickchart('df-c30b8ccd-848d-40ba-8609-1c4e3c013c7c')\"\n",
              "            title=\"Suggest charts\"\n",
              "            style=\"display:none;\">\n",
              "\n",
              "<svg xmlns=\"http://www.w3.org/2000/svg\" height=\"24px\"viewBox=\"0 0 24 24\"\n",
              "     width=\"24px\">\n",
              "    <g>\n",
              "        <path d=\"M19 3H5c-1.1 0-2 .9-2 2v14c0 1.1.9 2 2 2h14c1.1 0 2-.9 2-2V5c0-1.1-.9-2-2-2zM9 17H7v-7h2v7zm4 0h-2V7h2v10zm4 0h-2v-4h2v4z\"/>\n",
              "    </g>\n",
              "</svg>\n",
              "  </button>\n",
              "\n",
              "<style>\n",
              "  .colab-df-quickchart {\n",
              "      --bg-color: #E8F0FE;\n",
              "      --fill-color: #1967D2;\n",
              "      --hover-bg-color: #E2EBFA;\n",
              "      --hover-fill-color: #174EA6;\n",
              "      --disabled-fill-color: #AAA;\n",
              "      --disabled-bg-color: #DDD;\n",
              "  }\n",
              "\n",
              "  [theme=dark] .colab-df-quickchart {\n",
              "      --bg-color: #3B4455;\n",
              "      --fill-color: #D2E3FC;\n",
              "      --hover-bg-color: #434B5C;\n",
              "      --hover-fill-color: #FFFFFF;\n",
              "      --disabled-bg-color: #3B4455;\n",
              "      --disabled-fill-color: #666;\n",
              "  }\n",
              "\n",
              "  .colab-df-quickchart {\n",
              "    background-color: var(--bg-color);\n",
              "    border: none;\n",
              "    border-radius: 50%;\n",
              "    cursor: pointer;\n",
              "    display: none;\n",
              "    fill: var(--fill-color);\n",
              "    height: 32px;\n",
              "    padding: 0;\n",
              "    width: 32px;\n",
              "  }\n",
              "\n",
              "  .colab-df-quickchart:hover {\n",
              "    background-color: var(--hover-bg-color);\n",
              "    box-shadow: 0 1px 2px rgba(60, 64, 67, 0.3), 0 1px 3px 1px rgba(60, 64, 67, 0.15);\n",
              "    fill: var(--button-hover-fill-color);\n",
              "  }\n",
              "\n",
              "  .colab-df-quickchart-complete:disabled,\n",
              "  .colab-df-quickchart-complete:disabled:hover {\n",
              "    background-color: var(--disabled-bg-color);\n",
              "    fill: var(--disabled-fill-color);\n",
              "    box-shadow: none;\n",
              "  }\n",
              "\n",
              "  .colab-df-spinner {\n",
              "    border: 2px solid var(--fill-color);\n",
              "    border-color: transparent;\n",
              "    border-bottom-color: var(--fill-color);\n",
              "    animation:\n",
              "      spin 1s steps(1) infinite;\n",
              "  }\n",
              "\n",
              "  @keyframes spin {\n",
              "    0% {\n",
              "      border-color: transparent;\n",
              "      border-bottom-color: var(--fill-color);\n",
              "      border-left-color: var(--fill-color);\n",
              "    }\n",
              "    20% {\n",
              "      border-color: transparent;\n",
              "      border-left-color: var(--fill-color);\n",
              "      border-top-color: var(--fill-color);\n",
              "    }\n",
              "    30% {\n",
              "      border-color: transparent;\n",
              "      border-left-color: var(--fill-color);\n",
              "      border-top-color: var(--fill-color);\n",
              "      border-right-color: var(--fill-color);\n",
              "    }\n",
              "    40% {\n",
              "      border-color: transparent;\n",
              "      border-right-color: var(--fill-color);\n",
              "      border-top-color: var(--fill-color);\n",
              "    }\n",
              "    60% {\n",
              "      border-color: transparent;\n",
              "      border-right-color: var(--fill-color);\n",
              "    }\n",
              "    80% {\n",
              "      border-color: transparent;\n",
              "      border-right-color: var(--fill-color);\n",
              "      border-bottom-color: var(--fill-color);\n",
              "    }\n",
              "    90% {\n",
              "      border-color: transparent;\n",
              "      border-bottom-color: var(--fill-color);\n",
              "    }\n",
              "  }\n",
              "</style>\n",
              "\n",
              "  <script>\n",
              "    async function quickchart(key) {\n",
              "      const quickchartButtonEl =\n",
              "        document.querySelector('#' + key + ' button');\n",
              "      quickchartButtonEl.disabled = true;  // To prevent multiple clicks.\n",
              "      quickchartButtonEl.classList.add('colab-df-spinner');\n",
              "      try {\n",
              "        const charts = await google.colab.kernel.invokeFunction(\n",
              "            'suggestCharts', [key], {});\n",
              "      } catch (error) {\n",
              "        console.error('Error during call to suggestCharts:', error);\n",
              "      }\n",
              "      quickchartButtonEl.classList.remove('colab-df-spinner');\n",
              "      quickchartButtonEl.classList.add('colab-df-quickchart-complete');\n",
              "    }\n",
              "    (() => {\n",
              "      let quickchartButtonEl =\n",
              "        document.querySelector('#df-c30b8ccd-848d-40ba-8609-1c4e3c013c7c button');\n",
              "      quickchartButtonEl.style.display =\n",
              "        google.colab.kernel.accessAllowed ? 'block' : 'none';\n",
              "    })();\n",
              "  </script>\n",
              "</div>\n",
              "\n",
              "    </div>\n",
              "  </div>\n"
            ],
            "application/vnd.google.colaboratory.intrinsic+json": {
              "type": "dataframe",
              "summary": "{\n  \"name\": \"crop\",\n  \"rows\": 5,\n  \"fields\": [\n    {\n      \"column\": \"N\",\n      \"properties\": {\n        \"dtype\": \"number\",\n        \"std\": 31.530937188735766,\n        \"min\": 2.0,\n        \"max\": 74.0,\n        \"num_unique_values\": 5,\n        \"samples\": [\n          52.0,\n          2.0,\n          13.0\n        ],\n        \"semantic_type\": \"\",\n        \"description\": \"\"\n      }\n    },\n    {\n      \"column\": \"P\",\n      \"properties\": {\n        \"dtype\": \"number\",\n        \"std\": 16.13071604114337,\n        \"min\": 28.0,\n        \"max\": 68.0,\n        \"num_unique_values\": 5,\n        \"samples\": [\n          68.0,\n          30.0,\n          47.0\n        ],\n        \"semantic_type\": \"\",\n        \"description\": \"\"\n      }\n    },\n    {\n      \"column\": \"K\",\n      \"properties\": {\n        \"dtype\": \"number\",\n        \"std\": 22.072607458114234,\n        \"min\": 20.0,\n        \"max\": 78.0,\n        \"num_unique_values\": 5,\n        \"samples\": [\n          78.0,\n          30.0,\n          20.0\n        ],\n        \"semantic_type\": \"\",\n        \"description\": \"\"\n      }\n    },\n    {\n      \"column\": \"temperature\",\n      \"properties\": {\n        \"dtype\": \"number\",\n        \"std\": 4.381632074499233,\n        \"min\": 17.48504075,\n        \"max\": 29.21780035,\n        \"num_unique_values\": 5,\n        \"samples\": [\n          17.48504075,\n          26.00175125,\n          29.21780035\n        ],\n        \"semantic_type\": \"\",\n        \"description\": \"\"\n      }\n    },\n    {\n      \"column\": \"humidity\",\n      \"properties\": {\n        \"dtype\": \"number\",\n        \"std\": 33.4399473860331,\n        \"min\": 16.96070581,\n        \"max\": 94.79998418,\n        \"num_unique_values\": 5,\n        \"samples\": [\n          16.96070581,\n          94.79998418,\n          87.93724219\n        ],\n        \"semantic_type\": \"\",\n        \"description\": \"\"\n      }\n    },\n    {\n      \"column\": \"ph\",\n      \"properties\": {\n        \"dtype\": \"number\",\n        \"std\": 0.36331151558419145,\n        \"min\": 6.025028997000001,\n        \"max\": 6.89655198,\n        \"num_unique_values\": 5,\n        \"samples\": [\n          6.89655198,\n          6.331051715,\n          6.54450214\n        ],\n        \"semantic_type\": \"\",\n        \"description\": \"\"\n      }\n    },\n    {\n      \"column\": \"rainfall\",\n      \"properties\": {\n        \"dtype\": \"number\",\n        \"std\": 70.48626275432649,\n        \"min\": 43.1386631,\n        \"max\": 209.540094,\n        \"num_unique_values\": 5,\n        \"samples\": [\n          86.05078037,\n          209.540094,\n          43.1386631\n        ],\n        \"semantic_type\": \"\",\n        \"description\": \"\"\n      }\n    },\n    {\n      \"column\": \"label\",\n      \"properties\": {\n        \"dtype\": \"string\",\n        \"num_unique_values\": 5,\n        \"samples\": [\n          \"chickpea\",\n          \"coconut\",\n          \"mungbean\"\n        ],\n        \"semantic_type\": \"\",\n        \"description\": \"\"\n      }\n    }\n  ]\n}"
            }
          },
          "metadata": {},
          "execution_count": 108
        }
      ]
    },
    {
      "cell_type": "markdown",
      "source": [
        "# crop.isnull().sum()\n",
        "crop.isnull().sum() gives you a Series where each entry represents the number of missing values in the corresponding column of the crop DataFrame. This information is useful for identifying and handling missing data in your dataset."
      ],
      "metadata": {
        "id": "aJxt3O217UNV"
      }
    },
    {
      "cell_type": "code",
      "source": [
        "crop.isnull().sum()\n"
      ],
      "metadata": {
        "colab": {
          "base_uri": "https://localhost:8080/"
        },
        "id": "3Ia1Se6u7Xi-",
        "outputId": "2345da1a-206b-4a0d-b6fd-a0272b7343cd"
      },
      "execution_count": 109,
      "outputs": [
        {
          "output_type": "execute_result",
          "data": {
            "text/plain": [
              "N              20\n",
              "P              19\n",
              "K              22\n",
              "temperature    26\n",
              "humidity       18\n",
              "ph             17\n",
              "rainfall       21\n",
              "label          21\n",
              "dtype: int64"
            ]
          },
          "metadata": {},
          "execution_count": 109
        }
      ]
    },
    {
      "cell_type": "markdown",
      "source": [
        "![image.png](data:image/png;base64,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)"
      ],
      "metadata": {
        "id": "qJRVRtJvIHA7"
      }
    },
    {
      "cell_type": "code",
      "source": [
        "sns.heatmap(crop.isnull(),yticklabels=False,cbar=True,cmap='viridis')"
      ],
      "metadata": {
        "id": "FOR9znd3IOnA",
        "outputId": "06b23f97-0ce3-4b04-9be9-6ff0798e0a38",
        "colab": {
          "base_uri": "https://localhost:8080/",
          "height": 526
        }
      },
      "execution_count": 110,
      "outputs": [
        {
          "output_type": "execute_result",
          "data": {
            "text/plain": [
              "<Axes: >"
            ]
          },
          "metadata": {},
          "execution_count": 110
        },
        {
          "output_type": "display_data",
          "data": {
            "text/plain": [
              "<Figure size 640x480 with 2 Axes>"
            ],
            "image/png": "[encoded data removed]"
          },
          "metadata": {}
        }
      ]
    },
    {
      "cell_type": "markdown",
      "source": [
        "# crop.isnull().sum().sum()\n",
        "crop.isnull().sum().sum() gives you the total number of missing values in the entire DataFrame crop, summing up the counts of missing values across all columns. This information is valuable for understanding the extent of missing data in your dataset"
      ],
      "metadata": {
        "id": "2PWHfHZF8DwB"
      }
    },
    {
      "cell_type": "code",
      "source": [
        "crop.isnull().sum().sum()"
      ],
      "metadata": {
        "colab": {
          "base_uri": "https://localhost:8080/"
        },
        "id": "hlV-6rBK8HlU",
        "outputId": "ca93a1c1-c721-4d24-8037-b6e1a1cea6ec"
      },
      "execution_count": 111,
      "outputs": [
        {
          "output_type": "execute_result",
          "data": {
            "text/plain": [
              "164"
            ]
          },
          "metadata": {},
          "execution_count": 111
        }
      ]
    },
    {
      "cell_type": "markdown",
      "source": [
        "# crop.duplicated().sum()\n",
        "crop.duplicated().sum() gives you the total number of duplicated rows in the DataFrame crop. This information is useful for identifying and handling duplicate entries in your dataset."
      ],
      "metadata": {
        "id": "5gSN3EO076Zr"
      }
    },
    {
      "cell_type": "code",
      "source": [
        "crop.duplicated().sum()"
      ],
      "metadata": {
        "colab": {
          "base_uri": "https://localhost:8080/"
        },
        "id": "eVcc6nvA776x",
        "outputId": "6788948e-4c2a-4f6d-b7f3-8a85948b55ae"
      },
      "execution_count": 112,
      "outputs": [
        {
          "output_type": "execute_result",
          "data": {
            "text/plain": [
              "350"
            ]
          },
          "metadata": {},
          "execution_count": 112
        }
      ]
    },
    {
      "cell_type": "markdown",
      "source": [
        "# interpolation\n",
        "this code snippet ensures that missing values in the DataFrame crop are handled by interpolating them (linear interpolation) and by replacing missing values in the 'label' column with the most frequent label value. The resulting DataFrame crop1 has missing values appropriately handled."
      ],
      "metadata": {
        "id": "sX0rzEI68YtD"
      }
    },
    {
      "cell_type": "code",
      "source": [
        "# crop1 = crop.interpolate()\n",
        "# most_frequent_label = crop1['label'].mode()[0]\n",
        "# crop1['label'].fillna(most_frequent_label, inplace=True)"
      ],
      "metadata": {
        "id": "a6TrzhvP8aAA"
      },
      "execution_count": 112,
      "outputs": []
    },
    {
      "cell_type": "markdown",
      "source": [
        "# Handling Null values"
      ],
      "metadata": {
        "id": "QmeO55gMPgY9"
      }
    },
    {
      "cell_type": "code",
      "source": [
        "# Atfirst we copy the data into crop1 variable.\n",
        "crop1 = crop\n",
        "\n",
        "# Filling null values in 'Nitrogen' with 0\n",
        "crop1.N.fillna(0, inplace=True)\n",
        "\n",
        "# Filling null values in 'Phosphorus' with 0\n",
        "crop1.P.fillna(0, inplace=True)\n",
        "\n",
        "# Filling null values in 'Potassium' with 0\n",
        "crop1.K.fillna(0, inplace=True)\n",
        "\n",
        "# Filling null values in 'Temperature' with 0\n",
        "crop1.temperature.fillna(0, inplace=True)\n",
        "\n",
        "# Filling null values in 'Humidity' with 0\n",
        "crop1.humidity.fillna(0, inplace=True)\n",
        "\n",
        "# Filling null values in 'ph' with 0\n",
        "crop1.ph.fillna(0, inplace=True)\n",
        "\n",
        "# Filling null values in 'Rainfall' with 0\n",
        "crop1.rainfall.fillna(0, inplace=True)\n",
        "\n",
        "#Filling null values in 'Label' with 0\n",
        "crop1.label.fillna(crop1.label.mode()[0], inplace=True)"
      ],
      "metadata": {
        "id": "8z5W65keKDcU"
      },
      "execution_count": 147,
      "outputs": []
    },
    {
      "cell_type": "markdown",
      "source": [
        "# Here we recheck if any null value is present or not."
      ],
      "metadata": {
        "id": "TmixFuFH8pwl"
      }
    },
    {
      "cell_type": "code",
      "source": [
        "crop1.isnull().sum()"
      ],
      "metadata": {
        "colab": {
          "base_uri": "https://localhost:8080/"
        },
        "id": "yv1j65CN8sn8",
        "outputId": "6a19a730-06c5-4563-e425-74d48f7dc26b"
      },
      "execution_count": 148,
      "outputs": [
        {
          "output_type": "execute_result",
          "data": {
            "text/plain": [
              "N              0\n",
              "P              0\n",
              "K              0\n",
              "temperature    0\n",
              "humidity       0\n",
              "ph             0\n",
              "rainfall       0\n",
              "label          0\n",
              "dtype: int64"
            ]
          },
          "metadata": {},
          "execution_count": 148
        }
      ]
    },
    {
      "cell_type": "markdown",
      "source": [
        "# Here we recheck if any null value is present or not by heatmap"
      ],
      "metadata": {
        "id": "xTmnK89sQ13p"
      }
    },
    {
      "cell_type": "code",
      "source": [
        "sns.heatmap(crop.isnull(),yticklabels=False,cbar=True,cmap='viridis')"
      ],
      "metadata": {
        "id": "fA4rXmJPQ9yM",
        "outputId": "fee1e9f3-a2ad-405c-e6c6-d77772ee27fc",
        "colab": {
          "base_uri": "https://localhost:8080/",
          "height": 526
        }
      },
      "execution_count": 149,
      "outputs": [
        {
          "output_type": "execute_result",
          "data": {
            "text/plain": [
              "<Axes: >"
            ]
          },
          "metadata": {},
          "execution_count": 149
        },
        {
          "output_type": "display_data",
          "data": {
            "text/plain": [
              "<Figure size 640x480 with 2 Axes>"
            ],
            "image/png": "[encoded data removed]"
          },
          "metadata": {}
        }
      ]
    },
    {
      "cell_type": "markdown",
      "source": [
        "# crop2 = crop1.drop_duplicates()\n",
        "the DataFrame crop2 contains the data from crop1 with duplicate rows removed. This operation ensures that each row in crop2 is unique, based on all columns by default."
      ],
      "metadata": {
        "id": "DUH0JQYm_Nio"
      }
    },
    {
      "cell_type": "code",
      "source": [
        "crop2 = crop1.drop_duplicates()\n",
        "# crop2 = crop1"
      ],
      "metadata": {
        "id": "AkMeuuvb_WYv"
      },
      "execution_count": 153,
      "outputs": []
    },
    {
      "cell_type": "markdown",
      "source": [
        "# Here we recheck if any duplicate rows are present or not."
      ],
      "metadata": {
        "id": "nIrsMP6K_nRA"
      }
    },
    {
      "cell_type": "code",
      "source": [
        " crop2.duplicated().sum()"
      ],
      "metadata": {
        "colab": {
          "base_uri": "https://localhost:8080/"
        },
        "id": "_MGdYIL3_oQH",
        "outputId": "6413f4ab-176c-4442-dd86-be04ed775edc"
      },
      "execution_count": 154,
      "outputs": [
        {
          "output_type": "execute_result",
          "data": {
            "text/plain": [
              "0"
            ]
          },
          "metadata": {},
          "execution_count": 154
        }
      ]
    },
    {
      "cell_type": "markdown",
      "source": [
        "# crop2.isnull().any()\n",
        "returns a Series where each entry represents whether there are any missing values in the corresponding column of the DataFrame crop2. If the entry is True, it means that the column contains at least one missing value; otherwise, it's False."
      ],
      "metadata": {
        "id": "gxC7_K6yABFx"
      }
    },
    {
      "cell_type": "code",
      "source": [
        "crop2.isnull().any()"
      ],
      "metadata": {
        "colab": {
          "base_uri": "https://localhost:8080/"
        },
        "id": "8TtgDjqwAE1s",
        "outputId": "8607ee74-005a-4436-9cb9-67716f5fb9a3"
      },
      "execution_count": 155,
      "outputs": [
        {
          "output_type": "execute_result",
          "data": {
            "text/plain": [
              "N              False\n",
              "P              False\n",
              "K              False\n",
              "temperature    False\n",
              "humidity       False\n",
              "ph             False\n",
              "rainfall       False\n",
              "label          False\n",
              "dtype: bool"
            ]
          },
          "metadata": {},
          "execution_count": 155
        }
      ]
    },
    {
      "cell_type": "markdown",
      "source": [
        "# crop2.describe()\n",
        "The output of crop2.describe() will be a DataFrame where each row represents a summary statistic, and each column represents a numerical column in the original DataFrame crop2. This summary statistics can provide insights into the distribution and spread of values in the dataset, helping with data exploration and analysis."
      ],
      "metadata": {
        "id": "0bUY8scHBgfb"
      }
    },
    {
      "cell_type": "code",
      "source": [
        "crop2.describe()"
      ],
      "metadata": {
        "colab": {
          "base_uri": "https://localhost:8080/",
          "height": 320
        },
        "id": "Gd_gpFwnBjl0",
        "outputId": "406d746e-5960-4f24-955b-5bdd39cc3e41"
      },
      "execution_count": 156,
      "outputs": [
        {
          "output_type": "execute_result",
          "data": {
            "text/plain": [
              "                 N            P            K  temperature     humidity  \\\n",
              "count  2200.000000  2200.000000  2200.000000  2200.000000  2200.000000   \n",
              "mean     50.182727    52.975455    47.643182    25.363830    70.926162   \n",
              "std      37.077482    33.241552    50.630203     5.661025    23.041266   \n",
              "min       0.000000     0.000000     0.000000     0.000000     0.000000   \n",
              "25%      20.750000    27.000000    20.000000    22.629467    59.791831   \n",
              "50%      37.000000    51.000000    31.000000    25.549620    80.381232   \n",
              "75%      84.000000    68.000000    48.000000    28.546521    89.892282   \n",
              "max     140.000000   145.000000   205.000000    43.675493    99.981876   \n",
              "\n",
              "                ph     rainfall  \n",
              "count  2200.000000  2200.000000  \n",
              "mean      6.424093   102.457727  \n",
              "std       0.947815    55.638149  \n",
              "min       0.000000     0.000000  \n",
              "25%       5.955956    63.866827  \n",
              "50%       6.421510    94.354745  \n",
              "75%       6.922373   122.747122  \n",
              "max       9.935091   298.560117  "
            ],
            "text/html": [
              "\n",
              "  <div id=\"df-f88f4ac5-90f5-4840-a6fd-ad79560ce128\" class=\"colab-df-container\">\n",
              "    <div>\n",
              "<style scoped>\n",
              "    .dataframe tbody tr th:only-of-type {\n",
              "        vertical-align: middle;\n",
              "    }\n",
              "\n",
              "    .dataframe tbody tr th {\n",
              "        vertical-align: top;\n",
              "    }\n",
              "\n",
              "    .dataframe thead th {\n",
              "        text-align: right;\n",
              "    }\n",
              "</style>\n",
              "<table border=\"1\" class=\"dataframe\">\n",
              "  <thead>\n",
              "    <tr style=\"text-align: right;\">\n",
              "      <th></th>\n",
              "      <th>N</th>\n",
              "      <th>P</th>\n",
              "      <th>K</th>\n",
              "      <th>temperature</th>\n",
              "      <th>humidity</th>\n",
              "      <th>ph</th>\n",
              "      <th>rainfall</th>\n",
              "    </tr>\n",
              "  </thead>\n",
              "  <tbody>\n",
              "    <tr>\n",
              "      <th>count</th>\n",
              "      <td>2200.000000</td>\n",
              "      <td>2200.000000</td>\n",
              "      <td>2200.000000</td>\n",
              "      <td>2200.000000</td>\n",
              "      <td>2200.000000</td>\n",
              "      <td>2200.000000</td>\n",
              "      <td>2200.000000</td>\n",
              "    </tr>\n",
              "    <tr>\n",
              "      <th>mean</th>\n",
              "      <td>50.182727</td>\n",
              "      <td>52.975455</td>\n",
              "      <td>47.643182</td>\n",
              "      <td>25.363830</td>\n",
              "      <td>70.926162</td>\n",
              "      <td>6.424093</td>\n",
              "      <td>102.457727</td>\n",
              "    </tr>\n",
              "    <tr>\n",
              "      <th>std</th>\n",
              "      <td>37.077482</td>\n",
              "      <td>33.241552</td>\n",
              "      <td>50.630203</td>\n",
              "      <td>5.661025</td>\n",
              "      <td>23.041266</td>\n",
              "      <td>0.947815</td>\n",
              "      <td>55.638149</td>\n",
              "    </tr>\n",
              "    <tr>\n",
              "      <th>min</th>\n",
              "      <td>0.000000</td>\n",
              "      <td>0.000000</td>\n",
              "      <td>0.000000</td>\n",
              "      <td>0.000000</td>\n",
              "      <td>0.000000</td>\n",
              "      <td>0.000000</td>\n",
              "      <td>0.000000</td>\n",
              "    </tr>\n",
              "    <tr>\n",
              "      <th>25%</th>\n",
              "      <td>20.750000</td>\n",
              "      <td>27.000000</td>\n",
              "      <td>20.000000</td>\n",
              "      <td>22.629467</td>\n",
              "      <td>59.791831</td>\n",
              "      <td>5.955956</td>\n",
              "      <td>63.866827</td>\n",
              "    </tr>\n",
              "    <tr>\n",
              "      <th>50%</th>\n",
              "      <td>37.000000</td>\n",
              "      <td>51.000000</td>\n",
              "      <td>31.000000</td>\n",
              "      <td>25.549620</td>\n",
              "      <td>80.381232</td>\n",
              "      <td>6.421510</td>\n",
              "      <td>94.354745</td>\n",
              "    </tr>\n",
              "    <tr>\n",
              "      <th>75%</th>\n",
              "      <td>84.000000</td>\n",
              "      <td>68.000000</td>\n",
              "      <td>48.000000</td>\n",
              "      <td>28.546521</td>\n",
              "      <td>89.892282</td>\n",
              "      <td>6.922373</td>\n",
              "      <td>122.747122</td>\n",
              "    </tr>\n",
              "    <tr>\n",
              "      <th>max</th>\n",
              "      <td>140.000000</td>\n",
              "      <td>145.000000</td>\n",
              "      <td>205.000000</td>\n",
              "      <td>43.675493</td>\n",
              "      <td>99.981876</td>\n",
              "      <td>9.935091</td>\n",
              "      <td>298.560117</td>\n",
              "    </tr>\n",
              "  </tbody>\n",
              "</table>\n",
              "</div>\n",
              "    <div class=\"colab-df-buttons\">\n",
              "\n",
              "  <div class=\"colab-df-container\">\n",
              "    <button class=\"colab-df-convert\" onclick=\"convertToInteractive('df-f88f4ac5-90f5-4840-a6fd-ad79560ce128')\"\n",
              "            title=\"Convert this dataframe to an interactive table.\"\n",
              "            style=\"display:none;\">\n",
              "\n",
              "  <svg xmlns=\"http://www.w3.org/2000/svg\" height=\"24px\" viewBox=\"0 -960 960 960\">\n",
              "    <path d=\"M120-120v-720h720v720H120Zm60-500h600v-160H180v160Zm220 220h160v-160H400v160Zm0 220h160v-160H400v160ZM180-400h160v-160H180v160Zm440 0h160v-160H620v160ZM180-180h160v-160H180v160Zm440 0h160v-160H620v160Z\"/>\n",
              "  </svg>\n",
              "    </button>\n",
              "\n",
              "  <style>\n",
              "    .colab-df-container {\n",
              "      display:flex;\n",
              "      gap: 12px;\n",
              "    }\n",
              "\n",
              "    .colab-df-convert {\n",
              "      background-color: #E8F0FE;\n",
              "      border: none;\n",
              "      border-radius: 50%;\n",
              "      cursor: pointer;\n",
              "      display: none;\n",
              "      fill: #1967D2;\n",
              "      height: 32px;\n",
              "      padding: 0 0 0 0;\n",
              "      width: 32px;\n",
              "    }\n",
              "\n",
              "    .colab-df-convert:hover {\n",
              "      background-color: #E2EBFA;\n",
              "      box-shadow: 0px 1px 2px rgba(60, 64, 67, 0.3), 0px 1px 3px 1px rgba(60, 64, 67, 0.15);\n",
              "      fill: #174EA6;\n",
              "    }\n",
              "\n",
              "    .colab-df-buttons div {\n",
              "      margin-bottom: 4px;\n",
              "    }\n",
              "\n",
              "    [theme=dark] .colab-df-convert {\n",
              "      background-color: #3B4455;\n",
              "      fill: #D2E3FC;\n",
              "    }\n",
              "\n",
              "    [theme=dark] .colab-df-convert:hover {\n",
              "      background-color: #434B5C;\n",
              "      box-shadow: 0px 1px 3px 1px rgba(0, 0, 0, 0.15);\n",
              "      filter: drop-shadow(0px 1px 2px rgba(0, 0, 0, 0.3));\n",
              "      fill: #FFFFFF;\n",
              "    }\n",
              "  </style>\n",
              "\n",
              "    <script>\n",
              "      const buttonEl =\n",
              "        document.querySelector('#df-f88f4ac5-90f5-4840-a6fd-ad79560ce128 button.colab-df-convert');\n",
              "      buttonEl.style.display =\n",
              "        google.colab.kernel.accessAllowed ? 'block' : 'none';\n",
              "\n",
              "      async function convertToInteractive(key) {\n",
              "        const element = document.querySelector('#df-f88f4ac5-90f5-4840-a6fd-ad79560ce128');\n",
              "        const dataTable =\n",
              "          await google.colab.kernel.invokeFunction('convertToInteractive',\n",
              "                                                    [key], {});\n",
              "        if (!dataTable) return;\n",
              "\n",
              "        const docLinkHtml = 'Like what you see? Visit the ' +\n",
              "          '<a target=\"_blank\" href=https://colab.research.google.com/notebooks/data_table.ipynb>data table notebook</a>'\n",
              "          + ' to learn more about interactive tables.';\n",
              "        element.innerHTML = '';\n",
              "        dataTable['output_type'] = 'display_data';\n",
              "        await google.colab.output.renderOutput(dataTable, element);\n",
              "        const docLink = document.createElement('div');\n",
              "        docLink.innerHTML = docLinkHtml;\n",
              "        element.appendChild(docLink);\n",
              "      }\n",
              "    </script>\n",
              "  </div>\n",
              "\n",
              "\n",
              "<div id=\"df-b1a5d7fc-afaa-4c41-aa00-a22d0435f36c\">\n",
              "  <button class=\"colab-df-quickchart\" onclick=\"quickchart('df-b1a5d7fc-afaa-4c41-aa00-a22d0435f36c')\"\n",
              "            title=\"Suggest charts\"\n",
              "            style=\"display:none;\">\n",
              "\n",
              "<svg xmlns=\"http://www.w3.org/2000/svg\" height=\"24px\"viewBox=\"0 0 24 24\"\n",
              "     width=\"24px\">\n",
              "    <g>\n",
              "        <path d=\"M19 3H5c-1.1 0-2 .9-2 2v14c0 1.1.9 2 2 2h14c1.1 0 2-.9 2-2V5c0-1.1-.9-2-2-2zM9 17H7v-7h2v7zm4 0h-2V7h2v10zm4 0h-2v-4h2v4z\"/>\n",
              "    </g>\n",
              "</svg>\n",
              "  </button>\n",
              "\n",
              "<style>\n",
              "  .colab-df-quickchart {\n",
              "      --bg-color: #E8F0FE;\n",
              "      --fill-color: #1967D2;\n",
              "      --hover-bg-color: #E2EBFA;\n",
              "      --hover-fill-color: #174EA6;\n",
              "      --disabled-fill-color: #AAA;\n",
              "      --disabled-bg-color: #DDD;\n",
              "  }\n",
              "\n",
              "  [theme=dark] .colab-df-quickchart {\n",
              "      --bg-color: #3B4455;\n",
              "      --fill-color: #D2E3FC;\n",
              "      --hover-bg-color: #434B5C;\n",
              "      --hover-fill-color: #FFFFFF;\n",
              "      --disabled-bg-color: #3B4455;\n",
              "      --disabled-fill-color: #666;\n",
              "  }\n",
              "\n",
              "  .colab-df-quickchart {\n",
              "    background-color: var(--bg-color);\n",
              "    border: none;\n",
              "    border-radius: 50%;\n",
              "    cursor: pointer;\n",
              "    display: none;\n",
              "    fill: var(--fill-color);\n",
              "    height: 32px;\n",
              "    padding: 0;\n",
              "    width: 32px;\n",
              "  }\n",
              "\n",
              "  .colab-df-quickchart:hover {\n",
              "    background-color: var(--hover-bg-color);\n",
              "    box-shadow: 0 1px 2px rgba(60, 64, 67, 0.3), 0 1px 3px 1px rgba(60, 64, 67, 0.15);\n",
              "    fill: var(--button-hover-fill-color);\n",
              "  }\n",
              "\n",
              "  .colab-df-quickchart-complete:disabled,\n",
              "  .colab-df-quickchart-complete:disabled:hover {\n",
              "    background-color: var(--disabled-bg-color);\n",
              "    fill: var(--disabled-fill-color);\n",
              "    box-shadow: none;\n",
              "  }\n",
              "\n",
              "  .colab-df-spinner {\n",
              "    border: 2px solid var(--fill-color);\n",
              "    border-color: transparent;\n",
              "    border-bottom-color: var(--fill-color);\n",
              "    animation:\n",
              "      spin 1s steps(1) infinite;\n",
              "  }\n",
              "\n",
              "  @keyframes spin {\n",
              "    0% {\n",
              "      border-color: transparent;\n",
              "      border-bottom-color: var(--fill-color);\n",
              "      border-left-color: var(--fill-color);\n",
              "    }\n",
              "    20% {\n",
              "      border-color: transparent;\n",
              "      border-left-color: var(--fill-color);\n",
              "      border-top-color: var(--fill-color);\n",
              "    }\n",
              "    30% {\n",
              "      border-color: transparent;\n",
              "      border-left-color: var(--fill-color);\n",
              "      border-top-color: var(--fill-color);\n",
              "      border-right-color: var(--fill-color);\n",
              "    }\n",
              "    40% {\n",
              "      border-color: transparent;\n",
              "      border-right-color: var(--fill-color);\n",
              "      border-top-color: var(--fill-color);\n",
              "    }\n",
              "    60% {\n",
              "      border-color: transparent;\n",
              "      border-right-color: var(--fill-color);\n",
              "    }\n",
              "    80% {\n",
              "      border-color: transparent;\n",
              "      border-right-color: var(--fill-color);\n",
              "      border-bottom-color: var(--fill-color);\n",
              "    }\n",
              "    90% {\n",
              "      border-color: transparent;\n",
              "      border-bottom-color: var(--fill-color);\n",
              "    }\n",
              "  }\n",
              "</style>\n",
              "\n",
              "  <script>\n",
              "    async function quickchart(key) {\n",
              "      const quickchartButtonEl =\n",
              "        document.querySelector('#' + key + ' button');\n",
              "      quickchartButtonEl.disabled = true;  // To prevent multiple clicks.\n",
              "      quickchartButtonEl.classList.add('colab-df-spinner');\n",
              "      try {\n",
              "        const charts = await google.colab.kernel.invokeFunction(\n",
              "            'suggestCharts', [key], {});\n",
              "      } catch (error) {\n",
              "        console.error('Error during call to suggestCharts:', error);\n",
              "      }\n",
              "      quickchartButtonEl.classList.remove('colab-df-spinner');\n",
              "      quickchartButtonEl.classList.add('colab-df-quickchart-complete');\n",
              "    }\n",
              "    (() => {\n",
              "      let quickchartButtonEl =\n",
              "        document.querySelector('#df-b1a5d7fc-afaa-4c41-aa00-a22d0435f36c button');\n",
              "      quickchartButtonEl.style.display =\n",
              "        google.colab.kernel.accessAllowed ? 'block' : 'none';\n",
              "    })();\n",
              "  </script>\n",
              "</div>\n",
              "\n",
              "    </div>\n",
              "  </div>\n"
            ],
            "application/vnd.google.colaboratory.intrinsic+json": {
              "type": "dataframe",
              "summary": "{\n  \"name\": \"crop2\",\n  \"rows\": 8,\n  \"fields\": [\n    {\n      \"column\": \"N\",\n      \"properties\": {\n        \"dtype\": \"number\",\n        \"std\": 760.39199724769,\n        \"min\": 0.0,\n        \"max\": 2200.0,\n        \"num_unique_values\": 8,\n        \"samples\": [\n          50.18272727272727,\n          37.0,\n          2200.0\n        ],\n        \"semantic_type\": \"\",\n        \"description\": \"\"\n      }\n    },\n    {\n      \"column\": \"P\",\n      \"properties\": {\n        \"dtype\": \"number\",\n        \"std\": 759.9468461079133,\n        \"min\": 0.0,\n        \"max\": 2200.0,\n        \"num_unique_values\": 8,\n        \"samples\": [\n          52.97545454545455,\n          51.0,\n          2200.0\n        ],\n        \"semantic_type\": \"\",\n        \"description\": \"\"\n      }\n    },\n    {\n      \"column\": \"K\",\n      \"properties\": {\n        \"dtype\": \"number\",\n        \"std\": 760.0794079078754,\n        \"min\": 0.0,\n        \"max\": 2200.0,\n        \"num_unique_values\": 8,\n        \"samples\": [\n          47.643181818181816,\n          31.0,\n          2200.0\n        ],\n        \"semantic_type\": \"\",\n        \"description\": \"\"\n      }\n    },\n    {\n      \"column\": \"temperature\",\n      \"properties\": {\n        \"dtype\": \"number\",\n        \"std\": 770.2886468403761,\n        \"min\": 0.0,\n        \"max\": 2200.0,\n        \"num_unique_values\": 8,\n        \"samples\": [\n          25.363830174088637,\n          25.54961953,\n          2200.0\n        ],\n        \"semantic_type\": \"\",\n        \"description\": \"\"\n      }\n    },\n    {\n      \"column\": \"humidity\",\n      \"properties\": {\n        \"dtype\": \"number\",\n        \"std\": 757.1556751004592,\n        \"min\": 0.0,\n        \"max\": 2200.0,\n        \"num_unique_values\": 8,\n        \"samples\": [\n          70.92616170091819,\n          80.38123204,\n          2200.0\n        ],\n        \"semantic_type\": \"\",\n        \"description\": \"\"\n      }\n    },\n    {\n      \"column\": \"ph\",\n      \"properties\": {\n        \"dtype\": \"number\",\n        \"std\": 775.9753524913859,\n        \"min\": 0.0,\n        \"max\": 2200.0,\n        \"num_unique_values\": 8,\n        \"samples\": [\n          6.424093318139545,\n          6.4215098325,\n          2200.0\n        ],\n        \"semantic_type\": \"\",\n        \"description\": \"\"\n      }\n    },\n    {\n      \"column\": \"rainfall\",\n      \"properties\": {\n        \"dtype\": \"number\",\n        \"std\": 745.6612720441178,\n        \"min\": 0.0,\n        \"max\": 2200.0,\n        \"num_unique_values\": 8,\n        \"samples\": [\n          102.45772708617272,\n          94.35474475999999,\n          2200.0\n        ],\n        \"semantic_type\": \"\",\n        \"description\": \"\"\n      }\n    }\n  ]\n}"
            }
          },
          "metadata": {},
          "execution_count": 156
        }
      ]
    },
    {
      "cell_type": "markdown",
      "source": [
        "# corr()\n",
        "The corr() method is commonly used to identify relationships between variables in a dataset. High positive or negative correlation coefficients can indicate strong relationships between variables, while a correlation coefficient close to 0 suggests little to no relationship. These correlation coefficients can be further analyzed and interpreted to gain insights into the dataset."
      ],
      "metadata": {
        "id": "3bqh73fABn66"
      }
    },
    {
      "cell_type": "code",
      "source": [
        "corr = crop2.corr()\n",
        "corr"
      ],
      "metadata": {
        "colab": {
          "base_uri": "https://localhost:8080/",
          "height": 289
        },
        "id": "f_YsTe6pBqis",
        "outputId": "af085d75-0a41-49e5-e9a9-c20c489bff2c"
      },
      "execution_count": 157,
      "outputs": [
        {
          "output_type": "execute_result",
          "data": {
            "text/plain": [
              "                    N         P         K  temperature  humidity        ph  \\\n",
              "N            1.000000 -0.233342 -0.140195     0.014713  0.188735  0.076029   \n",
              "P           -0.233342  1.000000  0.721855    -0.100031 -0.118327 -0.120868   \n",
              "K           -0.140195  0.721855  1.000000    -0.136565  0.181556 -0.142574   \n",
              "temperature  0.014713 -0.100031 -0.136565     1.000000  0.159112 -0.029349   \n",
              "humidity     0.188735 -0.118327  0.181556     0.159112  1.000000 -0.008846   \n",
              "ph           0.076029 -0.120868 -0.142574    -0.029349 -0.008846  1.000000   \n",
              "rainfall     0.047011 -0.065516 -0.054479    -0.022207  0.079741 -0.088785   \n",
              "\n",
              "             rainfall  \n",
              "N            0.047011  \n",
              "P           -0.065516  \n",
              "K           -0.054479  \n",
              "temperature -0.022207  \n",
              "humidity     0.079741  \n",
              "ph          -0.088785  \n",
              "rainfall     1.000000  "
            ],
            "text/html": [
              "\n",
              "  <div id=\"df-caa7efd3-3ec2-43de-b128-edf5730498e2\" class=\"colab-df-container\">\n",
              "    <div>\n",
              "<style scoped>\n",
              "    .dataframe tbody tr th:only-of-type {\n",
              "        vertical-align: middle;\n",
              "    }\n",
              "\n",
              "    .dataframe tbody tr th {\n",
              "        vertical-align: top;\n",
              "    }\n",
              "\n",
              "    .dataframe thead th {\n",
              "        text-align: right;\n",
              "    }\n",
              "</style>\n",
              "<table border=\"1\" class=\"dataframe\">\n",
              "  <thead>\n",
              "    <tr style=\"text-align: right;\">\n",
              "      <th></th>\n",
              "      <th>N</th>\n",
              "      <th>P</th>\n",
              "      <th>K</th>\n",
              "      <th>temperature</th>\n",
              "      <th>humidity</th>\n",
              "      <th>ph</th>\n",
              "      <th>rainfall</th>\n",
              "    </tr>\n",
              "  </thead>\n",
              "  <tbody>\n",
              "    <tr>\n",
              "      <th>N</th>\n",
              "      <td>1.000000</td>\n",
              "      <td>-0.233342</td>\n",
              "      <td>-0.140195</td>\n",
              "      <td>0.014713</td>\n",
              "      <td>0.188735</td>\n",
              "      <td>0.076029</td>\n",
              "      <td>0.047011</td>\n",
              "    </tr>\n",
              "    <tr>\n",
              "      <th>P</th>\n",
              "      <td>-0.233342</td>\n",
              "      <td>1.000000</td>\n",
              "      <td>0.721855</td>\n",
              "      <td>-0.100031</td>\n",
              "      <td>-0.118327</td>\n",
              "      <td>-0.120868</td>\n",
              "      <td>-0.065516</td>\n",
              "    </tr>\n",
              "    <tr>\n",
              "      <th>K</th>\n",
              "      <td>-0.140195</td>\n",
              "      <td>0.721855</td>\n",
              "      <td>1.000000</td>\n",
              "      <td>-0.136565</td>\n",
              "      <td>0.181556</td>\n",
              "      <td>-0.142574</td>\n",
              "      <td>-0.054479</td>\n",
              "    </tr>\n",
              "    <tr>\n",
              "      <th>temperature</th>\n",
              "      <td>0.014713</td>\n",
              "      <td>-0.100031</td>\n",
              "      <td>-0.136565</td>\n",
              "      <td>1.000000</td>\n",
              "      <td>0.159112</td>\n",
              "      <td>-0.029349</td>\n",
              "      <td>-0.022207</td>\n",
              "    </tr>\n",
              "    <tr>\n",
              "      <th>humidity</th>\n",
              "      <td>0.188735</td>\n",
              "      <td>-0.118327</td>\n",
              "      <td>0.181556</td>\n",
              "      <td>0.159112</td>\n",
              "      <td>1.000000</td>\n",
              "      <td>-0.008846</td>\n",
              "      <td>0.079741</td>\n",
              "    </tr>\n",
              "    <tr>\n",
              "      <th>ph</th>\n",
              "      <td>0.076029</td>\n",
              "      <td>-0.120868</td>\n",
              "      <td>-0.142574</td>\n",
              "      <td>-0.029349</td>\n",
              "      <td>-0.008846</td>\n",
              "      <td>1.000000</td>\n",
              "      <td>-0.088785</td>\n",
              "    </tr>\n",
              "    <tr>\n",
              "      <th>rainfall</th>\n",
              "      <td>0.047011</td>\n",
              "      <td>-0.065516</td>\n",
              "      <td>-0.054479</td>\n",
              "      <td>-0.022207</td>\n",
              "      <td>0.079741</td>\n",
              "      <td>-0.088785</td>\n",
              "      <td>1.000000</td>\n",
              "    </tr>\n",
              "  </tbody>\n",
              "</table>\n",
              "</div>\n",
              "    <div class=\"colab-df-buttons\">\n",
              "\n",
              "  <div class=\"colab-df-container\">\n",
              "    <button class=\"colab-df-convert\" onclick=\"convertToInteractive('df-caa7efd3-3ec2-43de-b128-edf5730498e2')\"\n",
              "            title=\"Convert this dataframe to an interactive table.\"\n",
              "            style=\"display:none;\">\n",
              "\n",
              "  <svg xmlns=\"http://www.w3.org/2000/svg\" height=\"24px\" viewBox=\"0 -960 960 960\">\n",
              "    <path d=\"M120-120v-720h720v720H120Zm60-500h600v-160H180v160Zm220 220h160v-160H400v160Zm0 220h160v-160H400v160ZM180-400h160v-160H180v160Zm440 0h160v-160H620v160ZM180-180h160v-160H180v160Zm440 0h160v-160H620v160Z\"/>\n",
              "  </svg>\n",
              "    </button>\n",
              "\n",
              "  <style>\n",
              "    .colab-df-container {\n",
              "      display:flex;\n",
              "      gap: 12px;\n",
              "    }\n",
              "\n",
              "    .colab-df-convert {\n",
              "      background-color: #E8F0FE;\n",
              "      border: none;\n",
              "      border-radius: 50%;\n",
              "      cursor: pointer;\n",
              "      display: none;\n",
              "      fill: #1967D2;\n",
              "      height: 32px;\n",
              "      padding: 0 0 0 0;\n",
              "      width: 32px;\n",
              "    }\n",
              "\n",
              "    .colab-df-convert:hover {\n",
              "      background-color: #E2EBFA;\n",
              "      box-shadow: 0px 1px 2px rgba(60, 64, 67, 0.3), 0px 1px 3px 1px rgba(60, 64, 67, 0.15);\n",
              "      fill: #174EA6;\n",
              "    }\n",
              "\n",
              "    .colab-df-buttons div {\n",
              "      margin-bottom: 4px;\n",
              "    }\n",
              "\n",
              "    [theme=dark] .colab-df-convert {\n",
              "      background-color: #3B4455;\n",
              "      fill: #D2E3FC;\n",
              "    }\n",
              "\n",
              "    [theme=dark] .colab-df-convert:hover {\n",
              "      background-color: #434B5C;\n",
              "      box-shadow: 0px 1px 3px 1px rgba(0, 0, 0, 0.15);\n",
              "      filter: drop-shadow(0px 1px 2px rgba(0, 0, 0, 0.3));\n",
              "      fill: #FFFFFF;\n",
              "    }\n",
              "  </style>\n",
              "\n",
              "    <script>\n",
              "      const buttonEl =\n",
              "        document.querySelector('#df-caa7efd3-3ec2-43de-b128-edf5730498e2 button.colab-df-convert');\n",
              "      buttonEl.style.display =\n",
              "        google.colab.kernel.accessAllowed ? 'block' : 'none';\n",
              "\n",
              "      async function convertToInteractive(key) {\n",
              "        const element = document.querySelector('#df-caa7efd3-3ec2-43de-b128-edf5730498e2');\n",
              "        const dataTable =\n",
              "          await google.colab.kernel.invokeFunction('convertToInteractive',\n",
              "                                                    [key], {});\n",
              "        if (!dataTable) return;\n",
              "\n",
              "        const docLinkHtml = 'Like what you see? Visit the ' +\n",
              "          '<a target=\"_blank\" href=https://colab.research.google.com/notebooks/data_table.ipynb>data table notebook</a>'\n",
              "          + ' to learn more about interactive tables.';\n",
              "        element.innerHTML = '';\n",
              "        dataTable['output_type'] = 'display_data';\n",
              "        await google.colab.output.renderOutput(dataTable, element);\n",
              "        const docLink = document.createElement('div');\n",
              "        docLink.innerHTML = docLinkHtml;\n",
              "        element.appendChild(docLink);\n",
              "      }\n",
              "    </script>\n",
              "  </div>\n",
              "\n",
              "\n",
              "<div id=\"df-0d8e2b9f-b89b-4e55-ae3d-32a50ddd7eea\">\n",
              "  <button class=\"colab-df-quickchart\" onclick=\"quickchart('df-0d8e2b9f-b89b-4e55-ae3d-32a50ddd7eea')\"\n",
              "            title=\"Suggest charts\"\n",
              "            style=\"display:none;\">\n",
              "\n",
              "<svg xmlns=\"http://www.w3.org/2000/svg\" height=\"24px\"viewBox=\"0 0 24 24\"\n",
              "     width=\"24px\">\n",
              "    <g>\n",
              "        <path d=\"M19 3H5c-1.1 0-2 .9-2 2v14c0 1.1.9 2 2 2h14c1.1 0 2-.9 2-2V5c0-1.1-.9-2-2-2zM9 17H7v-7h2v7zm4 0h-2V7h2v10zm4 0h-2v-4h2v4z\"/>\n",
              "    </g>\n",
              "</svg>\n",
              "  </button>\n",
              "\n",
              "<style>\n",
              "  .colab-df-quickchart {\n",
              "      --bg-color: #E8F0FE;\n",
              "      --fill-color: #1967D2;\n",
              "      --hover-bg-color: #E2EBFA;\n",
              "      --hover-fill-color: #174EA6;\n",
              "      --disabled-fill-color: #AAA;\n",
              "      --disabled-bg-color: #DDD;\n",
              "  }\n",
              "\n",
              "  [theme=dark] .colab-df-quickchart {\n",
              "      --bg-color: #3B4455;\n",
              "      --fill-color: #D2E3FC;\n",
              "      --hover-bg-color: #434B5C;\n",
              "      --hover-fill-color: #FFFFFF;\n",
              "      --disabled-bg-color: #3B4455;\n",
              "      --disabled-fill-color: #666;\n",
              "  }\n",
              "\n",
              "  .colab-df-quickchart {\n",
              "    background-color: var(--bg-color);\n",
              "    border: none;\n",
              "    border-radius: 50%;\n",
              "    cursor: pointer;\n",
              "    display: none;\n",
              "    fill: var(--fill-color);\n",
              "    height: 32px;\n",
              "    padding: 0;\n",
              "    width: 32px;\n",
              "  }\n",
              "\n",
              "  .colab-df-quickchart:hover {\n",
              "    background-color: var(--hover-bg-color);\n",
              "    box-shadow: 0 1px 2px rgba(60, 64, 67, 0.3), 0 1px 3px 1px rgba(60, 64, 67, 0.15);\n",
              "    fill: var(--button-hover-fill-color);\n",
              "  }\n",
              "\n",
              "  .colab-df-quickchart-complete:disabled,\n",
              "  .colab-df-quickchart-complete:disabled:hover {\n",
              "    background-color: var(--disabled-bg-color);\n",
              "    fill: var(--disabled-fill-color);\n",
              "    box-shadow: none;\n",
              "  }\n",
              "\n",
              "  .colab-df-spinner {\n",
              "    border: 2px solid var(--fill-color);\n",
              "    border-color: transparent;\n",
              "    border-bottom-color: var(--fill-color);\n",
              "    animation:\n",
              "      spin 1s steps(1) infinite;\n",
              "  }\n",
              "\n",
              "  @keyframes spin {\n",
              "    0% {\n",
              "      border-color: transparent;\n",
              "      border-bottom-color: var(--fill-color);\n",
              "      border-left-color: var(--fill-color);\n",
              "    }\n",
              "    20% {\n",
              "      border-color: transparent;\n",
              "      border-left-color: var(--fill-color);\n",
              "      border-top-color: var(--fill-color);\n",
              "    }\n",
              "    30% {\n",
              "      border-color: transparent;\n",
              "      border-left-color: var(--fill-color);\n",
              "      border-top-color: var(--fill-color);\n",
              "      border-right-color: var(--fill-color);\n",
              "    }\n",
              "    40% {\n",
              "      border-color: transparent;\n",
              "      border-right-color: var(--fill-color);\n",
              "      border-top-color: var(--fill-color);\n",
              "    }\n",
              "    60% {\n",
              "      border-color: transparent;\n",
              "      border-right-color: var(--fill-color);\n",
              "    }\n",
              "    80% {\n",
              "      border-color: transparent;\n",
              "      border-right-color: var(--fill-color);\n",
              "      border-bottom-color: var(--fill-color);\n",
              "    }\n",
              "    90% {\n",
              "      border-color: transparent;\n",
              "      border-bottom-color: var(--fill-color);\n",
              "    }\n",
              "  }\n",
              "</style>\n",
              "\n",
              "  <script>\n",
              "    async function quickchart(key) {\n",
              "      const quickchartButtonEl =\n",
              "        document.querySelector('#' + key + ' button');\n",
              "      quickchartButtonEl.disabled = true;  // To prevent multiple clicks.\n",
              "      quickchartButtonEl.classList.add('colab-df-spinner');\n",
              "      try {\n",
              "        const charts = await google.colab.kernel.invokeFunction(\n",
              "            'suggestCharts', [key], {});\n",
              "      } catch (error) {\n",
              "        console.error('Error during call to suggestCharts:', error);\n",
              "      }\n",
              "      quickchartButtonEl.classList.remove('colab-df-spinner');\n",
              "      quickchartButtonEl.classList.add('colab-df-quickchart-complete');\n",
              "    }\n",
              "    (() => {\n",
              "      let quickchartButtonEl =\n",
              "        document.querySelector('#df-0d8e2b9f-b89b-4e55-ae3d-32a50ddd7eea button');\n",
              "      quickchartButtonEl.style.display =\n",
              "        google.colab.kernel.accessAllowed ? 'block' : 'none';\n",
              "    })();\n",
              "  </script>\n",
              "</div>\n",
              "\n",
              "  <div id=\"id_17e141d3-6f1d-496b-b83f-fe13383ba970\">\n",
              "    <style>\n",
              "      .colab-df-generate {\n",
              "        background-color: #E8F0FE;\n",
              "        border: none;\n",
              "        border-radius: 50%;\n",
              "        cursor: pointer;\n",
              "        display: none;\n",
              "        fill: #1967D2;\n",
              "        height: 32px;\n",
              "        padding: 0 0 0 0;\n",
              "        width: 32px;\n",
              "      }\n",
              "\n",
              "      .colab-df-generate:hover {\n",
              "        background-color: #E2EBFA;\n",
              "        box-shadow: 0px 1px 2px rgba(60, 64, 67, 0.3), 0px 1px 3px 1px rgba(60, 64, 67, 0.15);\n",
              "        fill: #174EA6;\n",
              "      }\n",
              "\n",
              "      [theme=dark] .colab-df-generate {\n",
              "        background-color: #3B4455;\n",
              "        fill: #D2E3FC;\n",
              "      }\n",
              "\n",
              "      [theme=dark] .colab-df-generate:hover {\n",
              "        background-color: #434B5C;\n",
              "        box-shadow: 0px 1px 3px 1px rgba(0, 0, 0, 0.15);\n",
              "        filter: drop-shadow(0px 1px 2px rgba(0, 0, 0, 0.3));\n",
              "        fill: #FFFFFF;\n",
              "      }\n",
              "    </style>\n",
              "    <button class=\"colab-df-generate\" onclick=\"generateWithVariable('corr')\"\n",
              "            title=\"Generate code using this dataframe.\"\n",
              "            style=\"display:none;\">\n",
              "\n",
              "  <svg xmlns=\"http://www.w3.org/2000/svg\" height=\"24px\"viewBox=\"0 0 24 24\"\n",
              "       width=\"24px\">\n",
              "    <path d=\"M7,19H8.4L18.45,9,17,7.55,7,17.6ZM5,21V16.75L18.45,3.32a2,2,0,0,1,2.83,0l1.4,1.43a1.91,1.91,0,0,1,.58,1.4,1.91,1.91,0,0,1-.58,1.4L9.25,21ZM18.45,9,17,7.55Zm-12,3A5.31,5.31,0,0,0,4.9,8.1,5.31,5.31,0,0,0,1,6.5,5.31,5.31,0,0,0,4.9,4.9,5.31,5.31,0,0,0,6.5,1,5.31,5.31,0,0,0,8.1,4.9,5.31,5.31,0,0,0,12,6.5,5.46,5.46,0,0,0,6.5,12Z\"/>\n",
              "  </svg>\n",
              "    </button>\n",
              "    <script>\n",
              "      (() => {\n",
              "      const buttonEl =\n",
              "        document.querySelector('#id_17e141d3-6f1d-496b-b83f-fe13383ba970 button.colab-df-generate');\n",
              "      buttonEl.style.display =\n",
              "        google.colab.kernel.accessAllowed ? 'block' : 'none';\n",
              "\n",
              "      buttonEl.onclick = () => {\n",
              "        google.colab.notebook.generateWithVariable('corr');\n",
              "      }\n",
              "      })();\n",
              "    </script>\n",
              "  </div>\n",
              "\n",
              "    </div>\n",
              "  </div>\n"
            ],
            "application/vnd.google.colaboratory.intrinsic+json": {
              "type": "dataframe",
              "variable_name": "corr",
              "summary": "{\n  \"name\": \"corr\",\n  \"rows\": 7,\n  \"fields\": [\n    {\n      \"column\": \"N\",\n      \"properties\": {\n        \"dtype\": \"number\",\n        \"std\": 0.40583255063283863,\n        \"min\": -0.23334207530573628,\n        \"max\": 1.0,\n        \"num_unique_values\": 7,\n        \"samples\": [\n          1.0,\n          -0.23334207530573628,\n          0.07602915459288569\n        ],\n        \"semantic_type\": \"\",\n        \"description\": \"\"\n      }\n    },\n    {\n      \"column\": \"P\",\n      \"properties\": {\n        \"dtype\": \"number\",\n        \"std\": 0.4917041692240021,\n        \"min\": -0.23334207530573628,\n        \"max\": 1.0,\n        \"num_unique_values\": 7,\n        \"samples\": [\n          -0.23334207530573628,\n          1.0,\n          -0.1208683616891965\n        ],\n        \"semantic_type\": \"\",\n        \"description\": \"\"\n      }\n    },\n    {\n      \"column\": \"K\",\n      \"properties\": {\n        \"dtype\": \"number\",\n        \"std\": 0.46969377606673224,\n        \"min\": -0.14257384590601466,\n        \"max\": 1.0,\n        \"num_unique_values\": 7,\n        \"samples\": [\n          -0.140195085013563,\n          0.7218553315830609,\n          -0.14257384590601466\n        ],\n        \"semantic_type\": \"\",\n        \"description\": \"\"\n      }\n    },\n    {\n      \"column\": \"temperature\",\n      \"properties\": {\n        \"dtype\": \"number\",\n        \"std\": 0.39654435333956106,\n        \"min\": -0.13656542654610382,\n        \"max\": 1.0,\n        \"num_unique_values\": 7,\n        \"samples\": [\n          0.014712545808817456,\n          -0.10003089641584073,\n          -0.02934857095202906\n        ],\n        \"semantic_type\": \"\",\n        \"description\": \"\"\n      }\n    },\n    {\n      \"column\": \"humidity\",\n      \"properties\": {\n        \"dtype\": \"number\",\n        \"std\": 0.3652828778306411,\n        \"min\": -0.1183265633946756,\n        \"max\": 1.0,\n        \"num_unique_values\": 7,\n        \"samples\": [\n          0.18873531229357193,\n          -0.1183265633946756,\n          -0.008845699251306892\n        ],\n        \"semantic_type\": \"\",\n        \"description\": \"\"\n      }\n    },\n    {\n      \"column\": \"ph\",\n      \"properties\": {\n        \"dtype\": \"number\",\n        \"std\": 0.4046373456187765,\n        \"min\": -0.14257384590601466,\n        \"max\": 1.0,\n        \"num_unique_values\": 7,\n        \"samples\": [\n          0.07602915459288569,\n          -0.1208683616891965,\n          1.0\n        ],\n        \"semantic_type\": \"\",\n        \"description\": \"\"\n      }\n    },\n    {\n      \"column\": \"rainfall\",\n      \"properties\": {\n        \"dtype\": \"number\",\n        \"std\": 0.3893535564702083,\n        \"min\": -0.08878542702820769,\n        \"max\": 1.0,\n        \"num_unique_values\": 7,\n        \"samples\": [\n          0.0470110764352479,\n          -0.06551553208838957,\n          -0.08878542702820769\n        ],\n        \"semantic_type\": \"\",\n        \"description\": \"\"\n      }\n    }\n  ]\n}"
            }
          },
          "metadata": {},
          "execution_count": 157
        }
      ]
    },
    {
      "cell_type": "markdown",
      "source": [
        "#size\n",
        "The .size method in Python is used to get the number of elements in an object, such as a list, tuple, set, or dictionary. However, it seems you've added parentheses to the method, which is not correct for this purpose."
      ],
      "metadata": {
        "id": "tzWk8FFKChcL"
      }
    },
    {
      "cell_type": "markdown",
      "source": [
        "![image.png](data:image/png;base64,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)"
      ],
      "metadata": {
        "id": "o08bPvxXRu7N"
      }
    },
    {
      "cell_type": "code",
      "source": [
        "#selecting all columns except 'labels' since that is not a determinig factor\n",
        "X = crop2.columns[0:-6]\n",
        "print(\"\\n\\nCorrelation of each attribute with Loan status: \\n\")\n",
        "for i in X:\n",
        "  corr = crop2[i].corr(crop2['label'])\n",
        "  print(i,\":\", corr)\n",
        "\n"
      ],
      "metadata": {
        "id": "6lgFzCSnRyES",
        "outputId": "6ff85307-920f-4c63-d218-f217954d5665",
        "colab": {
          "base_uri": "https://localhost:8080/",
          "height": 443
        }
      },
      "execution_count": 168,
      "outputs": [
        {
          "output_type": "stream",
          "name": "stdout",
          "text": [
            "\n",
            "\n",
            "Correlation of each attribute with Loan status: \n",
            "\n"
          ]
        },
        {
          "output_type": "error",
          "ename": "TypeError",
          "evalue": "unsupported operand type(s) for /: 'str' and 'int'",
          "traceback": [
            "\u001b[0;31m---------------------------------------------------------------------------\u001b[0m",
            "\u001b[0;31mTypeError\u001b[0m                                 Traceback (most recent call last)",
            "\u001b[0;32m<ipython-input-168-0a8ed3a48547>\u001b[0m in \u001b[0;36m<cell line: 4>\u001b[0;34m()\u001b[0m\n\u001b[1;32m      3\u001b[0m \u001b[0mprint\u001b[0m\u001b[0;34m(\u001b[0m\u001b[0;34m\"\\n\\nCorrelation of each attribute with Loan status: \\n\"\u001b[0m\u001b[0;34m)\u001b[0m\u001b[0;34m\u001b[0m\u001b[0;34m\u001b[0m\u001b[0m\n\u001b[1;32m      4\u001b[0m \u001b[0;32mfor\u001b[0m \u001b[0mi\u001b[0m \u001b[0;32min\u001b[0m \u001b[0mX\u001b[0m\u001b[0;34m:\u001b[0m\u001b[0;34m\u001b[0m\u001b[0;34m\u001b[0m\u001b[0m\n\u001b[0;32m----> 5\u001b[0;31m   \u001b[0mcorr\u001b[0m \u001b[0;34m=\u001b[0m \u001b[0mcrop2\u001b[0m\u001b[0;34m[\u001b[0m\u001b[0mi\u001b[0m\u001b[0;34m]\u001b[0m\u001b[0;34m.\u001b[0m\u001b[0mcorr\u001b[0m\u001b[0;34m(\u001b[0m\u001b[0mcrop2\u001b[0m\u001b[0;34m[\u001b[0m\u001b[0;34m'label'\u001b[0m\u001b[0;34m]\u001b[0m\u001b[0;34m)\u001b[0m\u001b[0;34m\u001b[0m\u001b[0;34m\u001b[0m\u001b[0m\n\u001b[0m\u001b[1;32m      6\u001b[0m   \u001b[0mprint\u001b[0m\u001b[0;34m(\u001b[0m\u001b[0mi\u001b[0m\u001b[0;34m,\u001b[0m\u001b[0;34m\":\"\u001b[0m\u001b[0;34m,\u001b[0m \u001b[0mcorr\u001b[0m\u001b[0;34m)\u001b[0m\u001b[0;34m\u001b[0m\u001b[0;34m\u001b[0m\u001b[0m\n\u001b[1;32m      7\u001b[0m \u001b[0;34m\u001b[0m\u001b[0m\n",
            "\u001b[0;32m/usr/local/lib/python3.10/dist-packages/pandas/core/series.py\u001b[0m in \u001b[0;36mcorr\u001b[0;34m(self, other, method, min_periods)\u001b[0m\n\u001b[1;32m   2758\u001b[0m \u001b[0;34m\u001b[0m\u001b[0m\n\u001b[1;32m   2759\u001b[0m         \u001b[0;32mif\u001b[0m \u001b[0mmethod\u001b[0m \u001b[0;32min\u001b[0m \u001b[0;34m[\u001b[0m\u001b[0;34m\"pearson\"\u001b[0m\u001b[0;34m,\u001b[0m \u001b[0;34m\"spearman\"\u001b[0m\u001b[0;34m,\u001b[0m \u001b[0;34m\"kendall\"\u001b[0m\u001b[0;34m]\u001b[0m \u001b[0;32mor\u001b[0m \u001b[0mcallable\u001b[0m\u001b[0;34m(\u001b[0m\u001b[0mmethod\u001b[0m\u001b[0;34m)\u001b[0m\u001b[0;34m:\u001b[0m\u001b[0;34m\u001b[0m\u001b[0;34m\u001b[0m\u001b[0m\n\u001b[0;32m-> 2760\u001b[0;31m             return nanops.nancorr(\n\u001b[0m\u001b[1;32m   2761\u001b[0m                 \u001b[0mthis\u001b[0m\u001b[0;34m.\u001b[0m\u001b[0mvalues\u001b[0m\u001b[0;34m,\u001b[0m \u001b[0mother\u001b[0m\u001b[0;34m.\u001b[0m\u001b[0mvalues\u001b[0m\u001b[0;34m,\u001b[0m \u001b[0mmethod\u001b[0m\u001b[0;34m=\u001b[0m\u001b[0mmethod\u001b[0m\u001b[0;34m,\u001b[0m \u001b[0mmin_periods\u001b[0m\u001b[0;34m=\u001b[0m\u001b[0mmin_periods\u001b[0m\u001b[0;34m\u001b[0m\u001b[0;34m\u001b[0m\u001b[0m\n\u001b[1;32m   2762\u001b[0m             )\n",
            "\u001b[0;32m/usr/local/lib/python3.10/dist-packages/pandas/core/nanops.py\u001b[0m in \u001b[0;36m_f\u001b[0;34m(*args, **kwargs)\u001b[0m\n\u001b[1;32m     91\u001b[0m             \u001b[0;32mtry\u001b[0m\u001b[0;34m:\u001b[0m\u001b[0;34m\u001b[0m\u001b[0;34m\u001b[0m\u001b[0m\n\u001b[1;32m     92\u001b[0m                 \u001b[0;32mwith\u001b[0m \u001b[0mnp\u001b[0m\u001b[0;34m.\u001b[0m\u001b[0merrstate\u001b[0m\u001b[0;34m(\u001b[0m\u001b[0minvalid\u001b[0m\u001b[0;34m=\u001b[0m\u001b[0;34m\"ignore\"\u001b[0m\u001b[0;34m)\u001b[0m\u001b[0;34m:\u001b[0m\u001b[0;34m\u001b[0m\u001b[0;34m\u001b[0m\u001b[0m\n\u001b[0;32m---> 93\u001b[0;31m                     \u001b[0;32mreturn\u001b[0m \u001b[0mf\u001b[0m\u001b[0;34m(\u001b[0m\u001b[0;34m*\u001b[0m\u001b[0margs\u001b[0m\u001b[0;34m,\u001b[0m \u001b[0;34m**\u001b[0m\u001b[0mkwargs\u001b[0m\u001b[0;34m)\u001b[0m\u001b[0;34m\u001b[0m\u001b[0;34m\u001b[0m\u001b[0m\n\u001b[0m\u001b[1;32m     94\u001b[0m             \u001b[0;32mexcept\u001b[0m \u001b[0mValueError\u001b[0m \u001b[0;32mas\u001b[0m \u001b[0me\u001b[0m\u001b[0;34m:\u001b[0m\u001b[0;34m\u001b[0m\u001b[0;34m\u001b[0m\u001b[0m\n\u001b[1;32m     95\u001b[0m                 \u001b[0;31m# we want to transform an object array\u001b[0m\u001b[0;34m\u001b[0m\u001b[0;34m\u001b[0m\u001b[0m\n",
            "\u001b[0;32m/usr/local/lib/python3.10/dist-packages/pandas/core/nanops.py\u001b[0m in \u001b[0;36mnancorr\u001b[0;34m(a, b, method, min_periods)\u001b[0m\n\u001b[1;32m   1552\u001b[0m \u001b[0;34m\u001b[0m\u001b[0m\n\u001b[1;32m   1553\u001b[0m     \u001b[0mf\u001b[0m \u001b[0;34m=\u001b[0m \u001b[0mget_corr_func\u001b[0m\u001b[0;34m(\u001b[0m\u001b[0mmethod\u001b[0m\u001b[0;34m)\u001b[0m\u001b[0;34m\u001b[0m\u001b[0;34m\u001b[0m\u001b[0m\n\u001b[0;32m-> 1554\u001b[0;31m     \u001b[0;32mreturn\u001b[0m \u001b[0mf\u001b[0m\u001b[0;34m(\u001b[0m\u001b[0ma\u001b[0m\u001b[0;34m,\u001b[0m \u001b[0mb\u001b[0m\u001b[0;34m)\u001b[0m\u001b[0;34m\u001b[0m\u001b[0;34m\u001b[0m\u001b[0m\n\u001b[0m\u001b[1;32m   1555\u001b[0m \u001b[0;34m\u001b[0m\u001b[0m\n\u001b[1;32m   1556\u001b[0m \u001b[0;34m\u001b[0m\u001b[0m\n",
            "\u001b[0;32m/usr/local/lib/python3.10/dist-packages/pandas/core/nanops.py\u001b[0m in \u001b[0;36mfunc\u001b[0;34m(a, b)\u001b[0m\n\u001b[1;32m   1573\u001b[0m \u001b[0;34m\u001b[0m\u001b[0m\n\u001b[1;32m   1574\u001b[0m         \u001b[0;32mdef\u001b[0m \u001b[0mfunc\u001b[0m\u001b[0;34m(\u001b[0m\u001b[0ma\u001b[0m\u001b[0;34m,\u001b[0m \u001b[0mb\u001b[0m\u001b[0;34m)\u001b[0m\u001b[0;34m:\u001b[0m\u001b[0;34m\u001b[0m\u001b[0;34m\u001b[0m\u001b[0m\n\u001b[0;32m-> 1575\u001b[0;31m             \u001b[0;32mreturn\u001b[0m \u001b[0mnp\u001b[0m\u001b[0;34m.\u001b[0m\u001b[0mcorrcoef\u001b[0m\u001b[0;34m(\u001b[0m\u001b[0ma\u001b[0m\u001b[0;34m,\u001b[0m \u001b[0mb\u001b[0m\u001b[0;34m)\u001b[0m\u001b[0;34m[\u001b[0m\u001b[0;36m0\u001b[0m\u001b[0;34m,\u001b[0m \u001b[0;36m1\u001b[0m\u001b[0;34m]\u001b[0m\u001b[0;34m\u001b[0m\u001b[0;34m\u001b[0m\u001b[0m\n\u001b[0m\u001b[1;32m   1576\u001b[0m \u001b[0;34m\u001b[0m\u001b[0m\n\u001b[1;32m   1577\u001b[0m         \u001b[0;32mreturn\u001b[0m \u001b[0mfunc\u001b[0m\u001b[0;34m\u001b[0m\u001b[0;34m\u001b[0m\u001b[0m\n",
            "\u001b[0;32m/usr/local/lib/python3.10/dist-packages/numpy/lib/function_base.py\u001b[0m in \u001b[0;36mcorrcoef\u001b[0;34m(x, y, rowvar, bias, ddof, dtype)\u001b[0m\n\u001b[1;32m   2887\u001b[0m         warnings.warn('bias and ddof have no effect and are deprecated',\n\u001b[1;32m   2888\u001b[0m                       DeprecationWarning, stacklevel=2)\n\u001b[0;32m-> 2889\u001b[0;31m     \u001b[0mc\u001b[0m \u001b[0;34m=\u001b[0m \u001b[0mcov\u001b[0m\u001b[0;34m(\u001b[0m\u001b[0mx\u001b[0m\u001b[0;34m,\u001b[0m \u001b[0my\u001b[0m\u001b[0;34m,\u001b[0m \u001b[0mrowvar\u001b[0m\u001b[0;34m,\u001b[0m \u001b[0mdtype\u001b[0m\u001b[0;34m=\u001b[0m\u001b[0mdtype\u001b[0m\u001b[0;34m)\u001b[0m\u001b[0;34m\u001b[0m\u001b[0;34m\u001b[0m\u001b[0m\n\u001b[0m\u001b[1;32m   2890\u001b[0m     \u001b[0;32mtry\u001b[0m\u001b[0;34m:\u001b[0m\u001b[0;34m\u001b[0m\u001b[0;34m\u001b[0m\u001b[0m\n\u001b[1;32m   2891\u001b[0m         \u001b[0md\u001b[0m \u001b[0;34m=\u001b[0m \u001b[0mdiag\u001b[0m\u001b[0;34m(\u001b[0m\u001b[0mc\u001b[0m\u001b[0;34m)\u001b[0m\u001b[0;34m\u001b[0m\u001b[0;34m\u001b[0m\u001b[0m\n",
            "\u001b[0;32m/usr/local/lib/python3.10/dist-packages/numpy/lib/function_base.py\u001b[0m in \u001b[0;36mcov\u001b[0;34m(m, y, rowvar, bias, ddof, fweights, aweights, dtype)\u001b[0m\n\u001b[1;32m   2722\u001b[0m             \u001b[0mw\u001b[0m \u001b[0;34m*=\u001b[0m \u001b[0maweights\u001b[0m\u001b[0;34m\u001b[0m\u001b[0;34m\u001b[0m\u001b[0m\n\u001b[1;32m   2723\u001b[0m \u001b[0;34m\u001b[0m\u001b[0m\n\u001b[0;32m-> 2724\u001b[0;31m     \u001b[0mavg\u001b[0m\u001b[0;34m,\u001b[0m \u001b[0mw_sum\u001b[0m \u001b[0;34m=\u001b[0m \u001b[0maverage\u001b[0m\u001b[0;34m(\u001b[0m\u001b[0mX\u001b[0m\u001b[0;34m,\u001b[0m \u001b[0maxis\u001b[0m\u001b[0;34m=\u001b[0m\u001b[0;36m1\u001b[0m\u001b[0;34m,\u001b[0m \u001b[0mweights\u001b[0m\u001b[0;34m=\u001b[0m\u001b[0mw\u001b[0m\u001b[0;34m,\u001b[0m \u001b[0mreturned\u001b[0m\u001b[0;34m=\u001b[0m\u001b[0;32mTrue\u001b[0m\u001b[0;34m)\u001b[0m\u001b[0;34m\u001b[0m\u001b[0;34m\u001b[0m\u001b[0m\n\u001b[0m\u001b[1;32m   2725\u001b[0m     \u001b[0mw_sum\u001b[0m \u001b[0;34m=\u001b[0m \u001b[0mw_sum\u001b[0m\u001b[0;34m[\u001b[0m\u001b[0;36m0\u001b[0m\u001b[0;34m]\u001b[0m\u001b[0;34m\u001b[0m\u001b[0;34m\u001b[0m\u001b[0m\n\u001b[1;32m   2726\u001b[0m \u001b[0;34m\u001b[0m\u001b[0m\n",
            "\u001b[0;32m/usr/local/lib/python3.10/dist-packages/numpy/lib/function_base.py\u001b[0m in \u001b[0;36maverage\u001b[0;34m(a, axis, weights, returned, keepdims)\u001b[0m\n\u001b[1;32m    518\u001b[0m \u001b[0;34m\u001b[0m\u001b[0m\n\u001b[1;32m    519\u001b[0m     \u001b[0;32mif\u001b[0m \u001b[0mweights\u001b[0m \u001b[0;32mis\u001b[0m \u001b[0;32mNone\u001b[0m\u001b[0;34m:\u001b[0m\u001b[0;34m\u001b[0m\u001b[0;34m\u001b[0m\u001b[0m\n\u001b[0;32m--> 520\u001b[0;31m         \u001b[0mavg\u001b[0m \u001b[0;34m=\u001b[0m \u001b[0ma\u001b[0m\u001b[0;34m.\u001b[0m\u001b[0mmean\u001b[0m\u001b[0;34m(\u001b[0m\u001b[0maxis\u001b[0m\u001b[0;34m,\u001b[0m \u001b[0;34m**\u001b[0m\u001b[0mkeepdims_kw\u001b[0m\u001b[0;34m)\u001b[0m\u001b[0;34m\u001b[0m\u001b[0;34m\u001b[0m\u001b[0m\n\u001b[0m\u001b[1;32m    521\u001b[0m         \u001b[0mavg_as_array\u001b[0m \u001b[0;34m=\u001b[0m \u001b[0mnp\u001b[0m\u001b[0;34m.\u001b[0m\u001b[0masanyarray\u001b[0m\u001b[0;34m(\u001b[0m\u001b[0mavg\u001b[0m\u001b[0;34m)\u001b[0m\u001b[0;34m\u001b[0m\u001b[0;34m\u001b[0m\u001b[0m\n\u001b[1;32m    522\u001b[0m         \u001b[0mscl\u001b[0m \u001b[0;34m=\u001b[0m \u001b[0mavg_as_array\u001b[0m\u001b[0;34m.\u001b[0m\u001b[0mdtype\u001b[0m\u001b[0;34m.\u001b[0m\u001b[0mtype\u001b[0m\u001b[0;34m(\u001b[0m\u001b[0ma\u001b[0m\u001b[0;34m.\u001b[0m\u001b[0msize\u001b[0m\u001b[0;34m/\u001b[0m\u001b[0mavg_as_array\u001b[0m\u001b[0;34m.\u001b[0m\u001b[0msize\u001b[0m\u001b[0;34m)\u001b[0m\u001b[0;34m\u001b[0m\u001b[0;34m\u001b[0m\u001b[0m\n",
            "\u001b[0;32m/usr/local/lib/python3.10/dist-packages/numpy/core/_methods.py\u001b[0m in \u001b[0;36m_mean\u001b[0;34m(a, axis, dtype, out, keepdims, where)\u001b[0m\n\u001b[1;32m    119\u001b[0m     \u001b[0;32mif\u001b[0m \u001b[0misinstance\u001b[0m\u001b[0;34m(\u001b[0m\u001b[0mret\u001b[0m\u001b[0;34m,\u001b[0m \u001b[0mmu\u001b[0m\u001b[0;34m.\u001b[0m\u001b[0mndarray\u001b[0m\u001b[0;34m)\u001b[0m\u001b[0;34m:\u001b[0m\u001b[0;34m\u001b[0m\u001b[0;34m\u001b[0m\u001b[0m\n\u001b[1;32m    120\u001b[0m         \u001b[0;32mwith\u001b[0m \u001b[0m_no_nep50_warning\u001b[0m\u001b[0;34m(\u001b[0m\u001b[0;34m)\u001b[0m\u001b[0;34m:\u001b[0m\u001b[0;34m\u001b[0m\u001b[0;34m\u001b[0m\u001b[0m\n\u001b[0;32m--> 121\u001b[0;31m             ret = um.true_divide(\n\u001b[0m\u001b[1;32m    122\u001b[0m                     ret, rcount, out=ret, casting='unsafe', subok=False)\n\u001b[1;32m    123\u001b[0m         \u001b[0;32mif\u001b[0m \u001b[0mis_float16_result\u001b[0m \u001b[0;32mand\u001b[0m \u001b[0mout\u001b[0m \u001b[0;32mis\u001b[0m \u001b[0;32mNone\u001b[0m\u001b[0;34m:\u001b[0m\u001b[0;34m\u001b[0m\u001b[0;34m\u001b[0m\u001b[0m\n",
            "\u001b[0;31mTypeError\u001b[0m: unsupported operand type(s) for /: 'str' and 'int'"
          ]
        }
      ]
    },
    {
      "cell_type": "code",
      "source": [
        " crop2.size"
      ],
      "metadata": {
        "colab": {
          "base_uri": "https://localhost:8080/"
        },
        "id": "BUkk_pNkBzYM",
        "outputId": "e6ecb1fa-4c5b-4e39-8d84-971786966adf"
      },
      "execution_count": 120,
      "outputs": [
        {
          "output_type": "execute_result",
          "data": {
            "text/plain": [
              "17680"
            ]
          },
          "metadata": {},
          "execution_count": 120
        }
      ]
    },
    {
      "cell_type": "markdown",
      "source": [
        "#columns\n",
        "The .columns attribute is used to retrieve the column labels of a DataFrame in pandas."
      ],
      "metadata": {
        "id": "Oiy9RuMKC5NE"
      }
    },
    {
      "cell_type": "code",
      "source": [
        " crop2.columns\n"
      ],
      "metadata": {
        "colab": {
          "base_uri": "https://localhost:8080/"
        },
        "id": "v3Hlm0DBDBI9",
        "outputId": "8b6feedd-c0a3-4458-abdc-79cd70284af3"
      },
      "execution_count": 166,
      "outputs": [
        {
          "output_type": "execute_result",
          "data": {
            "text/plain": [
              "Index(['N', 'P', 'K', 'temperature', 'humidity', 'ph', 'rainfall', 'label'], dtype='object')"
            ]
          },
          "metadata": {},
          "execution_count": 166
        }
      ]
    },
    {
      "cell_type": "markdown",
      "source": [
        "#  crop2['label'].unique()\n",
        "The code crop2['label'].unique() is used to get the unique values in the 'label' column of the DataFrame crop2.\n"
      ],
      "metadata": {
        "id": "kN1IYIncDqUq"
      }
    },
    {
      "cell_type": "code",
      "source": [
        "crop2['label'].unique()"
      ],
      "metadata": {
        "colab": {
          "base_uri": "https://localhost:8080/"
        },
        "id": "FAA81jy9EC47",
        "outputId": "e3c32f50-9ad2-4676-ea8f-bc45c8133583"
      },
      "execution_count": 122,
      "outputs": [
        {
          "output_type": "execute_result",
          "data": {
            "text/plain": [
              "array(['rice', nan, 'maize', 'chickpea', 'kidneybeans', 'pigeonpeas',\n",
              "       'mothbeans', 'mungbean', 'blackgram', 'lentil', 'pomegranate',\n",
              "       'banana', 'mango', 'grapes', 'watermelon', 'muskmelon', 'apple',\n",
              "       'orange', 'papaya', 'coconut', 'cotton', 'jute', 'coffee'],\n",
              "      dtype=object)"
            ]
          },
          "metadata": {},
          "execution_count": 122
        }
      ]
    },
    {
      "cell_type": "markdown",
      "source": [
        "#dtypes\n",
        "The dtypes attribute in pandas DataFrame is used to get the data types of each column in the DataFrame."
      ],
      "metadata": {
        "id": "ik7UGgY8En87"
      }
    },
    {
      "cell_type": "code",
      "source": [
        " crop2.dtypes"
      ],
      "metadata": {
        "colab": {
          "base_uri": "https://localhost:8080/"
        },
        "id": "xap2AJdLEs-V",
        "outputId": "b88cb17d-832e-4b01-8624-1c07dea3370d"
      },
      "execution_count": 123,
      "outputs": [
        {
          "output_type": "execute_result",
          "data": {
            "text/plain": [
              "N              float64\n",
              "P              float64\n",
              "K              float64\n",
              "temperature    float64\n",
              "humidity       float64\n",
              "ph             float64\n",
              "rainfall       float64\n",
              "label           object\n",
              "dtype: object"
            ]
          },
          "metadata": {},
          "execution_count": 123
        }
      ]
    },
    {
      "cell_type": "markdown",
      "source": [
        "# crop2['label'].value_counts()\n",
        "\n",
        "* The output of crop2['label'].value_counts() will be a Series where each unique label in the 'label' column of crop2 is listed along with the count of occurrences of that label in the dataset. This information is useful for understanding the distribution of different labels in the dataset and can be valuable for various analytical purposes."
      ],
      "metadata": {
        "id": "pBV3YwuxFPbN"
      }
    },
    {
      "cell_type": "code",
      "source": [
        "crop2['label'].value_counts()"
      ],
      "metadata": {
        "colab": {
          "base_uri": "https://localhost:8080/"
        },
        "id": "kX--oO5fFR-j",
        "outputId": "77486c30-fb9f-448f-e4ae-59fcfb7fc381"
      },
      "execution_count": 124,
      "outputs": [
        {
          "output_type": "execute_result",
          "data": {
            "text/plain": [
              "kidneybeans    101\n",
              "blackgram      101\n",
              "apple          101\n",
              "rice           100\n",
              "maize          100\n",
              "jute           100\n",
              "cotton         100\n",
              "coconut        100\n",
              "papaya         100\n",
              "muskmelon      100\n",
              "grapes         100\n",
              "mango          100\n",
              "pomegranate    100\n",
              "mothbeans      100\n",
              "pigeonpeas     100\n",
              "chickpea       100\n",
              "banana          99\n",
              "lentil          99\n",
              "watermelon      98\n",
              "orange          98\n",
              "mungbean        98\n",
              "coffee          98\n",
              "Name: label, dtype: int64"
            ]
          },
          "metadata": {},
          "execution_count": 124
        }
      ]
    },
    {
      "cell_type": "markdown",
      "source": [
        "#Visualizing the correlation matrix\n",
        " By visualizing the correlation matrix as a heatmap, you can easily identify patterns and relationships between variables in the dataset. Positive correlations will appear in warm colors, negative correlations in cool colors, and no correlation in neutral colors. The annotations provide the exact correlation coefficients, making it easier to interpret the heatmap."
      ],
      "metadata": {
        "id": "sH2YpNElF_mh"
      }
    },
    {
      "cell_type": "code",
      "source": [
        "sns.heatmap(corr,annot=True,cbar=True, cmap='coolwarm')"
      ],
      "metadata": {
        "colab": {
          "base_uri": "https://localhost:8080/",
          "height": 526
        },
        "id": "ca0NBElEGEPx",
        "outputId": "dfb012d9-6f8b-43d5-e361-e2422cec8005"
      },
      "execution_count": 125,
      "outputs": [
        {
          "output_type": "execute_result",
          "data": {
            "text/plain": [
              "<Axes: >"
            ]
          },
          "metadata": {},
          "execution_count": 125
        },
        {
          "output_type": "display_data",
          "data": {
            "text/plain": [
              "<Figure size 640x480 with 2 Axes>"
            ],
            "image/png": "[encoded data removed]"
          },
          "metadata": {}
        }
      ]
    },
    {
      "cell_type": "markdown",
      "source": [
        "#Distribution of values in the 'N' column of the DataFrame crop2.\n",
        "\n",
        "By executing this code, you'll generate a distribution plot showing the distribution of values in the 'N' column of the DataFrame crop2. This visualization helps in understanding the distribution of values and identifying any patterns or outliers present in the data."
      ],
      "metadata": {
        "id": "rEKJ_LckU2ew"
      }
    },
    {
      "cell_type": "code",
      "source": [
        "sns.distplot(crop2['N'])\n",
        "plt.show()"
      ],
      "metadata": {
        "colab": {
          "base_uri": "https://localhost:8080/",
          "height": 449
        },
        "id": "49_cOctOGcjs",
        "outputId": "407a77da-3c42-4054-91d2-54c7f89ee1fa"
      },
      "execution_count": 126,
      "outputs": [
        {
          "output_type": "display_data",
          "data": {
            "text/plain": [
              "<Figure size 640x480 with 1 Axes>"
            ],
            "image/png": "[encoded data removed]"
          },
          "metadata": {}
        }
      ]
    },
    {
      "cell_type": "markdown",
      "source": [
        "#Distribution of values in the 'P' column of the DataFrame crop2.\n",
        "\n",
        "By executing this code, you'll generate a distribution plot showing the distribution of values in the 'P' column of the DataFrame crop2. This visualization helps in understanding the distribution of values and identifying any patterns or outliers present in the data."
      ],
      "metadata": {
        "id": "K8syEzXyVoPQ"
      }
    },
    {
      "cell_type": "code",
      "source": [
        "sns.distplot(crop2['P'])\n",
        "plt.show()"
      ],
      "metadata": {
        "colab": {
          "base_uri": "https://localhost:8080/",
          "height": 449
        },
        "id": "gmK_QOhmGnLL",
        "outputId": "f8505e7a-f73c-4861-bc6e-9e83c0d11df8"
      },
      "execution_count": 127,
      "outputs": [
        {
          "output_type": "display_data",
          "data": {
            "text/plain": [
              "<Figure size 640x480 with 1 Axes>"
            ],
            "image/png": "[encoded data removed]"
          },
          "metadata": {}
        }
      ]
    },
    {
      "cell_type": "markdown",
      "source": [
        "#Distribution plot of K, Temperature, Humidity, ph, Rainfall using Seaborn's distplot() function."
      ],
      "metadata": {
        "id": "MVxV-tq_Vx1d"
      }
    },
    {
      "cell_type": "code",
      "source": [
        "sns.distplot(crop2['K'])\n",
        "plt.show()"
      ],
      "metadata": {
        "id": "FyCGZBetWT6p",
        "outputId": "9121f2ad-db45-4919-e2a7-0d5eca4fe4ca",
        "colab": {
          "base_uri": "https://localhost:8080/",
          "height": 449
        }
      },
      "execution_count": 128,
      "outputs": [
        {
          "output_type": "display_data",
          "data": {
            "text/plain": [
              "<Figure size 640x480 with 1 Axes>"
            ],
            "image/png": "[encoded data removed]"
          },
          "metadata": {}
        }
      ]
    },
    {
      "cell_type": "code",
      "source": [
        "sns.distplot(crop2['temperature'])\n",
        "plt.show()"
      ],
      "metadata": {
        "id": "eiyOsalPWakn",
        "outputId": "e2f17e3a-a9b5-49c0-86b5-f4623bed658c",
        "colab": {
          "base_uri": "https://localhost:8080/",
          "height": 449
        }
      },
      "execution_count": 129,
      "outputs": [
        {
          "output_type": "display_data",
          "data": {
            "text/plain": [
              "<Figure size 640x480 with 1 Axes>"
            ],
            "image/png": "[encoded data removed]"
          },
          "metadata": {}
        }
      ]
    },
    {
      "cell_type": "code",
      "source": [
        "sns.distplot(crop2['ph'])\n",
        "plt.show()"
      ],
      "metadata": {
        "id": "DGsE3fWrWmGZ",
        "outputId": "8107dfee-cb76-4616-e47c-78c7a4b46dd4",
        "colab": {
          "base_uri": "https://localhost:8080/",
          "height": 449
        }
      },
      "execution_count": 130,
      "outputs": [
        {
          "output_type": "display_data",
          "data": {
            "text/plain": [
              "<Figure size 640x480 with 1 Axes>"
            ],
            "image/png": "[encoded data removed]"
          },
          "metadata": {}
        }
      ]
    },
    {
      "cell_type": "code",
      "source": [
        "sns.distplot(crop2['rainfall'])\n",
        "plt.show()"
      ],
      "metadata": {
        "id": "DjsZGvjGWrQ4",
        "outputId": "31f2be2a-6c05-480c-f0f1-7475645c2ec6",
        "colab": {
          "base_uri": "https://localhost:8080/",
          "height": 449
        }
      },
      "execution_count": 131,
      "outputs": [
        {
          "output_type": "display_data",
          "data": {
            "text/plain": [
              "<Figure size 640x480 with 1 Axes>"
            ],
            "image/png": "[encoded data removed]"
          },
          "metadata": {}
        }
      ]
    },
    {
      "cell_type": "markdown",
      "metadata": {
        "id": "KnTt79rIAlJk"
      },
      "source": [
        "# Seperating features and target label\n",
        " this code prepares your data by selecting relevant features and the target variable for use in a machine learning model. The features are the input variables used to make predictions, while the target variable is the output variable you want to predict."
      ]
    },
    {
      "cell_type": "code",
      "execution_count": 132,
      "metadata": {
        "id": "w7zDRPZYAlJm"
      },
      "outputs": [],
      "source": [
        "features =  crop2[['N', 'P','K','temperature', 'humidity', 'ph', 'rainfall']]\n",
        "target =  crop2['label']\n",
        "#features = df[['temperature', 'humidity', 'ph', 'rainfall']]\n",
        "labels =  crop2['label']"
      ]
    },
    {
      "cell_type": "markdown",
      "source": [
        "# Initialzing empty lists to append all model's name and corresponding name\n",
        "By initializing these lists, you're setting up a structure to collect and organize the results of model evaluation, likely for comparison or further analysis. As you evaluate different models, you can append their accuracy scores to the acc list and their names to the model list, allowing you to track and analyze the performance of each model.\n"
      ],
      "metadata": {
        "id": "1gXwhnjdRAti"
      }
    },
    {
      "cell_type": "code",
      "execution_count": 133,
      "metadata": {
        "id": "Hha-78JvAlJm"
      },
      "outputs": [],
      "source": [
        "# Initialzing empty lists to append all model's name and corresponding name\n",
        "acc = []\n",
        "model = []"
      ]
    },
    {
      "cell_type": "markdown",
      "source": [
        "### The line **from sklearn.model_selection import train_test_split** imports the train_test_split function from the sklearn.model_selection module. This function is commonly used in machine learning to split datasets into training and testing sets."
      ],
      "metadata": {
        "id": "lVbcQJQgSv1X"
      }
    },
    {
      "cell_type": "code",
      "source": [
        "from sklearn.model_selection import train_test_split"
      ],
      "metadata": {
        "id": "AFxxMk4VS7gN"
      },
      "execution_count": 134,
      "outputs": []
    },
    {
      "cell_type": "markdown",
      "source": [
        "### The line **Xtrain, Xtest, Ytrain, Ytest = train_test_split(features,target,test_size = 0.2,random_state =2)** uses the train_test_split function from scikit-learn to split the dataset into training and testing sets."
      ],
      "metadata": {
        "id": "h6GYytGwMgd2"
      }
    },
    {
      "cell_type": "code",
      "source": [
        "Xtrain, Xtest, Ytrain, Ytest = train_test_split(features,target,test_size = 0.2,random_state =2)"
      ],
      "metadata": {
        "id": "JuGLc9VYT6p0"
      },
      "execution_count": 135,
      "outputs": []
    },
    {
      "cell_type": "markdown",
      "source": [
        "# Now we will train our model"
      ],
      "metadata": {
        "id": "AbKfyjzmmfKI"
      }
    },
    {
      "cell_type": "markdown",
      "source": [
        "In machine learning (ML), model training involves the process of feeding data into a machine learning algorithm or model to enable it to learn patterns, relationships, and insights from the data."
      ],
      "metadata": {
        "id": "XMcpgpb1m35i"
      }
    },
    {
      "cell_type": "markdown",
      "source": [
        "##Decision Tree\n",
        "Decision tree training involves recursively partitioning the input space (feature space) into smaller regions while aiming to minimize impurity or maximize information gain at each step."
      ],
      "metadata": {
        "id": "slZyW1JZn2ap"
      }
    },
    {
      "cell_type": "code",
      "source": [
        "from sklearn.tree import DecisionTreeClassifier\n",
        "\n",
        "DecisionTree = DecisionTreeClassifier(criterion=\"entropy\",random_state=2,max_depth=5)\n",
        "\n",
        "DecisionTree.fit(Xtrain,Ytrain)\n",
        "\n",
        "predicted_values = DecisionTree.predict(Xtest)\n",
        "x = metrics.accuracy_score(Ytest, predicted_values)\n",
        "acc.append(x)\n",
        "model.append('Decision Tree')\n",
        "print(\"DecisionTrees's Accuracy is: \", x)\n",
        "\n",
        "print(classification_report(Ytest,predicted_values))"
      ],
      "metadata": {
        "id": "yzqFG7ULpOux",
        "outputId": "99e9146f-21fa-4a03-803f-ed67f805c103",
        "colab": {
          "base_uri": "https://localhost:8080/",
          "height": 408
        }
      },
      "execution_count": 136,
      "outputs": [
        {
          "output_type": "error",
          "ename": "ValueError",
          "evalue": "Input contains NaN",
          "traceback": [
            "\u001b[0;31m---------------------------------------------------------------------------\u001b[0m",
            "\u001b[0;31mValueError\u001b[0m                                Traceback (most recent call last)",
            "\u001b[0;32m<ipython-input-136-3cd64c8d2caf>\u001b[0m in \u001b[0;36m<cell line: 5>\u001b[0;34m()\u001b[0m\n\u001b[1;32m      3\u001b[0m \u001b[0mDecisionTree\u001b[0m \u001b[0;34m=\u001b[0m \u001b[0mDecisionTreeClassifier\u001b[0m\u001b[0;34m(\u001b[0m\u001b[0mcriterion\u001b[0m\u001b[0;34m=\u001b[0m\u001b[0;34m\"entropy\"\u001b[0m\u001b[0;34m,\u001b[0m\u001b[0mrandom_state\u001b[0m\u001b[0;34m=\u001b[0m\u001b[0;36m2\u001b[0m\u001b[0;34m,\u001b[0m\u001b[0mmax_depth\u001b[0m\u001b[0;34m=\u001b[0m\u001b[0;36m5\u001b[0m\u001b[0;34m)\u001b[0m\u001b[0;34m\u001b[0m\u001b[0;34m\u001b[0m\u001b[0m\n\u001b[1;32m      4\u001b[0m \u001b[0;34m\u001b[0m\u001b[0m\n\u001b[0;32m----> 5\u001b[0;31m \u001b[0mDecisionTree\u001b[0m\u001b[0;34m.\u001b[0m\u001b[0mfit\u001b[0m\u001b[0;34m(\u001b[0m\u001b[0mXtrain\u001b[0m\u001b[0;34m,\u001b[0m\u001b[0mYtrain\u001b[0m\u001b[0;34m)\u001b[0m\u001b[0;34m\u001b[0m\u001b[0;34m\u001b[0m\u001b[0m\n\u001b[0m\u001b[1;32m      6\u001b[0m \u001b[0;34m\u001b[0m\u001b[0m\n\u001b[1;32m      7\u001b[0m \u001b[0mpredicted_values\u001b[0m \u001b[0;34m=\u001b[0m \u001b[0mDecisionTree\u001b[0m\u001b[0;34m.\u001b[0m\u001b[0mpredict\u001b[0m\u001b[0;34m(\u001b[0m\u001b[0mXtest\u001b[0m\u001b[0;34m)\u001b[0m\u001b[0;34m\u001b[0m\u001b[0;34m\u001b[0m\u001b[0m\n",
            "\u001b[0;32m/usr/local/lib/python3.10/dist-packages/sklearn/tree/_classes.py\u001b[0m in \u001b[0;36mfit\u001b[0;34m(self, X, y, sample_weight, check_input)\u001b[0m\n\u001b[1;32m    887\u001b[0m         \"\"\"\n\u001b[1;32m    888\u001b[0m \u001b[0;34m\u001b[0m\u001b[0m\n\u001b[0;32m--> 889\u001b[0;31m         super().fit(\n\u001b[0m\u001b[1;32m    890\u001b[0m             \u001b[0mX\u001b[0m\u001b[0;34m,\u001b[0m\u001b[0;34m\u001b[0m\u001b[0;34m\u001b[0m\u001b[0m\n\u001b[1;32m    891\u001b[0m             \u001b[0my\u001b[0m\u001b[0;34m,\u001b[0m\u001b[0;34m\u001b[0m\u001b[0;34m\u001b[0m\u001b[0m\n",
            "\u001b[0;32m/usr/local/lib/python3.10/dist-packages/sklearn/tree/_classes.py\u001b[0m in \u001b[0;36mfit\u001b[0;34m(self, X, y, sample_weight, check_input)\u001b[0m\n\u001b[1;32m    184\u001b[0m             \u001b[0mcheck_X_params\u001b[0m \u001b[0;34m=\u001b[0m \u001b[0mdict\u001b[0m\u001b[0;34m(\u001b[0m\u001b[0mdtype\u001b[0m\u001b[0;34m=\u001b[0m\u001b[0mDTYPE\u001b[0m\u001b[0;34m,\u001b[0m \u001b[0maccept_sparse\u001b[0m\u001b[0;34m=\u001b[0m\u001b[0;34m\"csc\"\u001b[0m\u001b[0;34m)\u001b[0m\u001b[0;34m\u001b[0m\u001b[0;34m\u001b[0m\u001b[0m\n\u001b[1;32m    185\u001b[0m             \u001b[0mcheck_y_params\u001b[0m \u001b[0;34m=\u001b[0m \u001b[0mdict\u001b[0m\u001b[0;34m(\u001b[0m\u001b[0mensure_2d\u001b[0m\u001b[0;34m=\u001b[0m\u001b[0;32mFalse\u001b[0m\u001b[0;34m,\u001b[0m \u001b[0mdtype\u001b[0m\u001b[0;34m=\u001b[0m\u001b[0;32mNone\u001b[0m\u001b[0;34m)\u001b[0m\u001b[0;34m\u001b[0m\u001b[0;34m\u001b[0m\u001b[0m\n\u001b[0;32m--> 186\u001b[0;31m             X, y = self._validate_data(\n\u001b[0m\u001b[1;32m    187\u001b[0m                 \u001b[0mX\u001b[0m\u001b[0;34m,\u001b[0m \u001b[0my\u001b[0m\u001b[0;34m,\u001b[0m \u001b[0mvalidate_separately\u001b[0m\u001b[0;34m=\u001b[0m\u001b[0;34m(\u001b[0m\u001b[0mcheck_X_params\u001b[0m\u001b[0;34m,\u001b[0m \u001b[0mcheck_y_params\u001b[0m\u001b[0;34m)\u001b[0m\u001b[0;34m\u001b[0m\u001b[0;34m\u001b[0m\u001b[0m\n\u001b[1;32m    188\u001b[0m             )\n",
            "\u001b[0;32m/usr/local/lib/python3.10/dist-packages/sklearn/base.py\u001b[0m in \u001b[0;36m_validate_data\u001b[0;34m(self, X, y, reset, validate_separately, **check_params)\u001b[0m\n\u001b[1;32m    580\u001b[0m                 \u001b[0;32mif\u001b[0m \u001b[0;34m\"estimator\"\u001b[0m \u001b[0;32mnot\u001b[0m \u001b[0;32min\u001b[0m \u001b[0mcheck_y_params\u001b[0m\u001b[0;34m:\u001b[0m\u001b[0;34m\u001b[0m\u001b[0;34m\u001b[0m\u001b[0m\n\u001b[1;32m    581\u001b[0m                     \u001b[0mcheck_y_params\u001b[0m \u001b[0;34m=\u001b[0m \u001b[0;34m{\u001b[0m\u001b[0;34m**\u001b[0m\u001b[0mdefault_check_params\u001b[0m\u001b[0;34m,\u001b[0m \u001b[0;34m**\u001b[0m\u001b[0mcheck_y_params\u001b[0m\u001b[0;34m}\u001b[0m\u001b[0;34m\u001b[0m\u001b[0;34m\u001b[0m\u001b[0m\n\u001b[0;32m--> 582\u001b[0;31m                 \u001b[0my\u001b[0m \u001b[0;34m=\u001b[0m \u001b[0mcheck_array\u001b[0m\u001b[0;34m(\u001b[0m\u001b[0my\u001b[0m\u001b[0;34m,\u001b[0m \u001b[0minput_name\u001b[0m\u001b[0;34m=\u001b[0m\u001b[0;34m\"y\"\u001b[0m\u001b[0;34m,\u001b[0m \u001b[0;34m**\u001b[0m\u001b[0mcheck_y_params\u001b[0m\u001b[0;34m)\u001b[0m\u001b[0;34m\u001b[0m\u001b[0;34m\u001b[0m\u001b[0m\n\u001b[0m\u001b[1;32m    583\u001b[0m             \u001b[0;32melse\u001b[0m\u001b[0;34m:\u001b[0m\u001b[0;34m\u001b[0m\u001b[0;34m\u001b[0m\u001b[0m\n\u001b[1;32m    584\u001b[0m                 \u001b[0mX\u001b[0m\u001b[0;34m,\u001b[0m \u001b[0my\u001b[0m \u001b[0;34m=\u001b[0m \u001b[0mcheck_X_y\u001b[0m\u001b[0;34m(\u001b[0m\u001b[0mX\u001b[0m\u001b[0;34m,\u001b[0m \u001b[0my\u001b[0m\u001b[0;34m,\u001b[0m \u001b[0;34m**\u001b[0m\u001b[0mcheck_params\u001b[0m\u001b[0;34m)\u001b[0m\u001b[0;34m\u001b[0m\u001b[0;34m\u001b[0m\u001b[0m\n",
            "\u001b[0;32m/usr/local/lib/python3.10/dist-packages/sklearn/utils/validation.py\u001b[0m in \u001b[0;36mcheck_array\u001b[0;34m(array, accept_sparse, accept_large_sparse, dtype, order, copy, force_all_finite, ensure_2d, allow_nd, ensure_min_samples, ensure_min_features, estimator, input_name)\u001b[0m\n\u001b[1;32m    919\u001b[0m \u001b[0;34m\u001b[0m\u001b[0m\n\u001b[1;32m    920\u001b[0m         \u001b[0;32mif\u001b[0m \u001b[0mforce_all_finite\u001b[0m\u001b[0;34m:\u001b[0m\u001b[0;34m\u001b[0m\u001b[0;34m\u001b[0m\u001b[0m\n\u001b[0;32m--> 921\u001b[0;31m             _assert_all_finite(\n\u001b[0m\u001b[1;32m    922\u001b[0m                 \u001b[0marray\u001b[0m\u001b[0;34m,\u001b[0m\u001b[0;34m\u001b[0m\u001b[0;34m\u001b[0m\u001b[0m\n\u001b[1;32m    923\u001b[0m                 \u001b[0minput_name\u001b[0m\u001b[0;34m=\u001b[0m\u001b[0minput_name\u001b[0m\u001b[0;34m,\u001b[0m\u001b[0;34m\u001b[0m\u001b[0;34m\u001b[0m\u001b[0m\n",
            "\u001b[0;32m/usr/local/lib/python3.10/dist-packages/sklearn/utils/validation.py\u001b[0m in \u001b[0;36m_assert_all_finite\u001b[0;34m(X, allow_nan, msg_dtype, estimator_name, input_name)\u001b[0m\n\u001b[1;32m    109\u001b[0m     \u001b[0;32mif\u001b[0m \u001b[0mX\u001b[0m\u001b[0;34m.\u001b[0m\u001b[0mdtype\u001b[0m \u001b[0;34m==\u001b[0m \u001b[0mnp\u001b[0m\u001b[0;34m.\u001b[0m\u001b[0mdtype\u001b[0m\u001b[0;34m(\u001b[0m\u001b[0;34m\"object\"\u001b[0m\u001b[0;34m)\u001b[0m \u001b[0;32mand\u001b[0m \u001b[0;32mnot\u001b[0m \u001b[0mallow_nan\u001b[0m\u001b[0;34m:\u001b[0m\u001b[0;34m\u001b[0m\u001b[0;34m\u001b[0m\u001b[0m\n\u001b[1;32m    110\u001b[0m         \u001b[0;32mif\u001b[0m \u001b[0m_object_dtype_isnan\u001b[0m\u001b[0;34m(\u001b[0m\u001b[0mX\u001b[0m\u001b[0;34m)\u001b[0m\u001b[0;34m.\u001b[0m\u001b[0many\u001b[0m\u001b[0;34m(\u001b[0m\u001b[0;34m)\u001b[0m\u001b[0;34m:\u001b[0m\u001b[0;34m\u001b[0m\u001b[0;34m\u001b[0m\u001b[0m\n\u001b[0;32m--> 111\u001b[0;31m             \u001b[0;32mraise\u001b[0m \u001b[0mValueError\u001b[0m\u001b[0;34m(\u001b[0m\u001b[0;34m\"Input contains NaN\"\u001b[0m\u001b[0;34m)\u001b[0m\u001b[0;34m\u001b[0m\u001b[0;34m\u001b[0m\u001b[0m\n\u001b[0m\u001b[1;32m    112\u001b[0m \u001b[0;34m\u001b[0m\u001b[0m\n\u001b[1;32m    113\u001b[0m     \u001b[0;31m# We need only consider float arrays, hence can early return for all else.\u001b[0m\u001b[0;34m\u001b[0m\u001b[0;34m\u001b[0m\u001b[0m\n",
            "\u001b[0;31mValueError\u001b[0m: Input contains NaN"
          ]
        }
      ]
    },
    {
      "cell_type": "markdown",
      "source": [
        "# from sklearn.model_selection import cross_val_score\n",
        "\n",
        "This line of code imports the cross_val_score function from the model_selection module of scikit-learn.cross_val_score is used for cross-validation"
      ],
      "metadata": {
        "id": "2LXERLlStpLf"
      }
    },
    {
      "cell_type": "code",
      "source": [
        "from sklearn.model_selection import cross_val_score\n"
      ],
      "metadata": {
        "id": "eKrPmejgt2vC"
      },
      "execution_count": null,
      "outputs": []
    },
    {
      "cell_type": "markdown",
      "source": [
        "# Cross validation score (Decision Tree)\n",
        "After executing this line of code, score will contain an array of cross-validated scores, allowing you to assess the performance of your decision tree model across multiple train-test splits of the data. These scores can then be used to estimate the model's generalization ability and variability."
      ],
      "metadata": {
        "id": "yHUL7-_hvRgN"
      }
    },
    {
      "cell_type": "code",
      "source": [
        "score = cross_val_score(DecisionTree, features, target,cv=5)"
      ],
      "metadata": {
        "id": "meE7pEU9vSdI"
      },
      "execution_count": null,
      "outputs": []
    },
    {
      "cell_type": "markdown",
      "source": [
        "#score\n",
        "The variable score contains the cross-validated scores obtained from the cross_val_score function. These scores represent the performance of the decision tree model (DecisionTree) across different folds of the cross-validation process"
      ],
      "metadata": {
        "id": "zxmJGPrtwT7p"
      }
    },
    {
      "cell_type": "code",
      "source": [
        "score"
      ],
      "metadata": {
        "id": "uqXZp3A0wYqp"
      },
      "execution_count": null,
      "outputs": []
    },
    {
      "cell_type": "markdown",
      "metadata": {
        "id": "cOZERh-TAlJo"
      },
      "source": [
        "### Saving trained Decision Tree model\n",
        "To save a trained Decision Tree classifier using the pickle module in Python."
      ]
    },
    {
      "cell_type": "code",
      "source": [
        "import pickle\n",
        "# Dump the trained Naive Bayes classifier with Pickle\n",
        "DT_pkl_filename = '/content/gdrive/My Drive/models/DecisionTree.pkl'\n",
        "# Open the file to save as pkl file\n",
        "DT_Model_pkl = open(DT_pkl_filename, 'wb')\n",
        "pickle.dump(DecisionTree, DT_Model_pkl)\n",
        "# Close the pickle instances\n",
        "DT_Model_pkl.close()"
      ],
      "metadata": {
        "id": "qr6C10LUwp_W"
      },
      "execution_count": null,
      "outputs": []
    },
    {
      "cell_type": "markdown",
      "metadata": {
        "id": "EmEzbdb_AlJo"
      },
      "source": [
        "# Guassian Naive Bayes\n",
        "Gaussian Naive Bayes (GNB) is a variant of the Naive Bayes algorithm that assumes the features are continuous and follows a Gaussian (normal) distribution."
      ]
    },
    {
      "cell_type": "code",
      "source": [
        "from sklearn.naive_bayes import GaussianNB\n",
        "\n",
        "NaiveBayes = GaussianNB()\n",
        "\n",
        "NaiveBayes.fit(Xtrain,Ytrain)\n",
        "\n",
        "predicted_values = NaiveBayes.predict(Xtest)\n",
        "x = metrics.accuracy_score(Ytest, predicted_values)\n",
        "acc.append(x)\n",
        "model.append('Naive Bayes')\n",
        "print(\"Naive Bayes's Accuracy is: \", x)\n",
        "\n",
        "print(classification_report(Ytest,predicted_values))"
      ],
      "metadata": {
        "id": "RErh7aSD6lA3"
      },
      "execution_count": null,
      "outputs": []
    },
    {
      "cell_type": "markdown",
      "source": [
        "# Cross validation score (NaiveBayes)"
      ],
      "metadata": {
        "id": "LGroJDaC7PVn"
      }
    },
    {
      "cell_type": "code",
      "source": [
        "score = cross_val_score(NaiveBayes,features,target,cv=5)\n",
        "score"
      ],
      "metadata": {
        "id": "L9fRX-Gn7QMP"
      },
      "execution_count": null,
      "outputs": []
    },
    {
      "cell_type": "markdown",
      "metadata": {
        "id": "vorriCMEAlJo"
      },
      "source": [
        "### Saving trained Guassian Naive Bayes model"
      ]
    },
    {
      "cell_type": "code",
      "source": [
        "import pickle\n",
        "# Dump the trained Naive Bayes classifier with Pickle\n",
        "NB_pkl_filename = '/content/gdrive/My Drive/models//NBClassifier.pkl'\n",
        "# Open the file to save as pkl file\n",
        "NB_Model_pkl = open(NB_pkl_filename, 'wb')\n",
        "pickle.dump(NaiveBayes, NB_Model_pkl)\n",
        "# Close the pickle instances\n",
        "NB_Model_pkl.close()"
      ],
      "metadata": {
        "id": "AsM_xr0i786S"
      },
      "execution_count": null,
      "outputs": []
    },
    {
      "cell_type": "markdown",
      "metadata": {
        "id": "AUKypYeWAlJp"
      },
      "source": [
        "# Support Vector Machine (SVM)\n",
        "Support Vector Machine or SVM is one of the most popular Supervised Learning algorithms, which is used for Classification as well as Regression problems. However, primarily, it is used for Classification problems in Machine Learning."
      ]
    },
    {
      "cell_type": "code",
      "source": [
        "from sklearn.svm import SVC\n",
        "# data normalization with sklearn\n",
        "from sklearn.preprocessing import MinMaxScaler\n",
        "# fit scaler on training data\n",
        "norm = MinMaxScaler().fit(Xtrain)\n",
        "X_train_norm = norm.transform(Xtrain)\n",
        "# transform testing dataabs\n",
        "X_test_norm = norm.transform(Xtest)\n",
        "SVM = SVC(kernel='poly', degree=3, C=1)\n",
        "SVM.fit(X_train_norm,Ytrain)\n",
        "predicted_values = SVM.predict(X_test_norm)\n",
        "x = metrics.accuracy_score(Ytest, predicted_values)\n",
        "acc.append(x)\n",
        "model.append('SVM')\n",
        "print(\"SVM's Accuracy is: \", x)\n",
        "\n",
        "print(classification_report(Ytest,predicted_values))"
      ],
      "metadata": {
        "id": "61FBv2QZ9DYC"
      },
      "execution_count": null,
      "outputs": []
    },
    {
      "cell_type": "markdown",
      "source": [
        "# Cross validation score (SVM)"
      ],
      "metadata": {
        "id": "I3q-bvyjHsXB"
      }
    },
    {
      "cell_type": "code",
      "source": [
        "# Cross validation score (SVM)\n",
        "score = cross_val_score(SVM,features,target,cv=5)\n",
        "score"
      ],
      "metadata": {
        "id": "pjDyn3XiHor8"
      },
      "execution_count": null,
      "outputs": []
    },
    {
      "cell_type": "markdown",
      "source": [
        "#Saving trained SVM model"
      ],
      "metadata": {
        "id": "imniWayuIX6U"
      }
    },
    {
      "cell_type": "code",
      "source": [
        "import pickle\n",
        "# Dump the trained SVM classifier with Pickle\n",
        "SVM_pkl_filename = '/content/gdrive/My Drive/models/SVMClassifier.pkl'\n",
        "# Open the file to save as pkl file\n",
        "SVM_Model_pkl = open(SVM_pkl_filename, 'wb')\n",
        "pickle.dump(SVM, SVM_Model_pkl)\n",
        "# Close the pickle instances\n",
        "SVM_Model_pkl.close()"
      ],
      "metadata": {
        "id": "Ngy518HbIZ6k"
      },
      "execution_count": null,
      "outputs": []
    },
    {
      "cell_type": "markdown",
      "metadata": {
        "id": "6an70inMAlJq"
      },
      "source": [
        "# Logistic Regression\n",
        "Logistic regression is used for binary classification where we use sigmoid function, that takes input as independent variables and produces a probability value between 0 and 1.\n",
        "\n",
        "For example, we have two classes Class 0 and Class 1 if the value of the logistic function for an input is greater than 0.5 (threshold value) then it belongs to Class 1 it belongs to Class 0. It’s referred to as regression because it is the extension of linear regression but is mainly used for classification problems."
      ]
    },
    {
      "cell_type": "code",
      "source": [
        "from sklearn.linear_model import LogisticRegression\n",
        "\n",
        "LogReg = LogisticRegression(random_state=2)\n",
        "\n",
        "LogReg.fit(Xtrain,Ytrain)\n",
        "\n",
        "predicted_values = LogReg.predict(Xtest)\n",
        "\n",
        "x = metrics.accuracy_score(Ytest, predicted_values)\n",
        "acc.append(x)\n",
        "model.append('Logistic Regression')\n",
        "print(\"Logistic Regression's Accuracy is: \", x)\n",
        "\n",
        "print(classification_report(Ytest,predicted_values))"
      ],
      "metadata": {
        "id": "K_IQaUZeJrUB"
      },
      "execution_count": null,
      "outputs": []
    },
    {
      "cell_type": "markdown",
      "source": [
        "# Cross validation score (Logistic Regression)"
      ],
      "metadata": {
        "id": "Ti5GUB8bLRnK"
      }
    },
    {
      "cell_type": "code",
      "source": [
        "score = cross_val_score(LogReg,features,target,cv=5)\n",
        "score"
      ],
      "metadata": {
        "id": "sLJMB-krLSRW"
      },
      "execution_count": null,
      "outputs": []
    },
    {
      "cell_type": "markdown",
      "metadata": {
        "id": "OtP54A2TAlJr"
      },
      "source": [
        "### Saving trained Logistic Regression model"
      ]
    },
    {
      "cell_type": "code",
      "source": [
        "import pickle\n",
        "# Dump the trained Naive Bayes classifier with Pickle\n",
        "LR_pkl_filename = '/content/gdrive/My Drive/models/LogisticRegression.pkl'\n",
        "# Open the file to save as pkl file\n",
        "LR_Model_pkl = open(LR_pkl_filename, 'wb')\n",
        "pickle.dump(LogReg, LR_Model_pkl)\n",
        "# Close the pickle instances\n",
        "LR_Model_pkl.close()"
      ],
      "metadata": {
        "id": "C6tYNHDdMtQ-"
      },
      "execution_count": null,
      "outputs": []
    },
    {
      "cell_type": "markdown",
      "metadata": {
        "id": "OY1MZgAiAlJr"
      },
      "source": [
        "# Random Forest\n",
        "Random Forest is a popular machine learning algorithm that belongs to the supervised learning technique. It can be used for both Classification and Regression problems in ML. It is based on the concept of ensemble learning, which is a process of combining multiple classifiers to solve a complex problem and to improve the performance of the model."
      ]
    },
    {
      "cell_type": "code",
      "source": [
        "from sklearn.ensemble import RandomForestClassifier\n",
        "\n",
        "RF = RandomForestClassifier(n_estimators=20, random_state=0)\n",
        "RF.fit(Xtrain,Ytrain)\n",
        "\n",
        "predicted_values = RF.predict(Xtest)\n",
        "\n",
        "x = metrics.accuracy_score(Ytest, predicted_values)\n",
        "acc.append(x)\n",
        "model.append('RF')\n",
        "print(\"RF's Accuracy is: \", x)\n",
        "\n",
        "print(classification_report(Ytest,predicted_values))"
      ],
      "metadata": {
        "id": "Ov-Mrb_ANvfd"
      },
      "execution_count": null,
      "outputs": []
    },
    {
      "cell_type": "markdown",
      "source": [
        "# Cross validation score (Random Forest)"
      ],
      "metadata": {
        "id": "2brg43VeOfyz"
      }
    },
    {
      "cell_type": "code",
      "source": [
        "score = cross_val_score(RF,features,target,cv=5)\n",
        "score"
      ],
      "metadata": {
        "id": "niSdLMu2OhEr"
      },
      "execution_count": null,
      "outputs": []
    },
    {
      "cell_type": "markdown",
      "metadata": {
        "id": "Us1LDTEoAlJs"
      },
      "source": [
        "### Saving trained Random Forest model"
      ]
    },
    {
      "cell_type": "code",
      "source": [
        "import pickle\n",
        "# Dump the trained Naive Bayes classifier with Pickle\n",
        "RF_pkl_filename = '/content/gdrive/My Drive/models/RandomForest.pkl'\n",
        "# Open the file to save as pkl file\n",
        "RF_Model_pkl = open(RF_pkl_filename, 'wb')\n",
        "pickle.dump(RF, RF_Model_pkl)\n",
        "# Close the pickle instances\n",
        "RF_Model_pkl.close()"
      ],
      "metadata": {
        "id": "YiIb5QqZPrj1"
      },
      "execution_count": null,
      "outputs": []
    },
    {
      "cell_type": "markdown",
      "metadata": {
        "id": "w87c4DR8AlJt"
      },
      "source": [
        "## Accuracy Comparison"
      ]
    },
    {
      "cell_type": "code",
      "source": [
        "plt.figure(figsize=[10,5],dpi = 100)\n",
        "plt.title('Accuracy Comparison')\n",
        "plt.xlabel('Accuracy')\n",
        "plt.ylabel('Algorithm')\n",
        "sns.barplot(x = acc,y = model,palette='dark')"
      ],
      "metadata": {
        "id": "Z-v49O4pQBot"
      },
      "execution_count": null,
      "outputs": []
    },
    {
      "cell_type": "code",
      "source": [
        "accuracy_models = dict(zip(model, acc))\n",
        "for k, v in accuracy_models.items():\n",
        "    print (k, '-->', v)"
      ],
      "metadata": {
        "id": "28ab0CqYRBeY"
      },
      "execution_count": null,
      "outputs": []
    },
    {
      "cell_type": "markdown",
      "metadata": {
        "id": "TRS806tEAlJu"
      },
      "source": [
        "## Making a prediction"
      ]
    },
    {
      "cell_type": "code",
      "source": [
        "data = np.array([[101,87,54,29,76,6.3,100]])\n",
        "prediction = RF.predict(data)[0]\n",
        "print(\"{} is a best crop to be cultivated. \".format(prediction))"
      ],
      "metadata": {
        "id": "njComSreRvDT"
      },
      "execution_count": null,
      "outputs": []
    },
    {
      "cell_type": "code",
      "source": [
        "def recommendation(N,P,k,temperature,humidity,ph,rainfal):\n",
        "    features = np.array([[N,P,k,temperature,humidity,ph,rainfal]])\n",
        "    prediction = RF.predict(features)[0]\n",
        "\n",
        "    return prediction"
      ],
      "metadata": {
        "id": "CAQUfDkTR769"
      },
      "execution_count": null,
      "outputs": []
    },
    {
      "cell_type": "code",
      "source": [
        "N = 2\n",
        "P = 123\n",
        "k = 198\n",
        "temperature = 39.64\n",
        "humidity = 82.21\n",
        "ph = 6.25\n",
        "rainfall = 70.39\n",
        "predict = recommendation(N,P,k,temperature,humidity,ph,rainfall)\n",
        "print(\"{} is a best crop to be cultivated. \".format(predict))"
      ],
      "metadata": {
        "id": "oSS1QjwySmSM"
      },
      "execution_count": null,
      "outputs": []
    }
  ]
}