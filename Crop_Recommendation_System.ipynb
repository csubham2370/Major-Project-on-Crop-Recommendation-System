{
  "nbformat": 4,
  "nbformat_minor": 0,
  "metadata": {
    "colab": {
      "provenance": [],
      "include_colab_link": true
    },
    "kernelspec": {
      "name": "python3",
      "display_name": "Python 3"
    },
    "language_info": {
      "name": "python"
    }
  },
  "cells": [
    {
      "cell_type": "markdown",
      "metadata": {
        "id": "view-in-github",
        "colab_type": "text"
      },
      "source": [
        "<a href=\"https://colab.research.google.com/github/csubham2370/Major-Project-on-Crop-Recommendation-System/blob/main/Crop_Recommendation_System.ipynb\" target=\"_parent\"><img src=\"https://colab.research.google.com/assets/colab-badge.svg\" alt=\"Open In Colab\"/></a>"
      ]
    },
    {
      "cell_type": "markdown",
      "source": [
        "By combining these imports, you're setting up your Python environment for data analysis, visualization, and machine learning tasks while also configuring it to handle warnings in a specific way."
      ],
      "metadata": {
        "id": "r58EWITjzW5M"
      }
    },
    {
      "cell_type": "code",
      "source": [
        "# Importing libraries\n",
        "\n",
        "from __future__ import print_function\n",
        "import pandas as pd\n",
        "import numpy as np\n",
        "import matplotlib.pyplot as plt\n",
        "import seaborn as sns\n",
        "from sklearn.metrics import classification_report\n",
        "from sklearn import metrics\n",
        "from sklearn import tree\n",
        "import warnings\n",
        "warnings.filterwarnings('ignore')"
      ],
      "metadata": {
        "id": "kd_SRaff2ZaL"
      },
      "execution_count": 361,
      "outputs": []
    },
    {
      "cell_type": "markdown",
      "source": [
        "# Upload a file on Google Colab\n",
        "This code allows the user to upload a file from their local system to a Google Colab notebook environment, and the uploaded file(s) information is stored in the uploaded variable for further processing within the notebook."
      ],
      "metadata": {
        "id": "JkqR8SnA2k8Z"
      }
    },
    {
      "cell_type": "code",
      "source": [
        "# from google.colab import files\n",
        "\n",
        "# # Upload a file\n",
        "# uploaded = files.upload()"
      ],
      "metadata": {
        "id": "RGTF-GWp2osw"
      },
      "execution_count": 362,
      "outputs": []
    },
    {
      "cell_type": "markdown",
      "source": [
        "# Importing the Data\n",
        "This code reads the contents of a CSV file named 'modified_crop.csv' using Pandas and stores it in a DataFrame named crop for further processing and analysis in Python.\n"
      ],
      "metadata": {
        "id": "teaDJu314J71"
      }
    },
    {
      "cell_type": "code",
      "source": [
        "crop = pd.read_csv('/content/gdrive/My Drive/modified_crop.csv')\n",
        "crop"
      ],
      "metadata": {
        "colab": {
          "base_uri": "https://localhost:8080/",
          "height": 423
        },
        "id": "vlv0JUCU4RgF",
        "outputId": "6a9bc397-087e-448b-bb54-8f2dd19c4136"
      },
      "execution_count": 363,
      "outputs": [
        {
          "output_type": "execute_result",
          "data": {
            "text/plain": [
              "         N     P     K  temperature   humidity        ph    rainfall  \\\n",
              "0     90.0  42.0  43.0    20.879744  82.002744  6.502985  202.935536   \n",
              "1     85.0  58.0  41.0    21.770462  80.319644  7.038096  226.655537   \n",
              "2     60.0  55.0  44.0    23.004459  82.320763  7.840207  263.964248   \n",
              "3     74.0  35.0  40.0    26.491096  80.158363  6.980401  242.864034   \n",
              "4     78.0  42.0  42.0    20.130175  81.604873  7.628473  262.717340   \n",
              "...    ...   ...   ...          ...        ...       ...         ...   \n",
              "2545   8.0  28.0  38.0    23.225940  94.429714  6.844402  105.691786   \n",
              "2546  52.0  68.0  78.0    17.485041  16.960706  6.896552   86.050780   \n",
              "2547  13.0  47.0  20.0    29.217800  87.937242  6.544502   43.138663   \n",
              "2548  74.0  46.0  45.0    25.757349  88.366685  6.025029  189.426348   \n",
              "2549   2.0  30.0  30.0    26.001751  94.799984  6.331052  209.540094   \n",
              "\n",
              "            label  \n",
              "0            rice  \n",
              "1            rice  \n",
              "2            rice  \n",
              "3            rice  \n",
              "4            rice  \n",
              "...           ...  \n",
              "2545  pomegranate  \n",
              "2546     chickpea  \n",
              "2547     mungbean  \n",
              "2548         jute  \n",
              "2549      coconut  \n",
              "\n",
              "[2550 rows x 8 columns]"
            ],
            "text/html": [
              "\n",
              "  <div id=\"df-56cef386-af32-422e-aa25-51fca58b2247\" class=\"colab-df-container\">\n",
              "    <div>\n",
              "<style scoped>\n",
              "    .dataframe tbody tr th:only-of-type {\n",
              "        vertical-align: middle;\n",
              "    }\n",
              "\n",
              "    .dataframe tbody tr th {\n",
              "        vertical-align: top;\n",
              "    }\n",
              "\n",
              "    .dataframe thead th {\n",
              "        text-align: right;\n",
              "    }\n",
              "</style>\n",
              "<table border=\"1\" class=\"dataframe\">\n",
              "  <thead>\n",
              "    <tr style=\"text-align: right;\">\n",
              "      <th></th>\n",
              "      <th>N</th>\n",
              "      <th>P</th>\n",
              "      <th>K</th>\n",
              "      <th>temperature</th>\n",
              "      <th>humidity</th>\n",
              "      <th>ph</th>\n",
              "      <th>rainfall</th>\n",
              "      <th>label</th>\n",
              "    </tr>\n",
              "  </thead>\n",
              "  <tbody>\n",
              "    <tr>\n",
              "      <th>0</th>\n",
              "      <td>90.0</td>\n",
              "      <td>42.0</td>\n",
              "      <td>43.0</td>\n",
              "      <td>20.879744</td>\n",
              "      <td>82.002744</td>\n",
              "      <td>6.502985</td>\n",
              "      <td>202.935536</td>\n",
              "      <td>rice</td>\n",
              "    </tr>\n",
              "    <tr>\n",
              "      <th>1</th>\n",
              "      <td>85.0</td>\n",
              "      <td>58.0</td>\n",
              "      <td>41.0</td>\n",
              "      <td>21.770462</td>\n",
              "      <td>80.319644</td>\n",
              "      <td>7.038096</td>\n",
              "      <td>226.655537</td>\n",
              "      <td>rice</td>\n",
              "    </tr>\n",
              "    <tr>\n",
              "      <th>2</th>\n",
              "      <td>60.0</td>\n",
              "      <td>55.0</td>\n",
              "      <td>44.0</td>\n",
              "      <td>23.004459</td>\n",
              "      <td>82.320763</td>\n",
              "      <td>7.840207</td>\n",
              "      <td>263.964248</td>\n",
              "      <td>rice</td>\n",
              "    </tr>\n",
              "    <tr>\n",
              "      <th>3</th>\n",
              "      <td>74.0</td>\n",
              "      <td>35.0</td>\n",
              "      <td>40.0</td>\n",
              "      <td>26.491096</td>\n",
              "      <td>80.158363</td>\n",
              "      <td>6.980401</td>\n",
              "      <td>242.864034</td>\n",
              "      <td>rice</td>\n",
              "    </tr>\n",
              "    <tr>\n",
              "      <th>4</th>\n",
              "      <td>78.0</td>\n",
              "      <td>42.0</td>\n",
              "      <td>42.0</td>\n",
              "      <td>20.130175</td>\n",
              "      <td>81.604873</td>\n",
              "      <td>7.628473</td>\n",
              "      <td>262.717340</td>\n",
              "      <td>rice</td>\n",
              "    </tr>\n",
              "    <tr>\n",
              "      <th>...</th>\n",
              "      <td>...</td>\n",
              "      <td>...</td>\n",
              "      <td>...</td>\n",
              "      <td>...</td>\n",
              "      <td>...</td>\n",
              "      <td>...</td>\n",
              "      <td>...</td>\n",
              "      <td>...</td>\n",
              "    </tr>\n",
              "    <tr>\n",
              "      <th>2545</th>\n",
              "      <td>8.0</td>\n",
              "      <td>28.0</td>\n",
              "      <td>38.0</td>\n",
              "      <td>23.225940</td>\n",
              "      <td>94.429714</td>\n",
              "      <td>6.844402</td>\n",
              "      <td>105.691786</td>\n",
              "      <td>pomegranate</td>\n",
              "    </tr>\n",
              "    <tr>\n",
              "      <th>2546</th>\n",
              "      <td>52.0</td>\n",
              "      <td>68.0</td>\n",
              "      <td>78.0</td>\n",
              "      <td>17.485041</td>\n",
              "      <td>16.960706</td>\n",
              "      <td>6.896552</td>\n",
              "      <td>86.050780</td>\n",
              "      <td>chickpea</td>\n",
              "    </tr>\n",
              "    <tr>\n",
              "      <th>2547</th>\n",
              "      <td>13.0</td>\n",
              "      <td>47.0</td>\n",
              "      <td>20.0</td>\n",
              "      <td>29.217800</td>\n",
              "      <td>87.937242</td>\n",
              "      <td>6.544502</td>\n",
              "      <td>43.138663</td>\n",
              "      <td>mungbean</td>\n",
              "    </tr>\n",
              "    <tr>\n",
              "      <th>2548</th>\n",
              "      <td>74.0</td>\n",
              "      <td>46.0</td>\n",
              "      <td>45.0</td>\n",
              "      <td>25.757349</td>\n",
              "      <td>88.366685</td>\n",
              "      <td>6.025029</td>\n",
              "      <td>189.426348</td>\n",
              "      <td>jute</td>\n",
              "    </tr>\n",
              "    <tr>\n",
              "      <th>2549</th>\n",
              "      <td>2.0</td>\n",
              "      <td>30.0</td>\n",
              "      <td>30.0</td>\n",
              "      <td>26.001751</td>\n",
              "      <td>94.799984</td>\n",
              "      <td>6.331052</td>\n",
              "      <td>209.540094</td>\n",
              "      <td>coconut</td>\n",
              "    </tr>\n",
              "  </tbody>\n",
              "</table>\n",
              "<p>2550 rows × 8 columns</p>\n",
              "</div>\n",
              "    <div class=\"colab-df-buttons\">\n",
              "\n",
              "  <div class=\"colab-df-container\">\n",
              "    <button class=\"colab-df-convert\" onclick=\"convertToInteractive('df-56cef386-af32-422e-aa25-51fca58b2247')\"\n",
              "            title=\"Convert this dataframe to an interactive table.\"\n",
              "            style=\"display:none;\">\n",
              "\n",
              "  <svg xmlns=\"http://www.w3.org/2000/svg\" height=\"24px\" viewBox=\"0 -960 960 960\">\n",
              "    <path d=\"M120-120v-720h720v720H120Zm60-500h600v-160H180v160Zm220 220h160v-160H400v160Zm0 220h160v-160H400v160ZM180-400h160v-160H180v160Zm440 0h160v-160H620v160ZM180-180h160v-160H180v160Zm440 0h160v-160H620v160Z\"/>\n",
              "  </svg>\n",
              "    </button>\n",
              "\n",
              "  <style>\n",
              "    .colab-df-container {\n",
              "      display:flex;\n",
              "      gap: 12px;\n",
              "    }\n",
              "\n",
              "    .colab-df-convert {\n",
              "      background-color: #E8F0FE;\n",
              "      border: none;\n",
              "      border-radius: 50%;\n",
              "      cursor: pointer;\n",
              "      display: none;\n",
              "      fill: #1967D2;\n",
              "      height: 32px;\n",
              "      padding: 0 0 0 0;\n",
              "      width: 32px;\n",
              "    }\n",
              "\n",
              "    .colab-df-convert:hover {\n",
              "      background-color: #E2EBFA;\n",
              "      box-shadow: 0px 1px 2px rgba(60, 64, 67, 0.3), 0px 1px 3px 1px rgba(60, 64, 67, 0.15);\n",
              "      fill: #174EA6;\n",
              "    }\n",
              "\n",
              "    .colab-df-buttons div {\n",
              "      margin-bottom: 4px;\n",
              "    }\n",
              "\n",
              "    [theme=dark] .colab-df-convert {\n",
              "      background-color: #3B4455;\n",
              "      fill: #D2E3FC;\n",
              "    }\n",
              "\n",
              "    [theme=dark] .colab-df-convert:hover {\n",
              "      background-color: #434B5C;\n",
              "      box-shadow: 0px 1px 3px 1px rgba(0, 0, 0, 0.15);\n",
              "      filter: drop-shadow(0px 1px 2px rgba(0, 0, 0, 0.3));\n",
              "      fill: #FFFFFF;\n",
              "    }\n",
              "  </style>\n",
              "\n",
              "    <script>\n",
              "      const buttonEl =\n",
              "        document.querySelector('#df-56cef386-af32-422e-aa25-51fca58b2247 button.colab-df-convert');\n",
              "      buttonEl.style.display =\n",
              "        google.colab.kernel.accessAllowed ? 'block' : 'none';\n",
              "\n",
              "      async function convertToInteractive(key) {\n",
              "        const element = document.querySelector('#df-56cef386-af32-422e-aa25-51fca58b2247');\n",
              "        const dataTable =\n",
              "          await google.colab.kernel.invokeFunction('convertToInteractive',\n",
              "                                                    [key], {});\n",
              "        if (!dataTable) return;\n",
              "\n",
              "        const docLinkHtml = 'Like what you see? Visit the ' +\n",
              "          '<a target=\"_blank\" href=https://colab.research.google.com/notebooks/data_table.ipynb>data table notebook</a>'\n",
              "          + ' to learn more about interactive tables.';\n",
              "        element.innerHTML = '';\n",
              "        dataTable['output_type'] = 'display_data';\n",
              "        await google.colab.output.renderOutput(dataTable, element);\n",
              "        const docLink = document.createElement('div');\n",
              "        docLink.innerHTML = docLinkHtml;\n",
              "        element.appendChild(docLink);\n",
              "      }\n",
              "    </script>\n",
              "  </div>\n",
              "\n",
              "\n",
              "<div id=\"df-ad6dc836-9092-4eeb-afaf-64b541d64229\">\n",
              "  <button class=\"colab-df-quickchart\" onclick=\"quickchart('df-ad6dc836-9092-4eeb-afaf-64b541d64229')\"\n",
              "            title=\"Suggest charts\"\n",
              "            style=\"display:none;\">\n",
              "\n",
              "<svg xmlns=\"http://www.w3.org/2000/svg\" height=\"24px\"viewBox=\"0 0 24 24\"\n",
              "     width=\"24px\">\n",
              "    <g>\n",
              "        <path d=\"M19 3H5c-1.1 0-2 .9-2 2v14c0 1.1.9 2 2 2h14c1.1 0 2-.9 2-2V5c0-1.1-.9-2-2-2zM9 17H7v-7h2v7zm4 0h-2V7h2v10zm4 0h-2v-4h2v4z\"/>\n",
              "    </g>\n",
              "</svg>\n",
              "  </button>\n",
              "\n",
              "<style>\n",
              "  .colab-df-quickchart {\n",
              "      --bg-color: #E8F0FE;\n",
              "      --fill-color: #1967D2;\n",
              "      --hover-bg-color: #E2EBFA;\n",
              "      --hover-fill-color: #174EA6;\n",
              "      --disabled-fill-color: #AAA;\n",
              "      --disabled-bg-color: #DDD;\n",
              "  }\n",
              "\n",
              "  [theme=dark] .colab-df-quickchart {\n",
              "      --bg-color: #3B4455;\n",
              "      --fill-color: #D2E3FC;\n",
              "      --hover-bg-color: #434B5C;\n",
              "      --hover-fill-color: #FFFFFF;\n",
              "      --disabled-bg-color: #3B4455;\n",
              "      --disabled-fill-color: #666;\n",
              "  }\n",
              "\n",
              "  .colab-df-quickchart {\n",
              "    background-color: var(--bg-color);\n",
              "    border: none;\n",
              "    border-radius: 50%;\n",
              "    cursor: pointer;\n",
              "    display: none;\n",
              "    fill: var(--fill-color);\n",
              "    height: 32px;\n",
              "    padding: 0;\n",
              "    width: 32px;\n",
              "  }\n",
              "\n",
              "  .colab-df-quickchart:hover {\n",
              "    background-color: var(--hover-bg-color);\n",
              "    box-shadow: 0 1px 2px rgba(60, 64, 67, 0.3), 0 1px 3px 1px rgba(60, 64, 67, 0.15);\n",
              "    fill: var(--button-hover-fill-color);\n",
              "  }\n",
              "\n",
              "  .colab-df-quickchart-complete:disabled,\n",
              "  .colab-df-quickchart-complete:disabled:hover {\n",
              "    background-color: var(--disabled-bg-color);\n",
              "    fill: var(--disabled-fill-color);\n",
              "    box-shadow: none;\n",
              "  }\n",
              "\n",
              "  .colab-df-spinner {\n",
              "    border: 2px solid var(--fill-color);\n",
              "    border-color: transparent;\n",
              "    border-bottom-color: var(--fill-color);\n",
              "    animation:\n",
              "      spin 1s steps(1) infinite;\n",
              "  }\n",
              "\n",
              "  @keyframes spin {\n",
              "    0% {\n",
              "      border-color: transparent;\n",
              "      border-bottom-color: var(--fill-color);\n",
              "      border-left-color: var(--fill-color);\n",
              "    }\n",
              "    20% {\n",
              "      border-color: transparent;\n",
              "      border-left-color: var(--fill-color);\n",
              "      border-top-color: var(--fill-color);\n",
              "    }\n",
              "    30% {\n",
              "      border-color: transparent;\n",
              "      border-left-color: var(--fill-color);\n",
              "      border-top-color: var(--fill-color);\n",
              "      border-right-color: var(--fill-color);\n",
              "    }\n",
              "    40% {\n",
              "      border-color: transparent;\n",
              "      border-right-color: var(--fill-color);\n",
              "      border-top-color: var(--fill-color);\n",
              "    }\n",
              "    60% {\n",
              "      border-color: transparent;\n",
              "      border-right-color: var(--fill-color);\n",
              "    }\n",
              "    80% {\n",
              "      border-color: transparent;\n",
              "      border-right-color: var(--fill-color);\n",
              "      border-bottom-color: var(--fill-color);\n",
              "    }\n",
              "    90% {\n",
              "      border-color: transparent;\n",
              "      border-bottom-color: var(--fill-color);\n",
              "    }\n",
              "  }\n",
              "</style>\n",
              "\n",
              "  <script>\n",
              "    async function quickchart(key) {\n",
              "      const quickchartButtonEl =\n",
              "        document.querySelector('#' + key + ' button');\n",
              "      quickchartButtonEl.disabled = true;  // To prevent multiple clicks.\n",
              "      quickchartButtonEl.classList.add('colab-df-spinner');\n",
              "      try {\n",
              "        const charts = await google.colab.kernel.invokeFunction(\n",
              "            'suggestCharts', [key], {});\n",
              "      } catch (error) {\n",
              "        console.error('Error during call to suggestCharts:', error);\n",
              "      }\n",
              "      quickchartButtonEl.classList.remove('colab-df-spinner');\n",
              "      quickchartButtonEl.classList.add('colab-df-quickchart-complete');\n",
              "    }\n",
              "    (() => {\n",
              "      let quickchartButtonEl =\n",
              "        document.querySelector('#df-ad6dc836-9092-4eeb-afaf-64b541d64229 button');\n",
              "      quickchartButtonEl.style.display =\n",
              "        google.colab.kernel.accessAllowed ? 'block' : 'none';\n",
              "    })();\n",
              "  </script>\n",
              "</div>\n",
              "\n",
              "  <div id=\"id_4f2ac414-446f-42f2-868b-6789ccbdbca9\">\n",
              "    <style>\n",
              "      .colab-df-generate {\n",
              "        background-color: #E8F0FE;\n",
              "        border: none;\n",
              "        border-radius: 50%;\n",
              "        cursor: pointer;\n",
              "        display: none;\n",
              "        fill: #1967D2;\n",
              "        height: 32px;\n",
              "        padding: 0 0 0 0;\n",
              "        width: 32px;\n",
              "      }\n",
              "\n",
              "      .colab-df-generate:hover {\n",
              "        background-color: #E2EBFA;\n",
              "        box-shadow: 0px 1px 2px rgba(60, 64, 67, 0.3), 0px 1px 3px 1px rgba(60, 64, 67, 0.15);\n",
              "        fill: #174EA6;\n",
              "      }\n",
              "\n",
              "      [theme=dark] .colab-df-generate {\n",
              "        background-color: #3B4455;\n",
              "        fill: #D2E3FC;\n",
              "      }\n",
              "\n",
              "      [theme=dark] .colab-df-generate:hover {\n",
              "        background-color: #434B5C;\n",
              "        box-shadow: 0px 1px 3px 1px rgba(0, 0, 0, 0.15);\n",
              "        filter: drop-shadow(0px 1px 2px rgba(0, 0, 0, 0.3));\n",
              "        fill: #FFFFFF;\n",
              "      }\n",
              "    </style>\n",
              "    <button class=\"colab-df-generate\" onclick=\"generateWithVariable('crop')\"\n",
              "            title=\"Generate code using this dataframe.\"\n",
              "            style=\"display:none;\">\n",
              "\n",
              "  <svg xmlns=\"http://www.w3.org/2000/svg\" height=\"24px\"viewBox=\"0 0 24 24\"\n",
              "       width=\"24px\">\n",
              "    <path d=\"M7,19H8.4L18.45,9,17,7.55,7,17.6ZM5,21V16.75L18.45,3.32a2,2,0,0,1,2.83,0l1.4,1.43a1.91,1.91,0,0,1,.58,1.4,1.91,1.91,0,0,1-.58,1.4L9.25,21ZM18.45,9,17,7.55Zm-12,3A5.31,5.31,0,0,0,4.9,8.1,5.31,5.31,0,0,0,1,6.5,5.31,5.31,0,0,0,4.9,4.9,5.31,5.31,0,0,0,6.5,1,5.31,5.31,0,0,0,8.1,4.9,5.31,5.31,0,0,0,12,6.5,5.46,5.46,0,0,0,6.5,12Z\"/>\n",
              "  </svg>\n",
              "    </button>\n",
              "    <script>\n",
              "      (() => {\n",
              "      const buttonEl =\n",
              "        document.querySelector('#id_4f2ac414-446f-42f2-868b-6789ccbdbca9 button.colab-df-generate');\n",
              "      buttonEl.style.display =\n",
              "        google.colab.kernel.accessAllowed ? 'block' : 'none';\n",
              "\n",
              "      buttonEl.onclick = () => {\n",
              "        google.colab.notebook.generateWithVariable('crop');\n",
              "      }\n",
              "      })();\n",
              "    </script>\n",
              "  </div>\n",
              "\n",
              "    </div>\n",
              "  </div>\n"
            ],
            "application/vnd.google.colaboratory.intrinsic+json": {
              "type": "dataframe",
              "variable_name": "crop",
              "summary": "{\n  \"name\": \"crop\",\n  \"rows\": 2550,\n  \"fields\": [\n    {\n      \"column\": \"N\",\n      \"properties\": {\n        \"dtype\": \"number\",\n        \"std\": 37.02795393364399,\n        \"min\": 0.0,\n        \"max\": 140.0,\n        \"num_unique_values\": 137,\n        \"samples\": [\n          106.0,\n          101.0,\n          88.0\n        ],\n        \"semantic_type\": \"\",\n        \"description\": \"\"\n      }\n    },\n    {\n      \"column\": \"P\",\n      \"properties\": {\n        \"dtype\": \"number\",\n        \"std\": 33.06797343712401,\n        \"min\": 5.0,\n        \"max\": 145.0,\n        \"num_unique_values\": 117,\n        \"samples\": [\n          69.0,\n          37.0,\n          11.0\n        ],\n        \"semantic_type\": \"\",\n        \"description\": \"\"\n      }\n    },\n    {\n      \"column\": \"K\",\n      \"properties\": {\n        \"dtype\": \"number\",\n        \"std\": 50.7186931179691,\n        \"min\": 5.0,\n        \"max\": 205.0,\n        \"num_unique_values\": 73,\n        \"samples\": [\n          42.0,\n          12.0,\n          15.0\n        ],\n        \"semantic_type\": \"\",\n        \"description\": \"\"\n      }\n    },\n    {\n      \"column\": \"temperature\",\n      \"properties\": {\n        \"dtype\": \"number\",\n        \"std\": 5.07515686509506,\n        \"min\": 8.825674745,\n        \"max\": 43.67549305,\n        \"num_unique_values\": 2178,\n        \"samples\": [\n          19.95264829,\n          34.6455408,\n          24.9103226\n        ],\n        \"semantic_type\": \"\",\n        \"description\": \"\"\n      }\n    },\n    {\n      \"column\": \"humidity\",\n      \"properties\": {\n        \"dtype\": \"number\",\n        \"std\": 22.3958869658398,\n        \"min\": 14.25803981,\n        \"max\": 99.98187601,\n        \"num_unique_values\": 2183,\n        \"samples\": [\n          18.09665739,\n          22.27512704,\n          43.58788762\n        ],\n        \"semantic_type\": \"\",\n        \"description\": \"\"\n      }\n    },\n    {\n      \"column\": \"ph\",\n      \"properties\": {\n        \"dtype\": \"number\",\n        \"std\": 0.769480159237222,\n        \"min\": 3.504752314,\n        \"max\": 9.93509073,\n        \"num_unique_values\": 2184,\n        \"samples\": [\n          6.489389282,\n          5.948164454,\n          4.524171562\n        ],\n        \"semantic_type\": \"\",\n        \"description\": \"\"\n      }\n    },\n    {\n      \"column\": \"rainfall\",\n      \"properties\": {\n        \"dtype\": \"number\",\n        \"std\": 54.42081122013706,\n        \"min\": 20.21126747,\n        \"max\": 298.5601175,\n        \"num_unique_values\": 2179,\n        \"samples\": [\n          88.6810311,\n          180.9009998,\n          44.20656987\n        ],\n        \"semantic_type\": \"\",\n        \"description\": \"\"\n      }\n    },\n    {\n      \"column\": \"label\",\n      \"properties\": {\n        \"dtype\": \"category\",\n        \"num_unique_values\": 22,\n        \"samples\": [\n          \"rice\",\n          \"watermelon\",\n          \"lentil\"\n        ],\n        \"semantic_type\": \"\",\n        \"description\": \"\"\n      }\n    }\n  ]\n}"
            }
          },
          "metadata": {},
          "execution_count": 363
        }
      ]
    },
    {
      "cell_type": "markdown",
      "source": [
        "# crop.shape\n",
        "This code is use for quickly check the size of your DataFrame, which is especially useful when dealing with large datasets or when you need to understand the structure of the data you're working with.\n",
        "\n",
        "For example, if you run crop.shape and it returns (100, 5), it means that the DataFrame crop has 100 rows and 5 columns. and the number of elements is 500."
      ],
      "metadata": {
        "id": "5JRE86l040SU"
      }
    },
    {
      "cell_type": "code",
      "source": [
        "crop.shape"
      ],
      "metadata": {
        "colab": {
          "base_uri": "https://localhost:8080/"
        },
        "id": "Qrp_ykhj44p2",
        "outputId": "3f8a955f-ecc4-43e1-ed3c-43d46b54d212"
      },
      "execution_count": 364,
      "outputs": [
        {
          "output_type": "execute_result",
          "data": {
            "text/plain": [
              "(2550, 8)"
            ]
          },
          "metadata": {},
          "execution_count": 364
        }
      ]
    },
    {
      "cell_type": "markdown",
      "source": [
        "# crop.info()\n",
        "By using crop.info(), you can quickly get an overview of the DataFrame, including its size, data types, and missing values, which is useful for initial data exploration and understanding the dataset's characteristics."
      ],
      "metadata": {
        "id": "efO8G09P5vIx"
      }
    },
    {
      "cell_type": "code",
      "source": [
        "crop.info()"
      ],
      "metadata": {
        "colab": {
          "base_uri": "https://localhost:8080/"
        },
        "id": "MTs6jIk752QQ",
        "outputId": "8923d406-19c9-49df-8348-54d61d30c9f0"
      },
      "execution_count": 365,
      "outputs": [
        {
          "output_type": "stream",
          "name": "stdout",
          "text": [
            "<class 'pandas.core.frame.DataFrame'>\n",
            "RangeIndex: 2550 entries, 0 to 2549\n",
            "Data columns (total 8 columns):\n",
            " #   Column       Non-Null Count  Dtype  \n",
            "---  ------       --------------  -----  \n",
            " 0   N            2530 non-null   float64\n",
            " 1   P            2531 non-null   float64\n",
            " 2   K            2528 non-null   float64\n",
            " 3   temperature  2524 non-null   float64\n",
            " 4   humidity     2532 non-null   float64\n",
            " 5   ph           2533 non-null   float64\n",
            " 6   rainfall     2529 non-null   float64\n",
            " 7   label        2529 non-null   object \n",
            "dtypes: float64(7), object(1)\n",
            "memory usage: 159.5+ KB\n"
          ]
        }
      ]
    },
    {
      "cell_type": "markdown",
      "source": [
        "# crop.head()\n",
        "The purpose of using head() is to quickly inspect the structure and content of the DataFrame. It's often used as an initial step in data analysis to get a sense of what the data looks like before performing further operations. By examining the first few rows, you can check the column names, data types, and example values in the DataFrame."
      ],
      "metadata": {
        "id": "ZnK_kVD26fyi"
      }
    },
    {
      "cell_type": "code",
      "source": [
        "crop.head()"
      ],
      "metadata": {
        "colab": {
          "base_uri": "https://localhost:8080/",
          "height": 206
        },
        "id": "cCGGZ3Ai6mJ8",
        "outputId": "d82de6f3-a0ca-49be-df42-1f251c35609d"
      },
      "execution_count": 366,
      "outputs": [
        {
          "output_type": "execute_result",
          "data": {
            "text/plain": [
              "      N     P     K  temperature   humidity        ph    rainfall label\n",
              "0  90.0  42.0  43.0    20.879744  82.002744  6.502985  202.935536  rice\n",
              "1  85.0  58.0  41.0    21.770462  80.319644  7.038096  226.655537  rice\n",
              "2  60.0  55.0  44.0    23.004459  82.320763  7.840207  263.964248  rice\n",
              "3  74.0  35.0  40.0    26.491096  80.158363  6.980401  242.864034  rice\n",
              "4  78.0  42.0  42.0    20.130175  81.604873  7.628473  262.717340  rice"
            ],
            "text/html": [
              "\n",
              "  <div id=\"df-6b2609c5-0ecc-4e01-82fa-65fd52509414\" class=\"colab-df-container\">\n",
              "    <div>\n",
              "<style scoped>\n",
              "    .dataframe tbody tr th:only-of-type {\n",
              "        vertical-align: middle;\n",
              "    }\n",
              "\n",
              "    .dataframe tbody tr th {\n",
              "        vertical-align: top;\n",
              "    }\n",
              "\n",
              "    .dataframe thead th {\n",
              "        text-align: right;\n",
              "    }\n",
              "</style>\n",
              "<table border=\"1\" class=\"dataframe\">\n",
              "  <thead>\n",
              "    <tr style=\"text-align: right;\">\n",
              "      <th></th>\n",
              "      <th>N</th>\n",
              "      <th>P</th>\n",
              "      <th>K</th>\n",
              "      <th>temperature</th>\n",
              "      <th>humidity</th>\n",
              "      <th>ph</th>\n",
              "      <th>rainfall</th>\n",
              "      <th>label</th>\n",
              "    </tr>\n",
              "  </thead>\n",
              "  <tbody>\n",
              "    <tr>\n",
              "      <th>0</th>\n",
              "      <td>90.0</td>\n",
              "      <td>42.0</td>\n",
              "      <td>43.0</td>\n",
              "      <td>20.879744</td>\n",
              "      <td>82.002744</td>\n",
              "      <td>6.502985</td>\n",
              "      <td>202.935536</td>\n",
              "      <td>rice</td>\n",
              "    </tr>\n",
              "    <tr>\n",
              "      <th>1</th>\n",
              "      <td>85.0</td>\n",
              "      <td>58.0</td>\n",
              "      <td>41.0</td>\n",
              "      <td>21.770462</td>\n",
              "      <td>80.319644</td>\n",
              "      <td>7.038096</td>\n",
              "      <td>226.655537</td>\n",
              "      <td>rice</td>\n",
              "    </tr>\n",
              "    <tr>\n",
              "      <th>2</th>\n",
              "      <td>60.0</td>\n",
              "      <td>55.0</td>\n",
              "      <td>44.0</td>\n",
              "      <td>23.004459</td>\n",
              "      <td>82.320763</td>\n",
              "      <td>7.840207</td>\n",
              "      <td>263.964248</td>\n",
              "      <td>rice</td>\n",
              "    </tr>\n",
              "    <tr>\n",
              "      <th>3</th>\n",
              "      <td>74.0</td>\n",
              "      <td>35.0</td>\n",
              "      <td>40.0</td>\n",
              "      <td>26.491096</td>\n",
              "      <td>80.158363</td>\n",
              "      <td>6.980401</td>\n",
              "      <td>242.864034</td>\n",
              "      <td>rice</td>\n",
              "    </tr>\n",
              "    <tr>\n",
              "      <th>4</th>\n",
              "      <td>78.0</td>\n",
              "      <td>42.0</td>\n",
              "      <td>42.0</td>\n",
              "      <td>20.130175</td>\n",
              "      <td>81.604873</td>\n",
              "      <td>7.628473</td>\n",
              "      <td>262.717340</td>\n",
              "      <td>rice</td>\n",
              "    </tr>\n",
              "  </tbody>\n",
              "</table>\n",
              "</div>\n",
              "    <div class=\"colab-df-buttons\">\n",
              "\n",
              "  <div class=\"colab-df-container\">\n",
              "    <button class=\"colab-df-convert\" onclick=\"convertToInteractive('df-6b2609c5-0ecc-4e01-82fa-65fd52509414')\"\n",
              "            title=\"Convert this dataframe to an interactive table.\"\n",
              "            style=\"display:none;\">\n",
              "\n",
              "  <svg xmlns=\"http://www.w3.org/2000/svg\" height=\"24px\" viewBox=\"0 -960 960 960\">\n",
              "    <path d=\"M120-120v-720h720v720H120Zm60-500h600v-160H180v160Zm220 220h160v-160H400v160Zm0 220h160v-160H400v160ZM180-400h160v-160H180v160Zm440 0h160v-160H620v160ZM180-180h160v-160H180v160Zm440 0h160v-160H620v160Z\"/>\n",
              "  </svg>\n",
              "    </button>\n",
              "\n",
              "  <style>\n",
              "    .colab-df-container {\n",
              "      display:flex;\n",
              "      gap: 12px;\n",
              "    }\n",
              "\n",
              "    .colab-df-convert {\n",
              "      background-color: #E8F0FE;\n",
              "      border: none;\n",
              "      border-radius: 50%;\n",
              "      cursor: pointer;\n",
              "      display: none;\n",
              "      fill: #1967D2;\n",
              "      height: 32px;\n",
              "      padding: 0 0 0 0;\n",
              "      width: 32px;\n",
              "    }\n",
              "\n",
              "    .colab-df-convert:hover {\n",
              "      background-color: #E2EBFA;\n",
              "      box-shadow: 0px 1px 2px rgba(60, 64, 67, 0.3), 0px 1px 3px 1px rgba(60, 64, 67, 0.15);\n",
              "      fill: #174EA6;\n",
              "    }\n",
              "\n",
              "    .colab-df-buttons div {\n",
              "      margin-bottom: 4px;\n",
              "    }\n",
              "\n",
              "    [theme=dark] .colab-df-convert {\n",
              "      background-color: #3B4455;\n",
              "      fill: #D2E3FC;\n",
              "    }\n",
              "\n",
              "    [theme=dark] .colab-df-convert:hover {\n",
              "      background-color: #434B5C;\n",
              "      box-shadow: 0px 1px 3px 1px rgba(0, 0, 0, 0.15);\n",
              "      filter: drop-shadow(0px 1px 2px rgba(0, 0, 0, 0.3));\n",
              "      fill: #FFFFFF;\n",
              "    }\n",
              "  </style>\n",
              "\n",
              "    <script>\n",
              "      const buttonEl =\n",
              "        document.querySelector('#df-6b2609c5-0ecc-4e01-82fa-65fd52509414 button.colab-df-convert');\n",
              "      buttonEl.style.display =\n",
              "        google.colab.kernel.accessAllowed ? 'block' : 'none';\n",
              "\n",
              "      async function convertToInteractive(key) {\n",
              "        const element = document.querySelector('#df-6b2609c5-0ecc-4e01-82fa-65fd52509414');\n",
              "        const dataTable =\n",
              "          await google.colab.kernel.invokeFunction('convertToInteractive',\n",
              "                                                    [key], {});\n",
              "        if (!dataTable) return;\n",
              "\n",
              "        const docLinkHtml = 'Like what you see? Visit the ' +\n",
              "          '<a target=\"_blank\" href=https://colab.research.google.com/notebooks/data_table.ipynb>data table notebook</a>'\n",
              "          + ' to learn more about interactive tables.';\n",
              "        element.innerHTML = '';\n",
              "        dataTable['output_type'] = 'display_data';\n",
              "        await google.colab.output.renderOutput(dataTable, element);\n",
              "        const docLink = document.createElement('div');\n",
              "        docLink.innerHTML = docLinkHtml;\n",
              "        element.appendChild(docLink);\n",
              "      }\n",
              "    </script>\n",
              "  </div>\n",
              "\n",
              "\n",
              "<div id=\"df-5919a6ec-d7ac-4e9e-85d0-0106f0862d68\">\n",
              "  <button class=\"colab-df-quickchart\" onclick=\"quickchart('df-5919a6ec-d7ac-4e9e-85d0-0106f0862d68')\"\n",
              "            title=\"Suggest charts\"\n",
              "            style=\"display:none;\">\n",
              "\n",
              "<svg xmlns=\"http://www.w3.org/2000/svg\" height=\"24px\"viewBox=\"0 0 24 24\"\n",
              "     width=\"24px\">\n",
              "    <g>\n",
              "        <path d=\"M19 3H5c-1.1 0-2 .9-2 2v14c0 1.1.9 2 2 2h14c1.1 0 2-.9 2-2V5c0-1.1-.9-2-2-2zM9 17H7v-7h2v7zm4 0h-2V7h2v10zm4 0h-2v-4h2v4z\"/>\n",
              "    </g>\n",
              "</svg>\n",
              "  </button>\n",
              "\n",
              "<style>\n",
              "  .colab-df-quickchart {\n",
              "      --bg-color: #E8F0FE;\n",
              "      --fill-color: #1967D2;\n",
              "      --hover-bg-color: #E2EBFA;\n",
              "      --hover-fill-color: #174EA6;\n",
              "      --disabled-fill-color: #AAA;\n",
              "      --disabled-bg-color: #DDD;\n",
              "  }\n",
              "\n",
              "  [theme=dark] .colab-df-quickchart {\n",
              "      --bg-color: #3B4455;\n",
              "      --fill-color: #D2E3FC;\n",
              "      --hover-bg-color: #434B5C;\n",
              "      --hover-fill-color: #FFFFFF;\n",
              "      --disabled-bg-color: #3B4455;\n",
              "      --disabled-fill-color: #666;\n",
              "  }\n",
              "\n",
              "  .colab-df-quickchart {\n",
              "    background-color: var(--bg-color);\n",
              "    border: none;\n",
              "    border-radius: 50%;\n",
              "    cursor: pointer;\n",
              "    display: none;\n",
              "    fill: var(--fill-color);\n",
              "    height: 32px;\n",
              "    padding: 0;\n",
              "    width: 32px;\n",
              "  }\n",
              "\n",
              "  .colab-df-quickchart:hover {\n",
              "    background-color: var(--hover-bg-color);\n",
              "    box-shadow: 0 1px 2px rgba(60, 64, 67, 0.3), 0 1px 3px 1px rgba(60, 64, 67, 0.15);\n",
              "    fill: var(--button-hover-fill-color);\n",
              "  }\n",
              "\n",
              "  .colab-df-quickchart-complete:disabled,\n",
              "  .colab-df-quickchart-complete:disabled:hover {\n",
              "    background-color: var(--disabled-bg-color);\n",
              "    fill: var(--disabled-fill-color);\n",
              "    box-shadow: none;\n",
              "  }\n",
              "\n",
              "  .colab-df-spinner {\n",
              "    border: 2px solid var(--fill-color);\n",
              "    border-color: transparent;\n",
              "    border-bottom-color: var(--fill-color);\n",
              "    animation:\n",
              "      spin 1s steps(1) infinite;\n",
              "  }\n",
              "\n",
              "  @keyframes spin {\n",
              "    0% {\n",
              "      border-color: transparent;\n",
              "      border-bottom-color: var(--fill-color);\n",
              "      border-left-color: var(--fill-color);\n",
              "    }\n",
              "    20% {\n",
              "      border-color: transparent;\n",
              "      border-left-color: var(--fill-color);\n",
              "      border-top-color: var(--fill-color);\n",
              "    }\n",
              "    30% {\n",
              "      border-color: transparent;\n",
              "      border-left-color: var(--fill-color);\n",
              "      border-top-color: var(--fill-color);\n",
              "      border-right-color: var(--fill-color);\n",
              "    }\n",
              "    40% {\n",
              "      border-color: transparent;\n",
              "      border-right-color: var(--fill-color);\n",
              "      border-top-color: var(--fill-color);\n",
              "    }\n",
              "    60% {\n",
              "      border-color: transparent;\n",
              "      border-right-color: var(--fill-color);\n",
              "    }\n",
              "    80% {\n",
              "      border-color: transparent;\n",
              "      border-right-color: var(--fill-color);\n",
              "      border-bottom-color: var(--fill-color);\n",
              "    }\n",
              "    90% {\n",
              "      border-color: transparent;\n",
              "      border-bottom-color: var(--fill-color);\n",
              "    }\n",
              "  }\n",
              "</style>\n",
              "\n",
              "  <script>\n",
              "    async function quickchart(key) {\n",
              "      const quickchartButtonEl =\n",
              "        document.querySelector('#' + key + ' button');\n",
              "      quickchartButtonEl.disabled = true;  // To prevent multiple clicks.\n",
              "      quickchartButtonEl.classList.add('colab-df-spinner');\n",
              "      try {\n",
              "        const charts = await google.colab.kernel.invokeFunction(\n",
              "            'suggestCharts', [key], {});\n",
              "      } catch (error) {\n",
              "        console.error('Error during call to suggestCharts:', error);\n",
              "      }\n",
              "      quickchartButtonEl.classList.remove('colab-df-spinner');\n",
              "      quickchartButtonEl.classList.add('colab-df-quickchart-complete');\n",
              "    }\n",
              "    (() => {\n",
              "      let quickchartButtonEl =\n",
              "        document.querySelector('#df-5919a6ec-d7ac-4e9e-85d0-0106f0862d68 button');\n",
              "      quickchartButtonEl.style.display =\n",
              "        google.colab.kernel.accessAllowed ? 'block' : 'none';\n",
              "    })();\n",
              "  </script>\n",
              "</div>\n",
              "\n",
              "    </div>\n",
              "  </div>\n"
            ],
            "application/vnd.google.colaboratory.intrinsic+json": {
              "type": "dataframe",
              "variable_name": "crop",
              "summary": "{\n  \"name\": \"crop\",\n  \"rows\": 2550,\n  \"fields\": [\n    {\n      \"column\": \"N\",\n      \"properties\": {\n        \"dtype\": \"number\",\n        \"std\": 37.02795393364399,\n        \"min\": 0.0,\n        \"max\": 140.0,\n        \"num_unique_values\": 137,\n        \"samples\": [\n          106.0,\n          101.0,\n          88.0\n        ],\n        \"semantic_type\": \"\",\n        \"description\": \"\"\n      }\n    },\n    {\n      \"column\": \"P\",\n      \"properties\": {\n        \"dtype\": \"number\",\n        \"std\": 33.06797343712401,\n        \"min\": 5.0,\n        \"max\": 145.0,\n        \"num_unique_values\": 117,\n        \"samples\": [\n          69.0,\n          37.0,\n          11.0\n        ],\n        \"semantic_type\": \"\",\n        \"description\": \"\"\n      }\n    },\n    {\n      \"column\": \"K\",\n      \"properties\": {\n        \"dtype\": \"number\",\n        \"std\": 50.7186931179691,\n        \"min\": 5.0,\n        \"max\": 205.0,\n        \"num_unique_values\": 73,\n        \"samples\": [\n          42.0,\n          12.0,\n          15.0\n        ],\n        \"semantic_type\": \"\",\n        \"description\": \"\"\n      }\n    },\n    {\n      \"column\": \"temperature\",\n      \"properties\": {\n        \"dtype\": \"number\",\n        \"std\": 5.07515686509506,\n        \"min\": 8.825674745,\n        \"max\": 43.67549305,\n        \"num_unique_values\": 2178,\n        \"samples\": [\n          19.95264829,\n          34.6455408,\n          24.9103226\n        ],\n        \"semantic_type\": \"\",\n        \"description\": \"\"\n      }\n    },\n    {\n      \"column\": \"humidity\",\n      \"properties\": {\n        \"dtype\": \"number\",\n        \"std\": 22.3958869658398,\n        \"min\": 14.25803981,\n        \"max\": 99.98187601,\n        \"num_unique_values\": 2183,\n        \"samples\": [\n          18.09665739,\n          22.27512704,\n          43.58788762\n        ],\n        \"semantic_type\": \"\",\n        \"description\": \"\"\n      }\n    },\n    {\n      \"column\": \"ph\",\n      \"properties\": {\n        \"dtype\": \"number\",\n        \"std\": 0.769480159237222,\n        \"min\": 3.504752314,\n        \"max\": 9.93509073,\n        \"num_unique_values\": 2184,\n        \"samples\": [\n          6.489389282,\n          5.948164454,\n          4.524171562\n        ],\n        \"semantic_type\": \"\",\n        \"description\": \"\"\n      }\n    },\n    {\n      \"column\": \"rainfall\",\n      \"properties\": {\n        \"dtype\": \"number\",\n        \"std\": 54.42081122013706,\n        \"min\": 20.21126747,\n        \"max\": 298.5601175,\n        \"num_unique_values\": 2179,\n        \"samples\": [\n          88.6810311,\n          180.9009998,\n          44.20656987\n        ],\n        \"semantic_type\": \"\",\n        \"description\": \"\"\n      }\n    },\n    {\n      \"column\": \"label\",\n      \"properties\": {\n        \"dtype\": \"category\",\n        \"num_unique_values\": 22,\n        \"samples\": [\n          \"rice\",\n          \"watermelon\",\n          \"lentil\"\n        ],\n        \"semantic_type\": \"\",\n        \"description\": \"\"\n      }\n    }\n  ]\n}"
            }
          },
          "metadata": {},
          "execution_count": 366
        }
      ]
    },
    {
      "cell_type": "markdown",
      "source": [
        "# tail()\n",
        "The purpose of using tail() is to quickly inspect the end of the DataFrame. It's often used to check for patterns or trends in the data, especially if the data is ordered chronologically or by some other criteria. By examining the last few rows, you can see the most recent data entries and verify that the DataFrame has been properly loaded or processed."
      ],
      "metadata": {
        "id": "qhohHUS563AO"
      }
    },
    {
      "cell_type": "code",
      "source": [
        "crop.tail()"
      ],
      "metadata": {
        "colab": {
          "base_uri": "https://localhost:8080/",
          "height": 206
        },
        "id": "t2nJnWDI65hr",
        "outputId": "d799b298-ad7d-45e8-d2ba-c1cb42e707c7"
      },
      "execution_count": 367,
      "outputs": [
        {
          "output_type": "execute_result",
          "data": {
            "text/plain": [
              "         N     P     K  temperature   humidity        ph    rainfall  \\\n",
              "2545   8.0  28.0  38.0    23.225940  94.429714  6.844402  105.691786   \n",
              "2546  52.0  68.0  78.0    17.485041  16.960706  6.896552   86.050780   \n",
              "2547  13.0  47.0  20.0    29.217800  87.937242  6.544502   43.138663   \n",
              "2548  74.0  46.0  45.0    25.757349  88.366685  6.025029  189.426348   \n",
              "2549   2.0  30.0  30.0    26.001751  94.799984  6.331052  209.540094   \n",
              "\n",
              "            label  \n",
              "2545  pomegranate  \n",
              "2546     chickpea  \n",
              "2547     mungbean  \n",
              "2548         jute  \n",
              "2549      coconut  "
            ],
            "text/html": [
              "\n",
              "  <div id=\"df-e19718f1-6055-4b58-bd7a-fadd5074f6a1\" class=\"colab-df-container\">\n",
              "    <div>\n",
              "<style scoped>\n",
              "    .dataframe tbody tr th:only-of-type {\n",
              "        vertical-align: middle;\n",
              "    }\n",
              "\n",
              "    .dataframe tbody tr th {\n",
              "        vertical-align: top;\n",
              "    }\n",
              "\n",
              "    .dataframe thead th {\n",
              "        text-align: right;\n",
              "    }\n",
              "</style>\n",
              "<table border=\"1\" class=\"dataframe\">\n",
              "  <thead>\n",
              "    <tr style=\"text-align: right;\">\n",
              "      <th></th>\n",
              "      <th>N</th>\n",
              "      <th>P</th>\n",
              "      <th>K</th>\n",
              "      <th>temperature</th>\n",
              "      <th>humidity</th>\n",
              "      <th>ph</th>\n",
              "      <th>rainfall</th>\n",
              "      <th>label</th>\n",
              "    </tr>\n",
              "  </thead>\n",
              "  <tbody>\n",
              "    <tr>\n",
              "      <th>2545</th>\n",
              "      <td>8.0</td>\n",
              "      <td>28.0</td>\n",
              "      <td>38.0</td>\n",
              "      <td>23.225940</td>\n",
              "      <td>94.429714</td>\n",
              "      <td>6.844402</td>\n",
              "      <td>105.691786</td>\n",
              "      <td>pomegranate</td>\n",
              "    </tr>\n",
              "    <tr>\n",
              "      <th>2546</th>\n",
              "      <td>52.0</td>\n",
              "      <td>68.0</td>\n",
              "      <td>78.0</td>\n",
              "      <td>17.485041</td>\n",
              "      <td>16.960706</td>\n",
              "      <td>6.896552</td>\n",
              "      <td>86.050780</td>\n",
              "      <td>chickpea</td>\n",
              "    </tr>\n",
              "    <tr>\n",
              "      <th>2547</th>\n",
              "      <td>13.0</td>\n",
              "      <td>47.0</td>\n",
              "      <td>20.0</td>\n",
              "      <td>29.217800</td>\n",
              "      <td>87.937242</td>\n",
              "      <td>6.544502</td>\n",
              "      <td>43.138663</td>\n",
              "      <td>mungbean</td>\n",
              "    </tr>\n",
              "    <tr>\n",
              "      <th>2548</th>\n",
              "      <td>74.0</td>\n",
              "      <td>46.0</td>\n",
              "      <td>45.0</td>\n",
              "      <td>25.757349</td>\n",
              "      <td>88.366685</td>\n",
              "      <td>6.025029</td>\n",
              "      <td>189.426348</td>\n",
              "      <td>jute</td>\n",
              "    </tr>\n",
              "    <tr>\n",
              "      <th>2549</th>\n",
              "      <td>2.0</td>\n",
              "      <td>30.0</td>\n",
              "      <td>30.0</td>\n",
              "      <td>26.001751</td>\n",
              "      <td>94.799984</td>\n",
              "      <td>6.331052</td>\n",
              "      <td>209.540094</td>\n",
              "      <td>coconut</td>\n",
              "    </tr>\n",
              "  </tbody>\n",
              "</table>\n",
              "</div>\n",
              "    <div class=\"colab-df-buttons\">\n",
              "\n",
              "  <div class=\"colab-df-container\">\n",
              "    <button class=\"colab-df-convert\" onclick=\"convertToInteractive('df-e19718f1-6055-4b58-bd7a-fadd5074f6a1')\"\n",
              "            title=\"Convert this dataframe to an interactive table.\"\n",
              "            style=\"display:none;\">\n",
              "\n",
              "  <svg xmlns=\"http://www.w3.org/2000/svg\" height=\"24px\" viewBox=\"0 -960 960 960\">\n",
              "    <path d=\"M120-120v-720h720v720H120Zm60-500h600v-160H180v160Zm220 220h160v-160H400v160Zm0 220h160v-160H400v160ZM180-400h160v-160H180v160Zm440 0h160v-160H620v160ZM180-180h160v-160H180v160Zm440 0h160v-160H620v160Z\"/>\n",
              "  </svg>\n",
              "    </button>\n",
              "\n",
              "  <style>\n",
              "    .colab-df-container {\n",
              "      display:flex;\n",
              "      gap: 12px;\n",
              "    }\n",
              "\n",
              "    .colab-df-convert {\n",
              "      background-color: #E8F0FE;\n",
              "      border: none;\n",
              "      border-radius: 50%;\n",
              "      cursor: pointer;\n",
              "      display: none;\n",
              "      fill: #1967D2;\n",
              "      height: 32px;\n",
              "      padding: 0 0 0 0;\n",
              "      width: 32px;\n",
              "    }\n",
              "\n",
              "    .colab-df-convert:hover {\n",
              "      background-color: #E2EBFA;\n",
              "      box-shadow: 0px 1px 2px rgba(60, 64, 67, 0.3), 0px 1px 3px 1px rgba(60, 64, 67, 0.15);\n",
              "      fill: #174EA6;\n",
              "    }\n",
              "\n",
              "    .colab-df-buttons div {\n",
              "      margin-bottom: 4px;\n",
              "    }\n",
              "\n",
              "    [theme=dark] .colab-df-convert {\n",
              "      background-color: #3B4455;\n",
              "      fill: #D2E3FC;\n",
              "    }\n",
              "\n",
              "    [theme=dark] .colab-df-convert:hover {\n",
              "      background-color: #434B5C;\n",
              "      box-shadow: 0px 1px 3px 1px rgba(0, 0, 0, 0.15);\n",
              "      filter: drop-shadow(0px 1px 2px rgba(0, 0, 0, 0.3));\n",
              "      fill: #FFFFFF;\n",
              "    }\n",
              "  </style>\n",
              "\n",
              "    <script>\n",
              "      const buttonEl =\n",
              "        document.querySelector('#df-e19718f1-6055-4b58-bd7a-fadd5074f6a1 button.colab-df-convert');\n",
              "      buttonEl.style.display =\n",
              "        google.colab.kernel.accessAllowed ? 'block' : 'none';\n",
              "\n",
              "      async function convertToInteractive(key) {\n",
              "        const element = document.querySelector('#df-e19718f1-6055-4b58-bd7a-fadd5074f6a1');\n",
              "        const dataTable =\n",
              "          await google.colab.kernel.invokeFunction('convertToInteractive',\n",
              "                                                    [key], {});\n",
              "        if (!dataTable) return;\n",
              "\n",
              "        const docLinkHtml = 'Like what you see? Visit the ' +\n",
              "          '<a target=\"_blank\" href=https://colab.research.google.com/notebooks/data_table.ipynb>data table notebook</a>'\n",
              "          + ' to learn more about interactive tables.';\n",
              "        element.innerHTML = '';\n",
              "        dataTable['output_type'] = 'display_data';\n",
              "        await google.colab.output.renderOutput(dataTable, element);\n",
              "        const docLink = document.createElement('div');\n",
              "        docLink.innerHTML = docLinkHtml;\n",
              "        element.appendChild(docLink);\n",
              "      }\n",
              "    </script>\n",
              "  </div>\n",
              "\n",
              "\n",
              "<div id=\"df-48dc33b3-14d7-4670-9b3c-e95ac7f4f7c2\">\n",
              "  <button class=\"colab-df-quickchart\" onclick=\"quickchart('df-48dc33b3-14d7-4670-9b3c-e95ac7f4f7c2')\"\n",
              "            title=\"Suggest charts\"\n",
              "            style=\"display:none;\">\n",
              "\n",
              "<svg xmlns=\"http://www.w3.org/2000/svg\" height=\"24px\"viewBox=\"0 0 24 24\"\n",
              "     width=\"24px\">\n",
              "    <g>\n",
              "        <path d=\"M19 3H5c-1.1 0-2 .9-2 2v14c0 1.1.9 2 2 2h14c1.1 0 2-.9 2-2V5c0-1.1-.9-2-2-2zM9 17H7v-7h2v7zm4 0h-2V7h2v10zm4 0h-2v-4h2v4z\"/>\n",
              "    </g>\n",
              "</svg>\n",
              "  </button>\n",
              "\n",
              "<style>\n",
              "  .colab-df-quickchart {\n",
              "      --bg-color: #E8F0FE;\n",
              "      --fill-color: #1967D2;\n",
              "      --hover-bg-color: #E2EBFA;\n",
              "      --hover-fill-color: #174EA6;\n",
              "      --disabled-fill-color: #AAA;\n",
              "      --disabled-bg-color: #DDD;\n",
              "  }\n",
              "\n",
              "  [theme=dark] .colab-df-quickchart {\n",
              "      --bg-color: #3B4455;\n",
              "      --fill-color: #D2E3FC;\n",
              "      --hover-bg-color: #434B5C;\n",
              "      --hover-fill-color: #FFFFFF;\n",
              "      --disabled-bg-color: #3B4455;\n",
              "      --disabled-fill-color: #666;\n",
              "  }\n",
              "\n",
              "  .colab-df-quickchart {\n",
              "    background-color: var(--bg-color);\n",
              "    border: none;\n",
              "    border-radius: 50%;\n",
              "    cursor: pointer;\n",
              "    display: none;\n",
              "    fill: var(--fill-color);\n",
              "    height: 32px;\n",
              "    padding: 0;\n",
              "    width: 32px;\n",
              "  }\n",
              "\n",
              "  .colab-df-quickchart:hover {\n",
              "    background-color: var(--hover-bg-color);\n",
              "    box-shadow: 0 1px 2px rgba(60, 64, 67, 0.3), 0 1px 3px 1px rgba(60, 64, 67, 0.15);\n",
              "    fill: var(--button-hover-fill-color);\n",
              "  }\n",
              "\n",
              "  .colab-df-quickchart-complete:disabled,\n",
              "  .colab-df-quickchart-complete:disabled:hover {\n",
              "    background-color: var(--disabled-bg-color);\n",
              "    fill: var(--disabled-fill-color);\n",
              "    box-shadow: none;\n",
              "  }\n",
              "\n",
              "  .colab-df-spinner {\n",
              "    border: 2px solid var(--fill-color);\n",
              "    border-color: transparent;\n",
              "    border-bottom-color: var(--fill-color);\n",
              "    animation:\n",
              "      spin 1s steps(1) infinite;\n",
              "  }\n",
              "\n",
              "  @keyframes spin {\n",
              "    0% {\n",
              "      border-color: transparent;\n",
              "      border-bottom-color: var(--fill-color);\n",
              "      border-left-color: var(--fill-color);\n",
              "    }\n",
              "    20% {\n",
              "      border-color: transparent;\n",
              "      border-left-color: var(--fill-color);\n",
              "      border-top-color: var(--fill-color);\n",
              "    }\n",
              "    30% {\n",
              "      border-color: transparent;\n",
              "      border-left-color: var(--fill-color);\n",
              "      border-top-color: var(--fill-color);\n",
              "      border-right-color: var(--fill-color);\n",
              "    }\n",
              "    40% {\n",
              "      border-color: transparent;\n",
              "      border-right-color: var(--fill-color);\n",
              "      border-top-color: var(--fill-color);\n",
              "    }\n",
              "    60% {\n",
              "      border-color: transparent;\n",
              "      border-right-color: var(--fill-color);\n",
              "    }\n",
              "    80% {\n",
              "      border-color: transparent;\n",
              "      border-right-color: var(--fill-color);\n",
              "      border-bottom-color: var(--fill-color);\n",
              "    }\n",
              "    90% {\n",
              "      border-color: transparent;\n",
              "      border-bottom-color: var(--fill-color);\n",
              "    }\n",
              "  }\n",
              "</style>\n",
              "\n",
              "  <script>\n",
              "    async function quickchart(key) {\n",
              "      const quickchartButtonEl =\n",
              "        document.querySelector('#' + key + ' button');\n",
              "      quickchartButtonEl.disabled = true;  // To prevent multiple clicks.\n",
              "      quickchartButtonEl.classList.add('colab-df-spinner');\n",
              "      try {\n",
              "        const charts = await google.colab.kernel.invokeFunction(\n",
              "            'suggestCharts', [key], {});\n",
              "      } catch (error) {\n",
              "        console.error('Error during call to suggestCharts:', error);\n",
              "      }\n",
              "      quickchartButtonEl.classList.remove('colab-df-spinner');\n",
              "      quickchartButtonEl.classList.add('colab-df-quickchart-complete');\n",
              "    }\n",
              "    (() => {\n",
              "      let quickchartButtonEl =\n",
              "        document.querySelector('#df-48dc33b3-14d7-4670-9b3c-e95ac7f4f7c2 button');\n",
              "      quickchartButtonEl.style.display =\n",
              "        google.colab.kernel.accessAllowed ? 'block' : 'none';\n",
              "    })();\n",
              "  </script>\n",
              "</div>\n",
              "\n",
              "    </div>\n",
              "  </div>\n"
            ],
            "application/vnd.google.colaboratory.intrinsic+json": {
              "type": "dataframe",
              "summary": "{\n  \"name\": \"crop\",\n  \"rows\": 5,\n  \"fields\": [\n    {\n      \"column\": \"N\",\n      \"properties\": {\n        \"dtype\": \"number\",\n        \"std\": 31.530937188735766,\n        \"min\": 2.0,\n        \"max\": 74.0,\n        \"num_unique_values\": 5,\n        \"samples\": [\n          52.0,\n          2.0,\n          13.0\n        ],\n        \"semantic_type\": \"\",\n        \"description\": \"\"\n      }\n    },\n    {\n      \"column\": \"P\",\n      \"properties\": {\n        \"dtype\": \"number\",\n        \"std\": 16.13071604114337,\n        \"min\": 28.0,\n        \"max\": 68.0,\n        \"num_unique_values\": 5,\n        \"samples\": [\n          68.0,\n          30.0,\n          47.0\n        ],\n        \"semantic_type\": \"\",\n        \"description\": \"\"\n      }\n    },\n    {\n      \"column\": \"K\",\n      \"properties\": {\n        \"dtype\": \"number\",\n        \"std\": 22.072607458114234,\n        \"min\": 20.0,\n        \"max\": 78.0,\n        \"num_unique_values\": 5,\n        \"samples\": [\n          78.0,\n          30.0,\n          20.0\n        ],\n        \"semantic_type\": \"\",\n        \"description\": \"\"\n      }\n    },\n    {\n      \"column\": \"temperature\",\n      \"properties\": {\n        \"dtype\": \"number\",\n        \"std\": 4.381632074499233,\n        \"min\": 17.48504075,\n        \"max\": 29.21780035,\n        \"num_unique_values\": 5,\n        \"samples\": [\n          17.48504075,\n          26.00175125,\n          29.21780035\n        ],\n        \"semantic_type\": \"\",\n        \"description\": \"\"\n      }\n    },\n    {\n      \"column\": \"humidity\",\n      \"properties\": {\n        \"dtype\": \"number\",\n        \"std\": 33.4399473860331,\n        \"min\": 16.96070581,\n        \"max\": 94.79998418,\n        \"num_unique_values\": 5,\n        \"samples\": [\n          16.96070581,\n          94.79998418,\n          87.93724219\n        ],\n        \"semantic_type\": \"\",\n        \"description\": \"\"\n      }\n    },\n    {\n      \"column\": \"ph\",\n      \"properties\": {\n        \"dtype\": \"number\",\n        \"std\": 0.36331151558419145,\n        \"min\": 6.025028997000001,\n        \"max\": 6.89655198,\n        \"num_unique_values\": 5,\n        \"samples\": [\n          6.89655198,\n          6.331051715,\n          6.54450214\n        ],\n        \"semantic_type\": \"\",\n        \"description\": \"\"\n      }\n    },\n    {\n      \"column\": \"rainfall\",\n      \"properties\": {\n        \"dtype\": \"number\",\n        \"std\": 70.48626275432649,\n        \"min\": 43.1386631,\n        \"max\": 209.540094,\n        \"num_unique_values\": 5,\n        \"samples\": [\n          86.05078037,\n          209.540094,\n          43.1386631\n        ],\n        \"semantic_type\": \"\",\n        \"description\": \"\"\n      }\n    },\n    {\n      \"column\": \"label\",\n      \"properties\": {\n        \"dtype\": \"string\",\n        \"num_unique_values\": 5,\n        \"samples\": [\n          \"chickpea\",\n          \"coconut\",\n          \"mungbean\"\n        ],\n        \"semantic_type\": \"\",\n        \"description\": \"\"\n      }\n    }\n  ]\n}"
            }
          },
          "metadata": {},
          "execution_count": 367
        }
      ]
    },
    {
      "cell_type": "markdown",
      "source": [
        "# crop.isnull().sum()\n",
        "crop.isnull().sum() gives you a Series where each entry represents the number of missing values in the corresponding column of the crop DataFrame. This information is useful for identifying and handling missing data in your dataset."
      ],
      "metadata": {
        "id": "aJxt3O217UNV"
      }
    },
    {
      "cell_type": "code",
      "source": [
        "crop.isnull().sum()"
      ],
      "metadata": {
        "colab": {
          "base_uri": "https://localhost:8080/"
        },
        "id": "3Ia1Se6u7Xi-",
        "outputId": "90f34f71-f60a-48d6-fa57-8e30971badd3"
      },
      "execution_count": 368,
      "outputs": [
        {
          "output_type": "execute_result",
          "data": {
            "text/plain": [
              "N              20\n",
              "P              19\n",
              "K              22\n",
              "temperature    26\n",
              "humidity       18\n",
              "ph             17\n",
              "rainfall       21\n",
              "label          21\n",
              "dtype: int64"
            ]
          },
          "metadata": {},
          "execution_count": 368
        }
      ]
    },
    {
      "cell_type": "markdown",
      "source": [
        "# crop.isnull().sum().sum()\n",
        "crop.isnull().sum().sum() gives you the total number of missing values in the entire DataFrame crop, summing up the counts of missing values across all columns. This information is valuable for understanding the extent of missing data in your dataset"
      ],
      "metadata": {
        "id": "2PWHfHZF8DwB"
      }
    },
    {
      "cell_type": "code",
      "source": [
        "crop.isnull().sum().sum()"
      ],
      "metadata": {
        "colab": {
          "base_uri": "https://localhost:8080/"
        },
        "id": "hlV-6rBK8HlU",
        "outputId": "5ce1e62f-9fd6-4f31-e056-a4bef8c8360d"
      },
      "execution_count": 369,
      "outputs": [
        {
          "output_type": "execute_result",
          "data": {
            "text/plain": [
              "164"
            ]
          },
          "metadata": {},
          "execution_count": 369
        }
      ]
    },
    {
      "cell_type": "markdown",
      "source": [
        "# crop.duplicated().sum()\n",
        "crop.duplicated().sum() gives you the total number of duplicated rows in the DataFrame crop. This information is useful for identifying and handling duplicate entries in your dataset."
      ],
      "metadata": {
        "id": "5gSN3EO076Zr"
      }
    },
    {
      "cell_type": "code",
      "source": [
        "crop.duplicated().sum()"
      ],
      "metadata": {
        "colab": {
          "base_uri": "https://localhost:8080/"
        },
        "id": "eVcc6nvA776x",
        "outputId": "e7a714c2-8122-402a-d525-fe265c96bdfb"
      },
      "execution_count": 370,
      "outputs": [
        {
          "output_type": "execute_result",
          "data": {
            "text/plain": [
              "350"
            ]
          },
          "metadata": {},
          "execution_count": 370
        }
      ]
    },
    {
      "cell_type": "markdown",
      "source": [
        "# interpolation\n",
        "this code snippet ensures that missing values in the DataFrame crop are handled by interpolating them (linear interpolation) and by replacing missing values in the 'label' column with the most frequent label value. The resulting DataFrame crop1 has missing values appropriately handled."
      ],
      "metadata": {
        "id": "sX0rzEI68YtD"
      }
    },
    {
      "cell_type": "code",
      "source": [
        "crop1 = crop.interpolate()\n",
        "most_frequent_label = crop1['label'].mode()[0]\n",
        "crop1['label'].fillna(most_frequent_label, inplace=True)"
      ],
      "metadata": {
        "id": "a6TrzhvP8aAA"
      },
      "execution_count": 371,
      "outputs": []
    },
    {
      "cell_type": "markdown",
      "source": [
        "# Here we recheck if any null value is present or not."
      ],
      "metadata": {
        "id": "TmixFuFH8pwl"
      }
    },
    {
      "cell_type": "code",
      "source": [
        "crop1.isnull().sum()"
      ],
      "metadata": {
        "colab": {
          "base_uri": "https://localhost:8080/"
        },
        "id": "yv1j65CN8sn8",
        "outputId": "159b7e90-5474-47a0-c053-6b10d35788e1"
      },
      "execution_count": 372,
      "outputs": [
        {
          "output_type": "execute_result",
          "data": {
            "text/plain": [
              "N              0\n",
              "P              0\n",
              "K              0\n",
              "temperature    0\n",
              "humidity       0\n",
              "ph             0\n",
              "rainfall       0\n",
              "label          0\n",
              "dtype: int64"
            ]
          },
          "metadata": {},
          "execution_count": 372
        }
      ]
    },
    {
      "cell_type": "markdown",
      "source": [
        "# crop2 = crop1.drop_duplicates()\n",
        "the DataFrame crop2 contains the data from crop1 with duplicate rows removed. This operation ensures that each row in crop2 is unique, based on all columns by default."
      ],
      "metadata": {
        "id": "DUH0JQYm_Nio"
      }
    },
    {
      "cell_type": "code",
      "source": [
        "crop2 = crop1.drop_duplicates()\n",
        "# crop2 = crop1"
      ],
      "metadata": {
        "id": "AkMeuuvb_WYv"
      },
      "execution_count": 373,
      "outputs": []
    },
    {
      "cell_type": "markdown",
      "source": [
        "# Here we recheck if any duplicate rows are present or not."
      ],
      "metadata": {
        "id": "nIrsMP6K_nRA"
      }
    },
    {
      "cell_type": "code",
      "source": [
        " crop2.duplicated().sum()"
      ],
      "metadata": {
        "colab": {
          "base_uri": "https://localhost:8080/"
        },
        "id": "_MGdYIL3_oQH",
        "outputId": "e08c094b-cba2-452d-8416-6a2590234488"
      },
      "execution_count": 374,
      "outputs": [
        {
          "output_type": "execute_result",
          "data": {
            "text/plain": [
              "0"
            ]
          },
          "metadata": {},
          "execution_count": 374
        }
      ]
    },
    {
      "cell_type": "markdown",
      "source": [
        "# crop2.isnull().any()\n",
        "returns a Series where each entry represents whether there are any missing values in the corresponding column of the DataFrame crop2. If the entry is True, it means that the column contains at least one missing value; otherwise, it's False."
      ],
      "metadata": {
        "id": "gxC7_K6yABFx"
      }
    },
    {
      "cell_type": "code",
      "source": [
        "crop2.isnull().any()"
      ],
      "metadata": {
        "colab": {
          "base_uri": "https://localhost:8080/"
        },
        "id": "8TtgDjqwAE1s",
        "outputId": "e2391d98-8c74-4757-d6a9-01cb22a234b9"
      },
      "execution_count": 375,
      "outputs": [
        {
          "output_type": "execute_result",
          "data": {
            "text/plain": [
              "N              False\n",
              "P              False\n",
              "K              False\n",
              "temperature    False\n",
              "humidity       False\n",
              "ph             False\n",
              "rainfall       False\n",
              "label          False\n",
              "dtype: bool"
            ]
          },
          "metadata": {},
          "execution_count": 375
        }
      ]
    },
    {
      "cell_type": "markdown",
      "source": [
        "# crop2.describe()\n",
        "The output of crop2.describe() will be a DataFrame where each row represents a summary statistic, and each column represents a numerical column in the original DataFrame crop2. This summary statistics can provide insights into the distribution and spread of values in the dataset, helping with data exploration and analysis."
      ],
      "metadata": {
        "id": "0bUY8scHBgfb"
      }
    },
    {
      "cell_type": "code",
      "source": [
        "crop2.describe()"
      ],
      "metadata": {
        "colab": {
          "base_uri": "https://localhost:8080/",
          "height": 320
        },
        "id": "Gd_gpFwnBjl0",
        "outputId": "d4021c27-bad3-47a9-8ad2-db6e1b1ac294"
      },
      "execution_count": 376,
      "outputs": [
        {
          "output_type": "execute_result",
          "data": {
            "text/plain": [
              "                 N            P            K  temperature     humidity  \\\n",
              "count  2210.000000  2210.000000  2210.000000  2210.000000  2210.000000   \n",
              "mean     50.603620    53.342081    48.133032    25.603805    71.509146   \n",
              "std      36.974523    32.924350    50.658744     5.063315    22.225265   \n",
              "min       0.000000     5.000000     5.000000     8.825675    14.258040   \n",
              "25%      21.000000    28.000000    20.000000    22.733852    60.278655   \n",
              "50%      37.000000    51.000000    32.000000    25.566354    80.457953   \n",
              "75%      84.750000    68.000000    49.000000    28.540157    89.936402   \n",
              "max     140.000000   145.000000   205.000000    43.675493    99.981876   \n",
              "\n",
              "                ph     rainfall  \n",
              "count  2210.000000  2210.000000  \n",
              "mean      6.469270   103.507011  \n",
              "std       0.772450    54.928470  \n",
              "min       3.504752    20.211267  \n",
              "25%       5.971933    64.642825  \n",
              "50%       6.424285    94.772563  \n",
              "75%       6.924379   124.224123  \n",
              "max       9.935091   298.560117  "
            ],
            "text/html": [
              "\n",
              "  <div id=\"df-5ab432c8-afd6-4654-b96c-ba9b2fa6a6e6\" class=\"colab-df-container\">\n",
              "    <div>\n",
              "<style scoped>\n",
              "    .dataframe tbody tr th:only-of-type {\n",
              "        vertical-align: middle;\n",
              "    }\n",
              "\n",
              "    .dataframe tbody tr th {\n",
              "        vertical-align: top;\n",
              "    }\n",
              "\n",
              "    .dataframe thead th {\n",
              "        text-align: right;\n",
              "    }\n",
              "</style>\n",
              "<table border=\"1\" class=\"dataframe\">\n",
              "  <thead>\n",
              "    <tr style=\"text-align: right;\">\n",
              "      <th></th>\n",
              "      <th>N</th>\n",
              "      <th>P</th>\n",
              "      <th>K</th>\n",
              "      <th>temperature</th>\n",
              "      <th>humidity</th>\n",
              "      <th>ph</th>\n",
              "      <th>rainfall</th>\n",
              "    </tr>\n",
              "  </thead>\n",
              "  <tbody>\n",
              "    <tr>\n",
              "      <th>count</th>\n",
              "      <td>2210.000000</td>\n",
              "      <td>2210.000000</td>\n",
              "      <td>2210.000000</td>\n",
              "      <td>2210.000000</td>\n",
              "      <td>2210.000000</td>\n",
              "      <td>2210.000000</td>\n",
              "      <td>2210.000000</td>\n",
              "    </tr>\n",
              "    <tr>\n",
              "      <th>mean</th>\n",
              "      <td>50.603620</td>\n",
              "      <td>53.342081</td>\n",
              "      <td>48.133032</td>\n",
              "      <td>25.603805</td>\n",
              "      <td>71.509146</td>\n",
              "      <td>6.469270</td>\n",
              "      <td>103.507011</td>\n",
              "    </tr>\n",
              "    <tr>\n",
              "      <th>std</th>\n",
              "      <td>36.974523</td>\n",
              "      <td>32.924350</td>\n",
              "      <td>50.658744</td>\n",
              "      <td>5.063315</td>\n",
              "      <td>22.225265</td>\n",
              "      <td>0.772450</td>\n",
              "      <td>54.928470</td>\n",
              "    </tr>\n",
              "    <tr>\n",
              "      <th>min</th>\n",
              "      <td>0.000000</td>\n",
              "      <td>5.000000</td>\n",
              "      <td>5.000000</td>\n",
              "      <td>8.825675</td>\n",
              "      <td>14.258040</td>\n",
              "      <td>3.504752</td>\n",
              "      <td>20.211267</td>\n",
              "    </tr>\n",
              "    <tr>\n",
              "      <th>25%</th>\n",
              "      <td>21.000000</td>\n",
              "      <td>28.000000</td>\n",
              "      <td>20.000000</td>\n",
              "      <td>22.733852</td>\n",
              "      <td>60.278655</td>\n",
              "      <td>5.971933</td>\n",
              "      <td>64.642825</td>\n",
              "    </tr>\n",
              "    <tr>\n",
              "      <th>50%</th>\n",
              "      <td>37.000000</td>\n",
              "      <td>51.000000</td>\n",
              "      <td>32.000000</td>\n",
              "      <td>25.566354</td>\n",
              "      <td>80.457953</td>\n",
              "      <td>6.424285</td>\n",
              "      <td>94.772563</td>\n",
              "    </tr>\n",
              "    <tr>\n",
              "      <th>75%</th>\n",
              "      <td>84.750000</td>\n",
              "      <td>68.000000</td>\n",
              "      <td>49.000000</td>\n",
              "      <td>28.540157</td>\n",
              "      <td>89.936402</td>\n",
              "      <td>6.924379</td>\n",
              "      <td>124.224123</td>\n",
              "    </tr>\n",
              "    <tr>\n",
              "      <th>max</th>\n",
              "      <td>140.000000</td>\n",
              "      <td>145.000000</td>\n",
              "      <td>205.000000</td>\n",
              "      <td>43.675493</td>\n",
              "      <td>99.981876</td>\n",
              "      <td>9.935091</td>\n",
              "      <td>298.560117</td>\n",
              "    </tr>\n",
              "  </tbody>\n",
              "</table>\n",
              "</div>\n",
              "    <div class=\"colab-df-buttons\">\n",
              "\n",
              "  <div class=\"colab-df-container\">\n",
              "    <button class=\"colab-df-convert\" onclick=\"convertToInteractive('df-5ab432c8-afd6-4654-b96c-ba9b2fa6a6e6')\"\n",
              "            title=\"Convert this dataframe to an interactive table.\"\n",
              "            style=\"display:none;\">\n",
              "\n",
              "  <svg xmlns=\"http://www.w3.org/2000/svg\" height=\"24px\" viewBox=\"0 -960 960 960\">\n",
              "    <path d=\"M120-120v-720h720v720H120Zm60-500h600v-160H180v160Zm220 220h160v-160H400v160Zm0 220h160v-160H400v160ZM180-400h160v-160H180v160Zm440 0h160v-160H620v160ZM180-180h160v-160H180v160Zm440 0h160v-160H620v160Z\"/>\n",
              "  </svg>\n",
              "    </button>\n",
              "\n",
              "  <style>\n",
              "    .colab-df-container {\n",
              "      display:flex;\n",
              "      gap: 12px;\n",
              "    }\n",
              "\n",
              "    .colab-df-convert {\n",
              "      background-color: #E8F0FE;\n",
              "      border: none;\n",
              "      border-radius: 50%;\n",
              "      cursor: pointer;\n",
              "      display: none;\n",
              "      fill: #1967D2;\n",
              "      height: 32px;\n",
              "      padding: 0 0 0 0;\n",
              "      width: 32px;\n",
              "    }\n",
              "\n",
              "    .colab-df-convert:hover {\n",
              "      background-color: #E2EBFA;\n",
              "      box-shadow: 0px 1px 2px rgba(60, 64, 67, 0.3), 0px 1px 3px 1px rgba(60, 64, 67, 0.15);\n",
              "      fill: #174EA6;\n",
              "    }\n",
              "\n",
              "    .colab-df-buttons div {\n",
              "      margin-bottom: 4px;\n",
              "    }\n",
              "\n",
              "    [theme=dark] .colab-df-convert {\n",
              "      background-color: #3B4455;\n",
              "      fill: #D2E3FC;\n",
              "    }\n",
              "\n",
              "    [theme=dark] .colab-df-convert:hover {\n",
              "      background-color: #434B5C;\n",
              "      box-shadow: 0px 1px 3px 1px rgba(0, 0, 0, 0.15);\n",
              "      filter: drop-shadow(0px 1px 2px rgba(0, 0, 0, 0.3));\n",
              "      fill: #FFFFFF;\n",
              "    }\n",
              "  </style>\n",
              "\n",
              "    <script>\n",
              "      const buttonEl =\n",
              "        document.querySelector('#df-5ab432c8-afd6-4654-b96c-ba9b2fa6a6e6 button.colab-df-convert');\n",
              "      buttonEl.style.display =\n",
              "        google.colab.kernel.accessAllowed ? 'block' : 'none';\n",
              "\n",
              "      async function convertToInteractive(key) {\n",
              "        const element = document.querySelector('#df-5ab432c8-afd6-4654-b96c-ba9b2fa6a6e6');\n",
              "        const dataTable =\n",
              "          await google.colab.kernel.invokeFunction('convertToInteractive',\n",
              "                                                    [key], {});\n",
              "        if (!dataTable) return;\n",
              "\n",
              "        const docLinkHtml = 'Like what you see? Visit the ' +\n",
              "          '<a target=\"_blank\" href=https://colab.research.google.com/notebooks/data_table.ipynb>data table notebook</a>'\n",
              "          + ' to learn more about interactive tables.';\n",
              "        element.innerHTML = '';\n",
              "        dataTable['output_type'] = 'display_data';\n",
              "        await google.colab.output.renderOutput(dataTable, element);\n",
              "        const docLink = document.createElement('div');\n",
              "        docLink.innerHTML = docLinkHtml;\n",
              "        element.appendChild(docLink);\n",
              "      }\n",
              "    </script>\n",
              "  </div>\n",
              "\n",
              "\n",
              "<div id=\"df-19375f53-6ca5-44b2-ad3e-619991806c1a\">\n",
              "  <button class=\"colab-df-quickchart\" onclick=\"quickchart('df-19375f53-6ca5-44b2-ad3e-619991806c1a')\"\n",
              "            title=\"Suggest charts\"\n",
              "            style=\"display:none;\">\n",
              "\n",
              "<svg xmlns=\"http://www.w3.org/2000/svg\" height=\"24px\"viewBox=\"0 0 24 24\"\n",
              "     width=\"24px\">\n",
              "    <g>\n",
              "        <path d=\"M19 3H5c-1.1 0-2 .9-2 2v14c0 1.1.9 2 2 2h14c1.1 0 2-.9 2-2V5c0-1.1-.9-2-2-2zM9 17H7v-7h2v7zm4 0h-2V7h2v10zm4 0h-2v-4h2v4z\"/>\n",
              "    </g>\n",
              "</svg>\n",
              "  </button>\n",
              "\n",
              "<style>\n",
              "  .colab-df-quickchart {\n",
              "      --bg-color: #E8F0FE;\n",
              "      --fill-color: #1967D2;\n",
              "      --hover-bg-color: #E2EBFA;\n",
              "      --hover-fill-color: #174EA6;\n",
              "      --disabled-fill-color: #AAA;\n",
              "      --disabled-bg-color: #DDD;\n",
              "  }\n",
              "\n",
              "  [theme=dark] .colab-df-quickchart {\n",
              "      --bg-color: #3B4455;\n",
              "      --fill-color: #D2E3FC;\n",
              "      --hover-bg-color: #434B5C;\n",
              "      --hover-fill-color: #FFFFFF;\n",
              "      --disabled-bg-color: #3B4455;\n",
              "      --disabled-fill-color: #666;\n",
              "  }\n",
              "\n",
              "  .colab-df-quickchart {\n",
              "    background-color: var(--bg-color);\n",
              "    border: none;\n",
              "    border-radius: 50%;\n",
              "    cursor: pointer;\n",
              "    display: none;\n",
              "    fill: var(--fill-color);\n",
              "    height: 32px;\n",
              "    padding: 0;\n",
              "    width: 32px;\n",
              "  }\n",
              "\n",
              "  .colab-df-quickchart:hover {\n",
              "    background-color: var(--hover-bg-color);\n",
              "    box-shadow: 0 1px 2px rgba(60, 64, 67, 0.3), 0 1px 3px 1px rgba(60, 64, 67, 0.15);\n",
              "    fill: var(--button-hover-fill-color);\n",
              "  }\n",
              "\n",
              "  .colab-df-quickchart-complete:disabled,\n",
              "  .colab-df-quickchart-complete:disabled:hover {\n",
              "    background-color: var(--disabled-bg-color);\n",
              "    fill: var(--disabled-fill-color);\n",
              "    box-shadow: none;\n",
              "  }\n",
              "\n",
              "  .colab-df-spinner {\n",
              "    border: 2px solid var(--fill-color);\n",
              "    border-color: transparent;\n",
              "    border-bottom-color: var(--fill-color);\n",
              "    animation:\n",
              "      spin 1s steps(1) infinite;\n",
              "  }\n",
              "\n",
              "  @keyframes spin {\n",
              "    0% {\n",
              "      border-color: transparent;\n",
              "      border-bottom-color: var(--fill-color);\n",
              "      border-left-color: var(--fill-color);\n",
              "    }\n",
              "    20% {\n",
              "      border-color: transparent;\n",
              "      border-left-color: var(--fill-color);\n",
              "      border-top-color: var(--fill-color);\n",
              "    }\n",
              "    30% {\n",
              "      border-color: transparent;\n",
              "      border-left-color: var(--fill-color);\n",
              "      border-top-color: var(--fill-color);\n",
              "      border-right-color: var(--fill-color);\n",
              "    }\n",
              "    40% {\n",
              "      border-color: transparent;\n",
              "      border-right-color: var(--fill-color);\n",
              "      border-top-color: var(--fill-color);\n",
              "    }\n",
              "    60% {\n",
              "      border-color: transparent;\n",
              "      border-right-color: var(--fill-color);\n",
              "    }\n",
              "    80% {\n",
              "      border-color: transparent;\n",
              "      border-right-color: var(--fill-color);\n",
              "      border-bottom-color: var(--fill-color);\n",
              "    }\n",
              "    90% {\n",
              "      border-color: transparent;\n",
              "      border-bottom-color: var(--fill-color);\n",
              "    }\n",
              "  }\n",
              "</style>\n",
              "\n",
              "  <script>\n",
              "    async function quickchart(key) {\n",
              "      const quickchartButtonEl =\n",
              "        document.querySelector('#' + key + ' button');\n",
              "      quickchartButtonEl.disabled = true;  // To prevent multiple clicks.\n",
              "      quickchartButtonEl.classList.add('colab-df-spinner');\n",
              "      try {\n",
              "        const charts = await google.colab.kernel.invokeFunction(\n",
              "            'suggestCharts', [key], {});\n",
              "      } catch (error) {\n",
              "        console.error('Error during call to suggestCharts:', error);\n",
              "      }\n",
              "      quickchartButtonEl.classList.remove('colab-df-spinner');\n",
              "      quickchartButtonEl.classList.add('colab-df-quickchart-complete');\n",
              "    }\n",
              "    (() => {\n",
              "      let quickchartButtonEl =\n",
              "        document.querySelector('#df-19375f53-6ca5-44b2-ad3e-619991806c1a button');\n",
              "      quickchartButtonEl.style.display =\n",
              "        google.colab.kernel.accessAllowed ? 'block' : 'none';\n",
              "    })();\n",
              "  </script>\n",
              "</div>\n",
              "\n",
              "    </div>\n",
              "  </div>\n"
            ],
            "application/vnd.google.colaboratory.intrinsic+json": {
              "type": "dataframe",
              "summary": "{\n  \"name\": \"crop2\",\n  \"rows\": 8,\n  \"fields\": [\n    {\n      \"column\": \"N\",\n      \"properties\": {\n        \"dtype\": \"number\",\n        \"std\": 763.8585077187995,\n        \"min\": 0.0,\n        \"max\": 2210.0,\n        \"num_unique_values\": 8,\n        \"samples\": [\n          50.603619909502264,\n          37.0,\n          2210.0\n        ],\n        \"semantic_type\": \"\",\n        \"description\": \"\"\n      }\n    },\n    {\n      \"column\": \"P\",\n      \"properties\": {\n        \"dtype\": \"number\",\n        \"std\": 763.1194946846366,\n        \"min\": 5.0,\n        \"max\": 2210.0,\n        \"num_unique_values\": 8,\n        \"samples\": [\n          53.3420814479638,\n          51.0,\n          2210.0\n        ],\n        \"semantic_type\": \"\",\n        \"description\": \"\"\n      }\n    },\n    {\n      \"column\": \"K\",\n      \"properties\": {\n        \"dtype\": \"number\",\n        \"std\": 763.1648837613732,\n        \"min\": 5.0,\n        \"max\": 2210.0,\n        \"num_unique_values\": 8,\n        \"samples\": [\n          48.13303167420815,\n          32.0,\n          2210.0\n        ],\n        \"semantic_type\": \"\",\n        \"description\": \"\"\n      }\n    },\n    {\n      \"column\": \"temperature\",\n      \"properties\": {\n        \"dtype\": \"number\",\n        \"std\": 773.3631575746898,\n        \"min\": 5.063315067836054,\n        \"max\": 2210.0,\n        \"num_unique_values\": 8,\n        \"samples\": [\n          25.60380549144344,\n          25.566354075,\n          2210.0\n        ],\n        \"semantic_type\": \"\",\n        \"description\": \"\"\n      }\n    },\n    {\n      \"column\": \"humidity\",\n      \"properties\": {\n        \"dtype\": \"number\",\n        \"std\": 759.8107050890369,\n        \"min\": 14.25803981,\n        \"max\": 2210.0,\n        \"num_unique_values\": 8,\n        \"samples\": [\n          71.50914602043666,\n          80.45795343500001,\n          2210.0\n        ],\n        \"semantic_type\": \"\",\n        \"description\": \"\"\n      }\n    },\n    {\n      \"column\": \"ph\",\n      \"properties\": {\n        \"dtype\": \"number\",\n        \"std\": 779.3371363862955,\n        \"min\": 0.7724503553698094,\n        \"max\": 2210.0,\n        \"num_unique_values\": 8,\n        \"samples\": [\n          6.4692703096552036,\n          6.424284688,\n          2210.0\n        ],\n        \"semantic_type\": \"\",\n        \"description\": \"\"\n      }\n    },\n    {\n      \"column\": \"rainfall\",\n      \"properties\": {\n        \"dtype\": \"number\",\n        \"std\": 747.6370986606527,\n        \"min\": 20.21126747,\n        \"max\": 2210.0,\n        \"num_unique_values\": 8,\n        \"samples\": [\n          103.50701124695473,\n          94.77256285,\n          2210.0\n        ],\n        \"semantic_type\": \"\",\n        \"description\": \"\"\n      }\n    }\n  ]\n}"
            }
          },
          "metadata": {},
          "execution_count": 376
        }
      ]
    },
    {
      "cell_type": "markdown",
      "source": [
        "# corr()\n",
        "The corr() method is commonly used to identify relationships between variables in a dataset. High positive or negative correlation coefficients can indicate strong relationships between variables, while a correlation coefficient close to 0 suggests little to no relationship. These correlation coefficients can be further analyzed and interpreted to gain insights into the dataset."
      ],
      "metadata": {
        "id": "3bqh73fABn66"
      }
    },
    {
      "cell_type": "code",
      "source": [
        "corr = crop2.corr()\n",
        "corr"
      ],
      "metadata": {
        "colab": {
          "base_uri": "https://localhost:8080/",
          "height": 289
        },
        "id": "f_YsTe6pBqis",
        "outputId": "249cd568-e6cc-49f1-aaf4-d53ec6116290"
      },
      "execution_count": 377,
      "outputs": [
        {
          "output_type": "execute_result",
          "data": {
            "text/plain": [
              "                    N         P         K  temperature  humidity        ph  \\\n",
              "N            1.000000 -0.231534 -0.143396     0.028319  0.191176  0.101077   \n",
              "P           -0.231534  1.000000  0.733553    -0.126413 -0.119741 -0.138487   \n",
              "K           -0.143396  0.733553  1.000000    -0.158412  0.191134 -0.170188   \n",
              "temperature  0.028319 -0.126413 -0.158412     1.000000  0.205105 -0.017932   \n",
              "humidity     0.191176 -0.119741  0.191134     0.205105  1.000000 -0.008090   \n",
              "ph           0.101077 -0.138487 -0.170188    -0.017932 -0.008090  1.000000   \n",
              "rainfall     0.055427 -0.063601 -0.053408    -0.028305  0.095265 -0.108825   \n",
              "\n",
              "             rainfall  \n",
              "N            0.055427  \n",
              "P           -0.063601  \n",
              "K           -0.053408  \n",
              "temperature -0.028305  \n",
              "humidity     0.095265  \n",
              "ph          -0.108825  \n",
              "rainfall     1.000000  "
            ],
            "text/html": [
              "\n",
              "  <div id=\"df-a574f14b-6ab5-44cd-bb0b-a6337b060e84\" class=\"colab-df-container\">\n",
              "    <div>\n",
              "<style scoped>\n",
              "    .dataframe tbody tr th:only-of-type {\n",
              "        vertical-align: middle;\n",
              "    }\n",
              "\n",
              "    .dataframe tbody tr th {\n",
              "        vertical-align: top;\n",
              "    }\n",
              "\n",
              "    .dataframe thead th {\n",
              "        text-align: right;\n",
              "    }\n",
              "</style>\n",
              "<table border=\"1\" class=\"dataframe\">\n",
              "  <thead>\n",
              "    <tr style=\"text-align: right;\">\n",
              "      <th></th>\n",
              "      <th>N</th>\n",
              "      <th>P</th>\n",
              "      <th>K</th>\n",
              "      <th>temperature</th>\n",
              "      <th>humidity</th>\n",
              "      <th>ph</th>\n",
              "      <th>rainfall</th>\n",
              "    </tr>\n",
              "  </thead>\n",
              "  <tbody>\n",
              "    <tr>\n",
              "      <th>N</th>\n",
              "      <td>1.000000</td>\n",
              "      <td>-0.231534</td>\n",
              "      <td>-0.143396</td>\n",
              "      <td>0.028319</td>\n",
              "      <td>0.191176</td>\n",
              "      <td>0.101077</td>\n",
              "      <td>0.055427</td>\n",
              "    </tr>\n",
              "    <tr>\n",
              "      <th>P</th>\n",
              "      <td>-0.231534</td>\n",
              "      <td>1.000000</td>\n",
              "      <td>0.733553</td>\n",
              "      <td>-0.126413</td>\n",
              "      <td>-0.119741</td>\n",
              "      <td>-0.138487</td>\n",
              "      <td>-0.063601</td>\n",
              "    </tr>\n",
              "    <tr>\n",
              "      <th>K</th>\n",
              "      <td>-0.143396</td>\n",
              "      <td>0.733553</td>\n",
              "      <td>1.000000</td>\n",
              "      <td>-0.158412</td>\n",
              "      <td>0.191134</td>\n",
              "      <td>-0.170188</td>\n",
              "      <td>-0.053408</td>\n",
              "    </tr>\n",
              "    <tr>\n",
              "      <th>temperature</th>\n",
              "      <td>0.028319</td>\n",
              "      <td>-0.126413</td>\n",
              "      <td>-0.158412</td>\n",
              "      <td>1.000000</td>\n",
              "      <td>0.205105</td>\n",
              "      <td>-0.017932</td>\n",
              "      <td>-0.028305</td>\n",
              "    </tr>\n",
              "    <tr>\n",
              "      <th>humidity</th>\n",
              "      <td>0.191176</td>\n",
              "      <td>-0.119741</td>\n",
              "      <td>0.191134</td>\n",
              "      <td>0.205105</td>\n",
              "      <td>1.000000</td>\n",
              "      <td>-0.008090</td>\n",
              "      <td>0.095265</td>\n",
              "    </tr>\n",
              "    <tr>\n",
              "      <th>ph</th>\n",
              "      <td>0.101077</td>\n",
              "      <td>-0.138487</td>\n",
              "      <td>-0.170188</td>\n",
              "      <td>-0.017932</td>\n",
              "      <td>-0.008090</td>\n",
              "      <td>1.000000</td>\n",
              "      <td>-0.108825</td>\n",
              "    </tr>\n",
              "    <tr>\n",
              "      <th>rainfall</th>\n",
              "      <td>0.055427</td>\n",
              "      <td>-0.063601</td>\n",
              "      <td>-0.053408</td>\n",
              "      <td>-0.028305</td>\n",
              "      <td>0.095265</td>\n",
              "      <td>-0.108825</td>\n",
              "      <td>1.000000</td>\n",
              "    </tr>\n",
              "  </tbody>\n",
              "</table>\n",
              "</div>\n",
              "    <div class=\"colab-df-buttons\">\n",
              "\n",
              "  <div class=\"colab-df-container\">\n",
              "    <button class=\"colab-df-convert\" onclick=\"convertToInteractive('df-a574f14b-6ab5-44cd-bb0b-a6337b060e84')\"\n",
              "            title=\"Convert this dataframe to an interactive table.\"\n",
              "            style=\"display:none;\">\n",
              "\n",
              "  <svg xmlns=\"http://www.w3.org/2000/svg\" height=\"24px\" viewBox=\"0 -960 960 960\">\n",
              "    <path d=\"M120-120v-720h720v720H120Zm60-500h600v-160H180v160Zm220 220h160v-160H400v160Zm0 220h160v-160H400v160ZM180-400h160v-160H180v160Zm440 0h160v-160H620v160ZM180-180h160v-160H180v160Zm440 0h160v-160H620v160Z\"/>\n",
              "  </svg>\n",
              "    </button>\n",
              "\n",
              "  <style>\n",
              "    .colab-df-container {\n",
              "      display:flex;\n",
              "      gap: 12px;\n",
              "    }\n",
              "\n",
              "    .colab-df-convert {\n",
              "      background-color: #E8F0FE;\n",
              "      border: none;\n",
              "      border-radius: 50%;\n",
              "      cursor: pointer;\n",
              "      display: none;\n",
              "      fill: #1967D2;\n",
              "      height: 32px;\n",
              "      padding: 0 0 0 0;\n",
              "      width: 32px;\n",
              "    }\n",
              "\n",
              "    .colab-df-convert:hover {\n",
              "      background-color: #E2EBFA;\n",
              "      box-shadow: 0px 1px 2px rgba(60, 64, 67, 0.3), 0px 1px 3px 1px rgba(60, 64, 67, 0.15);\n",
              "      fill: #174EA6;\n",
              "    }\n",
              "\n",
              "    .colab-df-buttons div {\n",
              "      margin-bottom: 4px;\n",
              "    }\n",
              "\n",
              "    [theme=dark] .colab-df-convert {\n",
              "      background-color: #3B4455;\n",
              "      fill: #D2E3FC;\n",
              "    }\n",
              "\n",
              "    [theme=dark] .colab-df-convert:hover {\n",
              "      background-color: #434B5C;\n",
              "      box-shadow: 0px 1px 3px 1px rgba(0, 0, 0, 0.15);\n",
              "      filter: drop-shadow(0px 1px 2px rgba(0, 0, 0, 0.3));\n",
              "      fill: #FFFFFF;\n",
              "    }\n",
              "  </style>\n",
              "\n",
              "    <script>\n",
              "      const buttonEl =\n",
              "        document.querySelector('#df-a574f14b-6ab5-44cd-bb0b-a6337b060e84 button.colab-df-convert');\n",
              "      buttonEl.style.display =\n",
              "        google.colab.kernel.accessAllowed ? 'block' : 'none';\n",
              "\n",
              "      async function convertToInteractive(key) {\n",
              "        const element = document.querySelector('#df-a574f14b-6ab5-44cd-bb0b-a6337b060e84');\n",
              "        const dataTable =\n",
              "          await google.colab.kernel.invokeFunction('convertToInteractive',\n",
              "                                                    [key], {});\n",
              "        if (!dataTable) return;\n",
              "\n",
              "        const docLinkHtml = 'Like what you see? Visit the ' +\n",
              "          '<a target=\"_blank\" href=https://colab.research.google.com/notebooks/data_table.ipynb>data table notebook</a>'\n",
              "          + ' to learn more about interactive tables.';\n",
              "        element.innerHTML = '';\n",
              "        dataTable['output_type'] = 'display_data';\n",
              "        await google.colab.output.renderOutput(dataTable, element);\n",
              "        const docLink = document.createElement('div');\n",
              "        docLink.innerHTML = docLinkHtml;\n",
              "        element.appendChild(docLink);\n",
              "      }\n",
              "    </script>\n",
              "  </div>\n",
              "\n",
              "\n",
              "<div id=\"df-3eca35f3-3d7e-4fb1-9f2c-9d6ff55a35e4\">\n",
              "  <button class=\"colab-df-quickchart\" onclick=\"quickchart('df-3eca35f3-3d7e-4fb1-9f2c-9d6ff55a35e4')\"\n",
              "            title=\"Suggest charts\"\n",
              "            style=\"display:none;\">\n",
              "\n",
              "<svg xmlns=\"http://www.w3.org/2000/svg\" height=\"24px\"viewBox=\"0 0 24 24\"\n",
              "     width=\"24px\">\n",
              "    <g>\n",
              "        <path d=\"M19 3H5c-1.1 0-2 .9-2 2v14c0 1.1.9 2 2 2h14c1.1 0 2-.9 2-2V5c0-1.1-.9-2-2-2zM9 17H7v-7h2v7zm4 0h-2V7h2v10zm4 0h-2v-4h2v4z\"/>\n",
              "    </g>\n",
              "</svg>\n",
              "  </button>\n",
              "\n",
              "<style>\n",
              "  .colab-df-quickchart {\n",
              "      --bg-color: #E8F0FE;\n",
              "      --fill-color: #1967D2;\n",
              "      --hover-bg-color: #E2EBFA;\n",
              "      --hover-fill-color: #174EA6;\n",
              "      --disabled-fill-color: #AAA;\n",
              "      --disabled-bg-color: #DDD;\n",
              "  }\n",
              "\n",
              "  [theme=dark] .colab-df-quickchart {\n",
              "      --bg-color: #3B4455;\n",
              "      --fill-color: #D2E3FC;\n",
              "      --hover-bg-color: #434B5C;\n",
              "      --hover-fill-color: #FFFFFF;\n",
              "      --disabled-bg-color: #3B4455;\n",
              "      --disabled-fill-color: #666;\n",
              "  }\n",
              "\n",
              "  .colab-df-quickchart {\n",
              "    background-color: var(--bg-color);\n",
              "    border: none;\n",
              "    border-radius: 50%;\n",
              "    cursor: pointer;\n",
              "    display: none;\n",
              "    fill: var(--fill-color);\n",
              "    height: 32px;\n",
              "    padding: 0;\n",
              "    width: 32px;\n",
              "  }\n",
              "\n",
              "  .colab-df-quickchart:hover {\n",
              "    background-color: var(--hover-bg-color);\n",
              "    box-shadow: 0 1px 2px rgba(60, 64, 67, 0.3), 0 1px 3px 1px rgba(60, 64, 67, 0.15);\n",
              "    fill: var(--button-hover-fill-color);\n",
              "  }\n",
              "\n",
              "  .colab-df-quickchart-complete:disabled,\n",
              "  .colab-df-quickchart-complete:disabled:hover {\n",
              "    background-color: var(--disabled-bg-color);\n",
              "    fill: var(--disabled-fill-color);\n",
              "    box-shadow: none;\n",
              "  }\n",
              "\n",
              "  .colab-df-spinner {\n",
              "    border: 2px solid var(--fill-color);\n",
              "    border-color: transparent;\n",
              "    border-bottom-color: var(--fill-color);\n",
              "    animation:\n",
              "      spin 1s steps(1) infinite;\n",
              "  }\n",
              "\n",
              "  @keyframes spin {\n",
              "    0% {\n",
              "      border-color: transparent;\n",
              "      border-bottom-color: var(--fill-color);\n",
              "      border-left-color: var(--fill-color);\n",
              "    }\n",
              "    20% {\n",
              "      border-color: transparent;\n",
              "      border-left-color: var(--fill-color);\n",
              "      border-top-color: var(--fill-color);\n",
              "    }\n",
              "    30% {\n",
              "      border-color: transparent;\n",
              "      border-left-color: var(--fill-color);\n",
              "      border-top-color: var(--fill-color);\n",
              "      border-right-color: var(--fill-color);\n",
              "    }\n",
              "    40% {\n",
              "      border-color: transparent;\n",
              "      border-right-color: var(--fill-color);\n",
              "      border-top-color: var(--fill-color);\n",
              "    }\n",
              "    60% {\n",
              "      border-color: transparent;\n",
              "      border-right-color: var(--fill-color);\n",
              "    }\n",
              "    80% {\n",
              "      border-color: transparent;\n",
              "      border-right-color: var(--fill-color);\n",
              "      border-bottom-color: var(--fill-color);\n",
              "    }\n",
              "    90% {\n",
              "      border-color: transparent;\n",
              "      border-bottom-color: var(--fill-color);\n",
              "    }\n",
              "  }\n",
              "</style>\n",
              "\n",
              "  <script>\n",
              "    async function quickchart(key) {\n",
              "      const quickchartButtonEl =\n",
              "        document.querySelector('#' + key + ' button');\n",
              "      quickchartButtonEl.disabled = true;  // To prevent multiple clicks.\n",
              "      quickchartButtonEl.classList.add('colab-df-spinner');\n",
              "      try {\n",
              "        const charts = await google.colab.kernel.invokeFunction(\n",
              "            'suggestCharts', [key], {});\n",
              "      } catch (error) {\n",
              "        console.error('Error during call to suggestCharts:', error);\n",
              "      }\n",
              "      quickchartButtonEl.classList.remove('colab-df-spinner');\n",
              "      quickchartButtonEl.classList.add('colab-df-quickchart-complete');\n",
              "    }\n",
              "    (() => {\n",
              "      let quickchartButtonEl =\n",
              "        document.querySelector('#df-3eca35f3-3d7e-4fb1-9f2c-9d6ff55a35e4 button');\n",
              "      quickchartButtonEl.style.display =\n",
              "        google.colab.kernel.accessAllowed ? 'block' : 'none';\n",
              "    })();\n",
              "  </script>\n",
              "</div>\n",
              "\n",
              "  <div id=\"id_342fab8c-add5-4c2d-97eb-e964dcb238f3\">\n",
              "    <style>\n",
              "      .colab-df-generate {\n",
              "        background-color: #E8F0FE;\n",
              "        border: none;\n",
              "        border-radius: 50%;\n",
              "        cursor: pointer;\n",
              "        display: none;\n",
              "        fill: #1967D2;\n",
              "        height: 32px;\n",
              "        padding: 0 0 0 0;\n",
              "        width: 32px;\n",
              "      }\n",
              "\n",
              "      .colab-df-generate:hover {\n",
              "        background-color: #E2EBFA;\n",
              "        box-shadow: 0px 1px 2px rgba(60, 64, 67, 0.3), 0px 1px 3px 1px rgba(60, 64, 67, 0.15);\n",
              "        fill: #174EA6;\n",
              "      }\n",
              "\n",
              "      [theme=dark] .colab-df-generate {\n",
              "        background-color: #3B4455;\n",
              "        fill: #D2E3FC;\n",
              "      }\n",
              "\n",
              "      [theme=dark] .colab-df-generate:hover {\n",
              "        background-color: #434B5C;\n",
              "        box-shadow: 0px 1px 3px 1px rgba(0, 0, 0, 0.15);\n",
              "        filter: drop-shadow(0px 1px 2px rgba(0, 0, 0, 0.3));\n",
              "        fill: #FFFFFF;\n",
              "      }\n",
              "    </style>\n",
              "    <button class=\"colab-df-generate\" onclick=\"generateWithVariable('corr')\"\n",
              "            title=\"Generate code using this dataframe.\"\n",
              "            style=\"display:none;\">\n",
              "\n",
              "  <svg xmlns=\"http://www.w3.org/2000/svg\" height=\"24px\"viewBox=\"0 0 24 24\"\n",
              "       width=\"24px\">\n",
              "    <path d=\"M7,19H8.4L18.45,9,17,7.55,7,17.6ZM5,21V16.75L18.45,3.32a2,2,0,0,1,2.83,0l1.4,1.43a1.91,1.91,0,0,1,.58,1.4,1.91,1.91,0,0,1-.58,1.4L9.25,21ZM18.45,9,17,7.55Zm-12,3A5.31,5.31,0,0,0,4.9,8.1,5.31,5.31,0,0,0,1,6.5,5.31,5.31,0,0,0,4.9,4.9,5.31,5.31,0,0,0,6.5,1,5.31,5.31,0,0,0,8.1,4.9,5.31,5.31,0,0,0,12,6.5,5.46,5.46,0,0,0,6.5,12Z\"/>\n",
              "  </svg>\n",
              "    </button>\n",
              "    <script>\n",
              "      (() => {\n",
              "      const buttonEl =\n",
              "        document.querySelector('#id_342fab8c-add5-4c2d-97eb-e964dcb238f3 button.colab-df-generate');\n",
              "      buttonEl.style.display =\n",
              "        google.colab.kernel.accessAllowed ? 'block' : 'none';\n",
              "\n",
              "      buttonEl.onclick = () => {\n",
              "        google.colab.notebook.generateWithVariable('corr');\n",
              "      }\n",
              "      })();\n",
              "    </script>\n",
              "  </div>\n",
              "\n",
              "    </div>\n",
              "  </div>\n"
            ],
            "application/vnd.google.colaboratory.intrinsic+json": {
              "type": "dataframe",
              "variable_name": "corr",
              "summary": "{\n  \"name\": \"corr\",\n  \"rows\": 7,\n  \"fields\": [\n    {\n      \"column\": \"N\",\n      \"properties\": {\n        \"dtype\": \"number\",\n        \"std\": 0.40448451738357655,\n        \"min\": -0.23153362501135447,\n        \"max\": 1.0,\n        \"num_unique_values\": 7,\n        \"samples\": [\n          1.0,\n          -0.23153362501135447,\n          0.10107699177335856\n        ],\n        \"semantic_type\": \"\",\n        \"description\": \"\"\n      }\n    },\n    {\n      \"column\": \"P\",\n      \"properties\": {\n        \"dtype\": \"number\",\n        \"std\": 0.49776413467507613,\n        \"min\": -0.23153362501135447,\n        \"max\": 1.0,\n        \"num_unique_values\": 7,\n        \"samples\": [\n          -0.23153362501135447,\n          1.0,\n          -0.13848654544853833\n        ],\n        \"semantic_type\": \"\",\n        \"description\": \"\"\n      }\n    },\n    {\n      \"column\": \"K\",\n      \"properties\": {\n        \"dtype\": \"number\",\n        \"std\": 0.478259345136898,\n        \"min\": -0.17018758722740457,\n        \"max\": 1.0,\n        \"num_unique_values\": 7,\n        \"samples\": [\n          -0.14339598240447246,\n          0.7335532745760542,\n          -0.17018758722740457\n        ],\n        \"semantic_type\": \"\",\n        \"description\": \"\"\n      }\n    },\n    {\n      \"column\": \"temperature\",\n      \"properties\": {\n        \"dtype\": \"number\",\n        \"std\": 0.4018177721426912,\n        \"min\": -0.15841194642899176,\n        \"max\": 1.0,\n        \"num_unique_values\": 7,\n        \"samples\": [\n          0.028319200025409167,\n          -0.12641319946910334,\n          -0.01793239412201287\n        ],\n        \"semantic_type\": \"\",\n        \"description\": \"\"\n      }\n    },\n    {\n      \"column\": \"humidity\",\n      \"properties\": {\n        \"dtype\": \"number\",\n        \"std\": 0.3636075416306908,\n        \"min\": -0.11974136090959904,\n        \"max\": 1.0,\n        \"num_unique_values\": 7,\n        \"samples\": [\n          0.19117586991475574,\n          -0.11974136090959904,\n          -0.00809035380769108\n        ],\n        \"semantic_type\": \"\",\n        \"description\": \"\"\n      }\n    },\n    {\n      \"column\": \"ph\",\n      \"properties\": {\n        \"dtype\": \"number\",\n        \"std\": 0.41004482632937483,\n        \"min\": -0.17018758722740457,\n        \"max\": 1.0,\n        \"num_unique_values\": 7,\n        \"samples\": [\n          0.10107699177335856,\n          -0.13848654544853833,\n          1.0\n        ],\n        \"semantic_type\": \"\",\n        \"description\": \"\"\n      }\n    },\n    {\n      \"column\": \"rainfall\",\n      \"properties\": {\n        \"dtype\": \"number\",\n        \"std\": 0.39090914226749685,\n        \"min\": -0.10882535800767884,\n        \"max\": 1.0,\n        \"num_unique_values\": 7,\n        \"samples\": [\n          0.05542651341610221,\n          -0.06360094663875974,\n          -0.10882535800767884\n        ],\n        \"semantic_type\": \"\",\n        \"description\": \"\"\n      }\n    }\n  ]\n}"
            }
          },
          "metadata": {},
          "execution_count": 377
        }
      ]
    },
    {
      "cell_type": "markdown",
      "source": [
        "#size\n",
        "The .size method in Python is used to get the number of elements in an object, such as a list, tuple, set, or dictionary. However, it seems you've added parentheses to the method, which is not correct for this purpose."
      ],
      "metadata": {
        "id": "tzWk8FFKChcL"
      }
    },
    {
      "cell_type": "code",
      "source": [
        " crop2.size"
      ],
      "metadata": {
        "colab": {
          "base_uri": "https://localhost:8080/"
        },
        "id": "BUkk_pNkBzYM",
        "outputId": "53ada32e-ec62-4be6-a0ea-e15bc41cbaab"
      },
      "execution_count": 378,
      "outputs": [
        {
          "output_type": "execute_result",
          "data": {
            "text/plain": [
              "17680"
            ]
          },
          "metadata": {},
          "execution_count": 378
        }
      ]
    },
    {
      "cell_type": "markdown",
      "source": [
        "#columns\n",
        "The .columns attribute is used to retrieve the column labels of a DataFrame in pandas."
      ],
      "metadata": {
        "id": "Oiy9RuMKC5NE"
      }
    },
    {
      "cell_type": "code",
      "source": [
        " crop2.columns"
      ],
      "metadata": {
        "colab": {
          "base_uri": "https://localhost:8080/"
        },
        "id": "v3Hlm0DBDBI9",
        "outputId": "18134de2-26d3-4606-fc22-0550f573e741"
      },
      "execution_count": 379,
      "outputs": [
        {
          "output_type": "execute_result",
          "data": {
            "text/plain": [
              "Index(['N', 'P', 'K', 'temperature', 'humidity', 'ph', 'rainfall', 'label'], dtype='object')"
            ]
          },
          "metadata": {},
          "execution_count": 379
        }
      ]
    },
    {
      "cell_type": "markdown",
      "source": [
        "#  crop2['label'].unique()\n",
        "The code crop2['label'].unique() is used to get the unique values in the 'label' column of the DataFrame crop2.\n"
      ],
      "metadata": {
        "id": "kN1IYIncDqUq"
      }
    },
    {
      "cell_type": "code",
      "source": [
        "crop2['label'].unique()"
      ],
      "metadata": {
        "colab": {
          "base_uri": "https://localhost:8080/"
        },
        "id": "FAA81jy9EC47",
        "outputId": "8da02ae5-c644-49ea-d79a-6db25eacc9f1"
      },
      "execution_count": 380,
      "outputs": [
        {
          "output_type": "execute_result",
          "data": {
            "text/plain": [
              "array(['rice', 'muskmelon', 'maize', 'chickpea', 'kidneybeans',\n",
              "       'pigeonpeas', 'mothbeans', 'mungbean', 'blackgram', 'lentil',\n",
              "       'pomegranate', 'banana', 'mango', 'grapes', 'watermelon', 'apple',\n",
              "       'orange', 'papaya', 'coconut', 'cotton', 'jute', 'coffee'],\n",
              "      dtype=object)"
            ]
          },
          "metadata": {},
          "execution_count": 380
        }
      ]
    },
    {
      "cell_type": "markdown",
      "source": [
        "#dtypes\n",
        "The dtypes attribute in pandas DataFrame is used to get the data types of each column in the DataFrame."
      ],
      "metadata": {
        "id": "ik7UGgY8En87"
      }
    },
    {
      "cell_type": "code",
      "source": [
        " crop2.dtypes"
      ],
      "metadata": {
        "colab": {
          "base_uri": "https://localhost:8080/"
        },
        "id": "xap2AJdLEs-V",
        "outputId": "44cc4b19-90f6-4ccd-d30a-f4b5fb0d2bb8"
      },
      "execution_count": 381,
      "outputs": [
        {
          "output_type": "execute_result",
          "data": {
            "text/plain": [
              "N              float64\n",
              "P              float64\n",
              "K              float64\n",
              "temperature    float64\n",
              "humidity       float64\n",
              "ph             float64\n",
              "rainfall       float64\n",
              "label           object\n",
              "dtype: object"
            ]
          },
          "metadata": {},
          "execution_count": 381
        }
      ]
    },
    {
      "cell_type": "markdown",
      "source": [
        "# crop2['label'].value_counts()\n",
        "\n",
        "* The output of crop2['label'].value_counts() will be a Series where each unique label in the 'label' column of crop2 is listed along with the count of occurrences of that label in the dataset. This information is useful for understanding the distribution of different labels in the dataset and can be valuable for various analytical purposes."
      ],
      "metadata": {
        "id": "pBV3YwuxFPbN"
      }
    },
    {
      "cell_type": "code",
      "source": [
        "crop2['label'].value_counts()"
      ],
      "metadata": {
        "colab": {
          "base_uri": "https://localhost:8080/"
        },
        "id": "kX--oO5fFR-j",
        "outputId": "062ff3ee-e825-4772-b1a9-ffa6f350be75"
      },
      "execution_count": 382,
      "outputs": [
        {
          "output_type": "execute_result",
          "data": {
            "text/plain": [
              "muskmelon      117\n",
              "kidneybeans    101\n",
              "blackgram      101\n",
              "apple          101\n",
              "rice           100\n",
              "papaya         100\n",
              "maize          100\n",
              "chickpea       100\n",
              "pigeonpeas     100\n",
              "mothbeans      100\n",
              "jute           100\n",
              "cotton         100\n",
              "pomegranate    100\n",
              "mango          100\n",
              "grapes         100\n",
              "coconut        100\n",
              "banana          99\n",
              "lentil          99\n",
              "orange          98\n",
              "watermelon      98\n",
              "mungbean        98\n",
              "coffee          98\n",
              "Name: label, dtype: int64"
            ]
          },
          "metadata": {},
          "execution_count": 382
        }
      ]
    },
    {
      "cell_type": "markdown",
      "source": [
        "#Visualizing the correlation matrix\n",
        " By visualizing the correlation matrix as a heatmap, you can easily identify patterns and relationships between variables in the dataset. Positive correlations will appear in warm colors, negative correlations in cool colors, and no correlation in neutral colors. The annotations provide the exact correlation coefficients, making it easier to interpret the heatmap."
      ],
      "metadata": {
        "id": "sH2YpNElF_mh"
      }
    },
    {
      "cell_type": "code",
      "source": [
        "sns.heatmap(corr,annot=True,cbar=True, cmap='coolwarm')"
      ],
      "metadata": {
        "colab": {
          "base_uri": "https://localhost:8080/",
          "height": 526
        },
        "id": "ca0NBElEGEPx",
        "outputId": "8a17a95c-b3f7-4692-bb64-dba89067f479"
      },
      "execution_count": 383,
      "outputs": [
        {
          "output_type": "execute_result",
          "data": {
            "text/plain": [
              "<Axes: >"
            ]
          },
          "metadata": {},
          "execution_count": 383
        },
        {
          "output_type": "display_data",
          "data": {
            "text/plain": [
              "<Figure size 640x480 with 2 Axes>"
            ],
            "image/png": "[encoded data removed]"
          },
          "metadata": {}
        }
      ]
    },
    {
      "cell_type": "markdown",
      "source": [
        "#Distribution of values in the 'N' column of the DataFrame crop2.\n",
        "\n",
        "By executing this code, you'll generate a distribution plot showing the distribution of values in the 'N' column of the DataFrame crop2. This visualization helps in understanding the distribution of values and identifying any patterns or outliers present in the data."
      ],
      "metadata": {
        "id": "rEKJ_LckU2ew"
      }
    },
    {
      "cell_type": "code",
      "source": [
        "sns.distplot(crop2['N'])\n",
        "plt.show()"
      ],
      "metadata": {
        "colab": {
          "base_uri": "https://localhost:8080/",
          "height": 449
        },
        "id": "49_cOctOGcjs",
        "outputId": "4fcdf876-a220-40ec-d9ff-5f73d7cade07"
      },
      "execution_count": 384,
      "outputs": [
        {
          "output_type": "display_data",
          "data": {
            "text/plain": [
              "<Figure size 640x480 with 1 Axes>"
            ],
            "image/png": "[encoded data removed]"
          },
          "metadata": {}
        }
      ]
    },
    {
      "cell_type": "markdown",
      "source": [
        "#Distribution of values in the 'P' column of the DataFrame crop2.\n",
        "\n",
        "By executing this code, you'll generate a distribution plot showing the distribution of values in the 'P' column of the DataFrame crop2. This visualization helps in understanding the distribution of values and identifying any patterns or outliers present in the data."
      ],
      "metadata": {
        "id": "K8syEzXyVoPQ"
      }
    },
    {
      "cell_type": "code",
      "source": [
        "sns.distplot(crop2['P'])\n",
        "plt.show()"
      ],
      "metadata": {
        "colab": {
          "base_uri": "https://localhost:8080/",
          "height": 449
        },
        "id": "gmK_QOhmGnLL",
        "outputId": "d421f750-936f-4b44-e687-01f0d03079f3"
      },
      "execution_count": 385,
      "outputs": [
        {
          "output_type": "display_data",
          "data": {
            "text/plain": [
              "<Figure size 640x480 with 1 Axes>"
            ],
            "image/png": "[encoded data removed]"
          },
          "metadata": {}
        }
      ]
    },
    {
      "cell_type": "markdown",
      "source": [
        "#Distribution plot of K, Temperature, Humidity, ph, Rainfall using Seaborn's distplot() function."
      ],
      "metadata": {
        "id": "MVxV-tq_Vx1d"
      }
    },
    {
      "cell_type": "code",
      "source": [
        "sns.distplot(crop2['K'])\n",
        "plt.show()"
      ],
      "metadata": {
        "id": "FyCGZBetWT6p",
        "outputId": "fabdbc7e-c3a8-415f-b6f5-72a9f82db8ef",
        "colab": {
          "base_uri": "https://localhost:8080/",
          "height": 449
        }
      },
      "execution_count": 386,
      "outputs": [
        {
          "output_type": "display_data",
          "data": {
            "text/plain": [
              "<Figure size 640x480 with 1 Axes>"
            ],
            "image/png": "[encoded data removed]"
          },
          "metadata": {}
        }
      ]
    },
    {
      "cell_type": "code",
      "source": [
        "sns.distplot(crop2['temperature'])\n",
        "plt.show()"
      ],
      "metadata": {
        "id": "eiyOsalPWakn",
        "outputId": "d620cc14-fcf4-4891-98a1-41d15f36301f",
        "colab": {
          "base_uri": "https://localhost:8080/",
          "height": 449
        }
      },
      "execution_count": 387,
      "outputs": [
        {
          "output_type": "display_data",
          "data": {
            "text/plain": [
              "<Figure size 640x480 with 1 Axes>"
            ],
            "image/png": "[encoded data removed]"
          },
          "metadata": {}
        }
      ]
    },
    {
      "cell_type": "code",
      "source": [
        "sns.distplot(crop2['ph'])\n",
        "plt.show()"
      ],
      "metadata": {
        "id": "DGsE3fWrWmGZ",
        "outputId": "6952d41a-08d8-4acc-e85b-4d963a3d4e94",
        "colab": {
          "base_uri": "https://localhost:8080/",
          "height": 449
        }
      },
      "execution_count": 388,
      "outputs": [
        {
          "output_type": "display_data",
          "data": {
            "text/plain": [
              "<Figure size 640x480 with 1 Axes>"
            ],
            "image/png": "[encoded data removed]"
          },
          "metadata": {}
        }
      ]
    },
    {
      "cell_type": "code",
      "source": [
        "sns.distplot(crop2['rainfall'])\n",
        "plt.show()"
      ],
      "metadata": {
        "id": "DjsZGvjGWrQ4",
        "outputId": "8e821e09-84d5-4c6e-fccd-ee3acb767a63",
        "colab": {
          "base_uri": "https://localhost:8080/",
          "height": 449
        }
      },
      "execution_count": 389,
      "outputs": [
        {
          "output_type": "display_data",
          "data": {
            "text/plain": [
              "<Figure size 640x480 with 1 Axes>"
            ],
            "image/png": "[encoded data removed]"
          },
          "metadata": {}
        }
      ]
    },
    {
      "cell_type": "markdown",
      "metadata": {
        "id": "KnTt79rIAlJk"
      },
      "source": [
        "# Seperating features and target label\n",
        " this code prepares your data by selecting relevant features and the target variable for use in a machine learning model. The features are the input variables used to make predictions, while the target variable is the output variable you want to predict."
      ]
    },
    {
      "cell_type": "code",
      "execution_count": 390,
      "metadata": {
        "id": "w7zDRPZYAlJm"
      },
      "outputs": [],
      "source": [
        "features =  crop2[['N', 'P','K','temperature', 'humidity', 'ph', 'rainfall']]\n",
        "target =  crop2['label']\n",
        "#features = df[['temperature', 'humidity', 'ph', 'rainfall']]\n",
        "labels =  crop2['label']"
      ]
    },
    {
      "cell_type": "markdown",
      "source": [
        "# Initialzing empty lists to append all model's name and corresponding name\n",
        "By initializing these lists, you're setting up a structure to collect and organize the results of model evaluation, likely for comparison or further analysis. As you evaluate different models, you can append their accuracy scores to the acc list and their names to the model list, allowing you to track and analyze the performance of each model.\n"
      ],
      "metadata": {
        "id": "1gXwhnjdRAti"
      }
    },
    {
      "cell_type": "code",
      "execution_count": 391,
      "metadata": {
        "id": "Hha-78JvAlJm"
      },
      "outputs": [],
      "source": [
        "# Initialzing empty lists to append all model's name and corresponding name\n",
        "acc = []\n",
        "model = []"
      ]
    },
    {
      "cell_type": "markdown",
      "source": [
        "### The line **from sklearn.model_selection import train_test_split** imports the train_test_split function from the sklearn.model_selection module. This function is commonly used in machine learning to split datasets into training and testing sets."
      ],
      "metadata": {
        "id": "lVbcQJQgSv1X"
      }
    },
    {
      "cell_type": "code",
      "source": [
        "from sklearn.model_selection import train_test_split"
      ],
      "metadata": {
        "id": "AFxxMk4VS7gN"
      },
      "execution_count": 392,
      "outputs": []
    },
    {
      "cell_type": "markdown",
      "source": [
        "### The line **Xtrain, Xtest, Ytrain, Ytest = train_test_split(features,target,test_size = 0.2,random_state =2)** uses the train_test_split function from scikit-learn to split the dataset into training and testing sets."
      ],
      "metadata": {
        "id": "h6GYytGwMgd2"
      }
    },
    {
      "cell_type": "code",
      "source": [
        "Xtrain, Xtest, Ytrain, Ytest = train_test_split(features,target,test_size = 0.2,random_state =2)"
      ],
      "metadata": {
        "id": "JuGLc9VYT6p0"
      },
      "execution_count": 393,
      "outputs": []
    },
    {
      "cell_type": "markdown",
      "source": [
        "# Now we will train our model"
      ],
      "metadata": {
        "id": "AbKfyjzmmfKI"
      }
    },
    {
      "cell_type": "markdown",
      "source": [
        "In machine learning (ML), model training involves the process of feeding data into a machine learning algorithm or model to enable it to learn patterns, relationships, and insights from the data."
      ],
      "metadata": {
        "id": "XMcpgpb1m35i"
      }
    },
    {
      "cell_type": "markdown",
      "source": [
        "##Decision Tree\n",
        "Decision tree training involves recursively partitioning the input space (feature space) into smaller regions while aiming to minimize impurity or maximize information gain at each step."
      ],
      "metadata": {
        "id": "slZyW1JZn2ap"
      }
    },
    {
      "cell_type": "code",
      "source": [
        "from sklearn.tree import DecisionTreeClassifier\n",
        "\n",
        "DecisionTree = DecisionTreeClassifier(criterion=\"entropy\",random_state=2,max_depth=5)\n",
        "\n",
        "DecisionTree.fit(Xtrain,Ytrain)\n",
        "\n",
        "predicted_values = DecisionTree.predict(Xtest)\n",
        "x = metrics.accuracy_score(Ytest, predicted_values)\n",
        "acc.append(x)\n",
        "model.append('Decision Tree')\n",
        "print(\"DecisionTrees's Accuracy is: \", x)\n",
        "\n",
        "print(classification_report(Ytest,predicted_values))"
      ],
      "metadata": {
        "id": "yzqFG7ULpOux",
        "outputId": "7911749a-c7a1-4f3b-b8af-e5b6c93d74bc",
        "colab": {
          "base_uri": "https://localhost:8080/"
        }
      },
      "execution_count": 394,
      "outputs": [
        {
          "output_type": "stream",
          "name": "stdout",
          "text": [
            "DecisionTrees's Accuracy is:  0.9004524886877828\n",
            "              precision    recall  f1-score   support\n",
            "\n",
            "       apple       1.00      0.95      0.97        20\n",
            "      banana       1.00      1.00      1.00        24\n",
            "   blackgram       0.62      1.00      0.76        16\n",
            "    chickpea       1.00      1.00      1.00        21\n",
            "     coconut       1.00      1.00      1.00        22\n",
            "      coffee       1.00      0.89      0.94        18\n",
            "      cotton       1.00      1.00      1.00        20\n",
            "      grapes       0.89      1.00      0.94        17\n",
            "        jute       1.00      0.19      0.32        21\n",
            " kidneybeans       1.00      0.79      0.88        14\n",
            "      lentil       0.95      0.83      0.88        23\n",
            "       maize       0.77      0.95      0.85        21\n",
            "       mango       1.00      0.96      0.98        23\n",
            "   mothbeans       0.75      0.55      0.63        22\n",
            "    mungbean       1.00      1.00      1.00        23\n",
            "   muskmelon       1.00      0.89      0.94        28\n",
            "      orange       1.00      1.00      1.00        21\n",
            "      papaya       0.94      0.89      0.92        19\n",
            "  pigeonpeas       0.95      1.00      0.97        18\n",
            " pomegranate       1.00      1.00      1.00        23\n",
            "        rice       0.50      1.00      0.67        17\n",
            "  watermelon       0.85      1.00      0.92        11\n",
            "\n",
            "    accuracy                           0.90       442\n",
            "   macro avg       0.92      0.90      0.89       442\n",
            "weighted avg       0.93      0.90      0.89       442\n",
            "\n"
          ]
        }
      ]
    },
    {
      "cell_type": "markdown",
      "source": [
        "# from sklearn.model_selection import cross_val_score\n",
        "\n",
        "This line of code imports the cross_val_score function from the model_selection module of scikit-learn.cross_val_score is used for cross-validation"
      ],
      "metadata": {
        "id": "2LXERLlStpLf"
      }
    },
    {
      "cell_type": "code",
      "source": [
        "from sklearn.model_selection import cross_val_score\n"
      ],
      "metadata": {
        "id": "eKrPmejgt2vC"
      },
      "execution_count": 395,
      "outputs": []
    },
    {
      "cell_type": "markdown",
      "source": [
        "# Cross validation score (Decision Tree)\n",
        "After executing this line of code, score will contain an array of cross-validated scores, allowing you to assess the performance of your decision tree model across multiple train-test splits of the data. These scores can then be used to estimate the model's generalization ability and variability."
      ],
      "metadata": {
        "id": "yHUL7-_hvRgN"
      }
    },
    {
      "cell_type": "code",
      "source": [
        "score = cross_val_score(DecisionTree, features, target,cv=5)"
      ],
      "metadata": {
        "id": "meE7pEU9vSdI"
      },
      "execution_count": 396,
      "outputs": []
    },
    {
      "cell_type": "markdown",
      "source": [
        "#score\n",
        "The variable score contains the cross-validated scores obtained from the cross_val_score function. These scores represent the performance of the decision tree model (DecisionTree) across different folds of the cross-validation process"
      ],
      "metadata": {
        "id": "zxmJGPrtwT7p"
      }
    },
    {
      "cell_type": "code",
      "source": [
        "score"
      ],
      "metadata": {
        "id": "uqXZp3A0wYqp",
        "outputId": "7b05ebe3-e073-4973-85e5-6bc93aaa5120",
        "colab": {
          "base_uri": "https://localhost:8080/"
        }
      },
      "execution_count": 397,
      "outputs": [
        {
          "output_type": "execute_result",
          "data": {
            "text/plain": [
              "array([0.91402715, 0.92081448, 0.93438914, 0.91855204, 0.91402715])"
            ]
          },
          "metadata": {},
          "execution_count": 397
        }
      ]
    },
    {
      "cell_type": "markdown",
      "metadata": {
        "id": "cOZERh-TAlJo"
      },
      "source": [
        "### Saving trained Decision Tree model\n",
        "To save a trained Decision Tree classifier using the pickle module in Python."
      ]
    },
    {
      "cell_type": "code",
      "source": [
        "import pickle\n",
        "# Dump the trained Naive Bayes classifier with Pickle\n",
        "DT_pkl_filename = '/content/gdrive/My Drive/models/DecisionTree.pkl'\n",
        "# Open the file to save as pkl file\n",
        "DT_Model_pkl = open(DT_pkl_filename, 'wb')\n",
        "pickle.dump(DecisionTree, DT_Model_pkl)\n",
        "# Close the pickle instances\n",
        "DT_Model_pkl.close()"
      ],
      "metadata": {
        "id": "qr6C10LUwp_W"
      },
      "execution_count": 398,
      "outputs": []
    },
    {
      "cell_type": "markdown",
      "metadata": {
        "id": "EmEzbdb_AlJo"
      },
      "source": [
        "# Guassian Naive Bayes\n",
        "Gaussian Naive Bayes (GNB) is a variant of the Naive Bayes algorithm that assumes the features are continuous and follows a Gaussian (normal) distribution."
      ]
    },
    {
      "cell_type": "code",
      "source": [
        "from sklearn.naive_bayes import GaussianNB\n",
        "\n",
        "NaiveBayes = GaussianNB()\n",
        "\n",
        "NaiveBayes.fit(Xtrain,Ytrain)\n",
        "\n",
        "predicted_values = NaiveBayes.predict(Xtest)\n",
        "x = metrics.accuracy_score(Ytest, predicted_values)\n",
        "acc.append(x)\n",
        "model.append('Naive Bayes')\n",
        "print(\"Naive Bayes's Accuracy is: \", x)\n",
        "\n",
        "print(classification_report(Ytest,predicted_values))"
      ],
      "metadata": {
        "colab": {
          "base_uri": "https://localhost:8080/"
        },
        "id": "RErh7aSD6lA3",
        "outputId": "ed2c1603-2469-4e01-b8d3-5086e82de9f0"
      },
      "execution_count": 399,
      "outputs": [
        {
          "output_type": "stream",
          "name": "stdout",
          "text": [
            "Naive Bayes's Accuracy is:  0.9819004524886877\n",
            "              precision    recall  f1-score   support\n",
            "\n",
            "       apple       1.00      1.00      1.00        20\n",
            "      banana       1.00      1.00      1.00        24\n",
            "   blackgram       1.00      1.00      1.00        16\n",
            "    chickpea       1.00      1.00      1.00        21\n",
            "     coconut       1.00      1.00      1.00        22\n",
            "      coffee       0.95      1.00      0.97        18\n",
            "      cotton       1.00      1.00      1.00        20\n",
            "      grapes       1.00      1.00      1.00        17\n",
            "        jute       0.83      0.95      0.89        21\n",
            " kidneybeans       1.00      1.00      1.00        14\n",
            "      lentil       1.00      1.00      1.00        23\n",
            "       maize       1.00      1.00      1.00        21\n",
            "       mango       1.00      1.00      1.00        23\n",
            "   mothbeans       1.00      1.00      1.00        22\n",
            "    mungbean       1.00      1.00      1.00        23\n",
            "   muskmelon       1.00      0.89      0.94        28\n",
            "      orange       1.00      1.00      1.00        21\n",
            "      papaya       1.00      1.00      1.00        19\n",
            "  pigeonpeas       1.00      1.00      1.00        18\n",
            " pomegranate       1.00      1.00      1.00        23\n",
            "        rice       0.93      0.76      0.84        17\n",
            "  watermelon       0.85      1.00      0.92        11\n",
            "\n",
            "    accuracy                           0.98       442\n",
            "   macro avg       0.98      0.98      0.98       442\n",
            "weighted avg       0.98      0.98      0.98       442\n",
            "\n"
          ]
        }
      ]
    },
    {
      "cell_type": "markdown",
      "source": [
        "# Cross validation score (NaiveBayes)"
      ],
      "metadata": {
        "id": "LGroJDaC7PVn"
      }
    },
    {
      "cell_type": "code",
      "source": [
        "score = cross_val_score(NaiveBayes,features,target,cv=5)\n",
        "score"
      ],
      "metadata": {
        "colab": {
          "base_uri": "https://localhost:8080/"
        },
        "id": "L9fRX-Gn7QMP",
        "outputId": "6ef17212-07ab-4599-e6db-972696d0163d"
      },
      "execution_count": 400,
      "outputs": [
        {
          "output_type": "execute_result",
          "data": {
            "text/plain": [
              "array([0.97285068, 0.99547511, 0.99547511, 0.99321267, 0.97511312])"
            ]
          },
          "metadata": {},
          "execution_count": 400
        }
      ]
    },
    {
      "cell_type": "markdown",
      "metadata": {
        "id": "vorriCMEAlJo"
      },
      "source": [
        "### Saving trained Guassian Naive Bayes model"
      ]
    },
    {
      "cell_type": "code",
      "source": [
        "import pickle\n",
        "# Dump the trained Naive Bayes classifier with Pickle\n",
        "NB_pkl_filename = '/content/gdrive/My Drive/models//NBClassifier.pkl'\n",
        "# Open the file to save as pkl file\n",
        "NB_Model_pkl = open(NB_pkl_filename, 'wb')\n",
        "pickle.dump(NaiveBayes, NB_Model_pkl)\n",
        "# Close the pickle instances\n",
        "NB_Model_pkl.close()"
      ],
      "metadata": {
        "id": "AsM_xr0i786S"
      },
      "execution_count": 401,
      "outputs": []
    },
    {
      "cell_type": "markdown",
      "metadata": {
        "id": "AUKypYeWAlJp"
      },
      "source": [
        "# Support Vector Machine (SVM)\n",
        "Support Vector Machine or SVM is one of the most popular Supervised Learning algorithms, which is used for Classification as well as Regression problems. However, primarily, it is used for Classification problems in Machine Learning."
      ]
    },
    {
      "cell_type": "code",
      "source": [
        "from sklearn.svm import SVC\n",
        "# data normalization with sklearn\n",
        "from sklearn.preprocessing import MinMaxScaler\n",
        "# fit scaler on training data\n",
        "norm = MinMaxScaler().fit(Xtrain)\n",
        "X_train_norm = norm.transform(Xtrain)\n",
        "# transform testing dataabs\n",
        "X_test_norm = norm.transform(Xtest)\n",
        "SVM = SVC(kernel='poly', degree=3, C=1)\n",
        "SVM.fit(X_train_norm,Ytrain)\n",
        "predicted_values = SVM.predict(X_test_norm)\n",
        "x = metrics.accuracy_score(Ytest, predicted_values)\n",
        "acc.append(x)\n",
        "model.append('SVM')\n",
        "print(\"SVM's Accuracy is: \", x)\n",
        "\n",
        "print(classification_report(Ytest,predicted_values))"
      ],
      "metadata": {
        "colab": {
          "base_uri": "https://localhost:8080/"
        },
        "id": "61FBv2QZ9DYC",
        "outputId": "a99ecea5-57fa-4f1a-b49d-a42f10845d69"
      },
      "execution_count": 402,
      "outputs": [
        {
          "output_type": "stream",
          "name": "stdout",
          "text": [
            "SVM's Accuracy is:  0.9683257918552036\n",
            "              precision    recall  f1-score   support\n",
            "\n",
            "       apple       1.00      1.00      1.00        20\n",
            "      banana       1.00      1.00      1.00        24\n",
            "   blackgram       0.94      1.00      0.97        16\n",
            "    chickpea       1.00      1.00      1.00        21\n",
            "     coconut       1.00      1.00      1.00        22\n",
            "      coffee       0.95      1.00      0.97        18\n",
            "      cotton       0.95      1.00      0.98        20\n",
            "      grapes       1.00      1.00      1.00        17\n",
            "        jute       0.78      0.86      0.82        21\n",
            " kidneybeans       1.00      1.00      1.00        14\n",
            "      lentil       0.96      1.00      0.98        23\n",
            "       maize       1.00      0.95      0.98        21\n",
            "       mango       1.00      1.00      1.00        23\n",
            "   mothbeans       1.00      0.95      0.98        22\n",
            "    mungbean       1.00      1.00      1.00        23\n",
            "   muskmelon       1.00      0.89      0.94        28\n",
            "      orange       1.00      1.00      1.00        21\n",
            "      papaya       0.95      1.00      0.97        19\n",
            "  pigeonpeas       1.00      0.94      0.97        18\n",
            " pomegranate       1.00      1.00      1.00        23\n",
            "        rice       0.86      0.71      0.77        17\n",
            "  watermelon       0.85      1.00      0.92        11\n",
            "\n",
            "    accuracy                           0.97       442\n",
            "   macro avg       0.97      0.97      0.97       442\n",
            "weighted avg       0.97      0.97      0.97       442\n",
            "\n"
          ]
        }
      ]
    },
    {
      "cell_type": "markdown",
      "source": [
        "# Cross validation score (SVM)"
      ],
      "metadata": {
        "id": "I3q-bvyjHsXB"
      }
    },
    {
      "cell_type": "code",
      "source": [
        "# Cross validation score (SVM)\n",
        "score = cross_val_score(SVM,features,target,cv=5)\n",
        "score"
      ],
      "metadata": {
        "id": "pjDyn3XiHor8",
        "outputId": "5bd95311-f8c5-4a0e-c37c-a0d131d3ae23",
        "colab": {
          "base_uri": "https://localhost:8080/"
        }
      },
      "execution_count": 403,
      "outputs": [
        {
          "output_type": "execute_result",
          "data": {
            "text/plain": [
              "array([0.95248869, 0.97737557, 0.98868778, 0.98642534, 0.96606335])"
            ]
          },
          "metadata": {},
          "execution_count": 403
        }
      ]
    },
    {
      "cell_type": "markdown",
      "source": [
        "#Saving trained SVM model"
      ],
      "metadata": {
        "id": "imniWayuIX6U"
      }
    },
    {
      "cell_type": "code",
      "source": [
        "import pickle\n",
        "# Dump the trained SVM classifier with Pickle\n",
        "SVM_pkl_filename = '/content/gdrive/My Drive/models/SVMClassifier.pkl'\n",
        "# Open the file to save as pkl file\n",
        "SVM_Model_pkl = open(SVM_pkl_filename, 'wb')\n",
        "pickle.dump(SVM, SVM_Model_pkl)\n",
        "# Close the pickle instances\n",
        "SVM_Model_pkl.close()"
      ],
      "metadata": {
        "id": "Ngy518HbIZ6k"
      },
      "execution_count": 404,
      "outputs": []
    },
    {
      "cell_type": "markdown",
      "metadata": {
        "id": "6an70inMAlJq"
      },
      "source": [
        "# Logistic Regression\n",
        "Logistic regression is used for binary classification where we use sigmoid function, that takes input as independent variables and produces a probability value between 0 and 1.\n",
        "\n",
        "For example, we have two classes Class 0 and Class 1 if the value of the logistic function for an input is greater than 0.5 (threshold value) then it belongs to Class 1 it belongs to Class 0. It’s referred to as regression because it is the extension of linear regression but is mainly used for classification problems."
      ]
    },
    {
      "cell_type": "code",
      "source": [
        "from sklearn.linear_model import LogisticRegression\n",
        "\n",
        "LogReg = LogisticRegression(random_state=2)\n",
        "\n",
        "LogReg.fit(Xtrain,Ytrain)\n",
        "\n",
        "predicted_values = LogReg.predict(Xtest)\n",
        "\n",
        "x = metrics.accuracy_score(Ytest, predicted_values)\n",
        "acc.append(x)\n",
        "model.append('Logistic Regression')\n",
        "print(\"Logistic Regression's Accuracy is: \", x)\n",
        "\n",
        "print(classification_report(Ytest,predicted_values))"
      ],
      "metadata": {
        "id": "K_IQaUZeJrUB",
        "outputId": "22816755-4d8b-4c64-c448-3137bafad02b",
        "colab": {
          "base_uri": "https://localhost:8080/"
        }
      },
      "execution_count": 405,
      "outputs": [
        {
          "output_type": "stream",
          "name": "stdout",
          "text": [
            "Logistic Regression's Accuracy is:  0.9230769230769231\n",
            "              precision    recall  f1-score   support\n",
            "\n",
            "       apple       1.00      0.95      0.97        20\n",
            "      banana       1.00      1.00      1.00        24\n",
            "   blackgram       0.82      0.88      0.85        16\n",
            "    chickpea       1.00      1.00      1.00        21\n",
            "     coconut       1.00      1.00      1.00        22\n",
            "      coffee       0.89      0.94      0.92        18\n",
            "      cotton       0.86      0.95      0.90        20\n",
            "      grapes       1.00      1.00      1.00        17\n",
            "        jute       0.73      0.76      0.74        21\n",
            " kidneybeans       1.00      1.00      1.00        14\n",
            "      lentil       0.87      0.87      0.87        23\n",
            "       maize       0.95      0.86      0.90        21\n",
            "       mango       1.00      1.00      1.00        23\n",
            "   mothbeans       0.83      0.86      0.84        22\n",
            "    mungbean       1.00      0.96      0.98        23\n",
            "   muskmelon       0.95      0.75      0.84        28\n",
            "      orange       1.00      1.00      1.00        21\n",
            "      papaya       0.90      1.00      0.95        19\n",
            "  pigeonpeas       1.00      0.94      0.97        18\n",
            " pomegranate       1.00      1.00      1.00        23\n",
            "        rice       0.80      0.71      0.75        17\n",
            "  watermelon       0.62      0.91      0.74        11\n",
            "\n",
            "    accuracy                           0.92       442\n",
            "   macro avg       0.92      0.92      0.92       442\n",
            "weighted avg       0.93      0.92      0.92       442\n",
            "\n"
          ]
        }
      ]
    },
    {
      "cell_type": "markdown",
      "source": [
        "# Cross validation score (Logistic Regression)"
      ],
      "metadata": {
        "id": "Ti5GUB8bLRnK"
      }
    },
    {
      "cell_type": "code",
      "source": [
        "score = cross_val_score(LogReg,features,target,cv=5)\n",
        "score"
      ],
      "metadata": {
        "id": "sLJMB-krLSRW",
        "outputId": "6acf6be5-f80d-48fd-9838-28f29a28c76a",
        "colab": {
          "base_uri": "https://localhost:8080/"
        }
      },
      "execution_count": 406,
      "outputs": [
        {
          "output_type": "execute_result",
          "data": {
            "text/plain": [
              "array([0.92760181, 0.93438914, 0.94570136, 0.94343891, 0.9321267 ])"
            ]
          },
          "metadata": {},
          "execution_count": 406
        }
      ]
    },
    {
      "cell_type": "markdown",
      "metadata": {
        "id": "OtP54A2TAlJr"
      },
      "source": [
        "### Saving trained Logistic Regression model"
      ]
    },
    {
      "cell_type": "code",
      "source": [
        "import pickle\n",
        "# Dump the trained Naive Bayes classifier with Pickle\n",
        "LR_pkl_filename = '/content/gdrive/My Drive/models/LogisticRegression.pkl'\n",
        "# Open the file to save as pkl file\n",
        "LR_Model_pkl = open(LR_pkl_filename, 'wb')\n",
        "pickle.dump(LogReg, LR_Model_pkl)\n",
        "# Close the pickle instances\n",
        "LR_Model_pkl.close()"
      ],
      "metadata": {
        "id": "C6tYNHDdMtQ-"
      },
      "execution_count": 407,
      "outputs": []
    },
    {
      "cell_type": "markdown",
      "metadata": {
        "id": "OY1MZgAiAlJr"
      },
      "source": [
        "# Random Forest\n",
        "Random Forest is a popular machine learning algorithm that belongs to the supervised learning technique. It can be used for both Classification and Regression problems in ML. It is based on the concept of ensemble learning, which is a process of combining multiple classifiers to solve a complex problem and to improve the performance of the model."
      ]
    },
    {
      "cell_type": "code",
      "source": [
        "from sklearn.ensemble import RandomForestClassifier\n",
        "\n",
        "RF = RandomForestClassifier(n_estimators=20, random_state=0)\n",
        "RF.fit(Xtrain,Ytrain)\n",
        "\n",
        "predicted_values = RF.predict(Xtest)\n",
        "\n",
        "x = metrics.accuracy_score(Ytest, predicted_values)\n",
        "acc.append(x)\n",
        "model.append('RF')\n",
        "print(\"RF's Accuracy is: \", x)\n",
        "\n",
        "print(classification_report(Ytest,predicted_values))"
      ],
      "metadata": {
        "id": "Ov-Mrb_ANvfd",
        "outputId": "5c329540-629d-4109-aefb-29bcd27ac55f",
        "colab": {
          "base_uri": "https://localhost:8080/"
        }
      },
      "execution_count": 408,
      "outputs": [
        {
          "output_type": "stream",
          "name": "stdout",
          "text": [
            "RF's Accuracy is:  0.9819004524886877\n",
            "              precision    recall  f1-score   support\n",
            "\n",
            "       apple       1.00      1.00      1.00        20\n",
            "      banana       1.00      1.00      1.00        24\n",
            "   blackgram       0.94      1.00      0.97        16\n",
            "    chickpea       1.00      1.00      1.00        21\n",
            "     coconut       1.00      1.00      1.00        22\n",
            "      coffee       0.95      1.00      0.97        18\n",
            "      cotton       1.00      1.00      1.00        20\n",
            "      grapes       1.00      1.00      1.00        17\n",
            "        jute       0.84      1.00      0.91        21\n",
            " kidneybeans       1.00      1.00      1.00        14\n",
            "      lentil       1.00      1.00      1.00        23\n",
            "       maize       1.00      1.00      1.00        21\n",
            "       mango       1.00      1.00      1.00        23\n",
            "   mothbeans       1.00      0.95      0.98        22\n",
            "    mungbean       1.00      1.00      1.00        23\n",
            "   muskmelon       1.00      0.89      0.94        28\n",
            "      orange       1.00      1.00      1.00        21\n",
            "      papaya       1.00      1.00      1.00        19\n",
            "  pigeonpeas       1.00      1.00      1.00        18\n",
            " pomegranate       1.00      1.00      1.00        23\n",
            "        rice       1.00      0.76      0.87        17\n",
            "  watermelon       0.85      1.00      0.92        11\n",
            "\n",
            "    accuracy                           0.98       442\n",
            "   macro avg       0.98      0.98      0.98       442\n",
            "weighted avg       0.98      0.98      0.98       442\n",
            "\n"
          ]
        }
      ]
    },
    {
      "cell_type": "markdown",
      "source": [
        "# Cross validation score (Random Forest)"
      ],
      "metadata": {
        "id": "2brg43VeOfyz"
      }
    },
    {
      "cell_type": "code",
      "source": [
        "score = cross_val_score(RF,features,target,cv=5)\n",
        "score"
      ],
      "metadata": {
        "id": "niSdLMu2OhEr",
        "outputId": "4895f33d-3095-43e3-cb3a-e093ef85d696",
        "colab": {
          "base_uri": "https://localhost:8080/"
        }
      },
      "execution_count": 409,
      "outputs": [
        {
          "output_type": "execute_result",
          "data": {
            "text/plain": [
              "array([0.97285068, 0.99547511, 0.99321267, 0.99321267, 0.97058824])"
            ]
          },
          "metadata": {},
          "execution_count": 409
        }
      ]
    },
    {
      "cell_type": "markdown",
      "metadata": {
        "id": "Us1LDTEoAlJs"
      },
      "source": [
        "### Saving trained Random Forest model"
      ]
    },
    {
      "cell_type": "code",
      "source": [
        "import pickle\n",
        "# Dump the trained Naive Bayes classifier with Pickle\n",
        "RF_pkl_filename = '/content/gdrive/My Drive/models/RandomForest.pkl'\n",
        "# Open the file to save as pkl file\n",
        "RF_Model_pkl = open(RF_pkl_filename, 'wb')\n",
        "pickle.dump(RF, RF_Model_pkl)\n",
        "# Close the pickle instances\n",
        "RF_Model_pkl.close()"
      ],
      "metadata": {
        "id": "YiIb5QqZPrj1"
      },
      "execution_count": 410,
      "outputs": []
    },
    {
      "cell_type": "markdown",
      "metadata": {
        "id": "w87c4DR8AlJt"
      },
      "source": [
        "## Accuracy Comparison"
      ]
    },
    {
      "cell_type": "code",
      "source": [
        "plt.figure(figsize=[10,5],dpi = 100)\n",
        "plt.title('Accuracy Comparison')\n",
        "plt.xlabel('Accuracy')\n",
        "plt.ylabel('Algorithm')\n",
        "sns.barplot(x = acc,y = model,palette='dark')"
      ],
      "metadata": {
        "id": "Z-v49O4pQBot",
        "outputId": "1ffed019-3a8c-4317-8fa6-8a39cafd922c",
        "colab": {
          "base_uri": "https://localhost:8080/",
          "height": 363
        }
      },
      "execution_count": 411,
      "outputs": [
        {
          "output_type": "execute_result",
          "data": {
            "text/plain": [
              "<Axes: title={'center': 'Accuracy Comparison'}, xlabel='Accuracy', ylabel='Algorithm'>"
            ]
          },
          "metadata": {},
          "execution_count": 411
        },
        {
          "output_type": "display_data",
          "data": {
            "text/plain": [
              "<Figure size 1000x500 with 1 Axes>"
            ],
            "image/png": "[encoded data removed]"
          },
          "metadata": {}
        }
      ]
    },
    {
      "cell_type": "code",
      "source": [
        "accuracy_models = dict(zip(model, acc))\n",
        "for k, v in accuracy_models.items():\n",
        "    print (k, '-->', v)"
      ],
      "metadata": {
        "id": "28ab0CqYRBeY",
        "outputId": "095d9134-375e-486a-b140-1b76cbed5ed1",
        "colab": {
          "base_uri": "https://localhost:8080/"
        }
      },
      "execution_count": 412,
      "outputs": [
        {
          "output_type": "stream",
          "name": "stdout",
          "text": [
            "Decision Tree --> 0.9004524886877828\n",
            "Naive Bayes --> 0.9819004524886877\n",
            "SVM --> 0.9683257918552036\n",
            "Logistic Regression --> 0.9230769230769231\n",
            "RF --> 0.9819004524886877\n"
          ]
        }
      ]
    },
    {
      "cell_type": "markdown",
      "metadata": {
        "id": "TRS806tEAlJu"
      },
      "source": [
        "## Making a prediction"
      ]
    },
    {
      "cell_type": "code",
      "source": [
        "data = np.array([[101,87,54,29,76,6.3,100]])\n",
        "prediction = RF.predict(data)[0]\n",
        "print(\"{} is a best crop to be cultivated. \".format(prediction))"
      ],
      "metadata": {
        "id": "njComSreRvDT",
        "outputId": "7d46f750-910f-416d-e334-790450f2afc2",
        "colab": {
          "base_uri": "https://localhost:8080/"
        }
      },
      "execution_count": 413,
      "outputs": [
        {
          "output_type": "stream",
          "name": "stdout",
          "text": [
            "banana is a best crop to be cultivated. \n"
          ]
        }
      ]
    },
    {
      "cell_type": "code",
      "source": [
        "def recommendation(N,P,k,temperature,humidity,ph,rainfal):\n",
        "    features = np.array([[N,P,k,temperature,humidity,ph,rainfal]])\n",
        "    prediction = RF.predict(features)[0]\n",
        "\n",
        "    return prediction"
      ],
      "metadata": {
        "id": "CAQUfDkTR769"
      },
      "execution_count": 414,
      "outputs": []
    },
    {
      "cell_type": "code",
      "source": [
        "N = 2\n",
        "P = 123\n",
        "k = 198\n",
        "temperature = 39.64\n",
        "humidity = 82.21\n",
        "ph = 6.25\n",
        "rainfall = 70.39\n",
        "predict = recommendation(N,P,k,temperature,humidity,ph,rainfall)\n",
        "print(\"{} is a best crop to be cultivated. \".format(predict))"
      ],
      "metadata": {
        "id": "oSS1QjwySmSM",
        "outputId": "c3ac1e86-ab50-4bc3-e9b1-498947f32a7f",
        "colab": {
          "base_uri": "https://localhost:8080/"
        }
      },
      "execution_count": 415,
      "outputs": [
        {
          "output_type": "stream",
          "name": "stdout",
          "text": [
            "grapes is a best crop to be cultivated. \n"
          ]
        }
      ]
    }
  ]
}